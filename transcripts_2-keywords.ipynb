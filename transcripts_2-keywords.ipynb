{
 "cells": [
  {
   "cell_type": "markdown",
   "metadata": {},
   "source": [
    "# Transcripts"
   ]
  },
  {
   "cell_type": "code",
   "execution_count": 1,
   "metadata": {
    "collapsed": true
   },
   "outputs": [],
   "source": [
    "from collections import Counter\n",
    "\n",
    "import networkx as nx\n",
    "import nltk\n",
    "import pandas as pd\n",
    "from nltk import word_tokenize\n",
    "from nltk.corpus import stopwords\n",
    "from nltk.tag import pos_tag"
   ]
  },
  {
   "cell_type": "markdown",
   "metadata": {},
   "source": [
    "## Loading data"
   ]
  },
  {
   "cell_type": "code",
   "execution_count": 2,
   "metadata": {},
   "outputs": [],
   "source": [
    "transcripts_df = pd.read_csv(\n",
    "    'data/out/transcripts_1.csv',\n",
    "    converters={'INTERVIEWERS': eval, 'INTERVIEWEES': eval, 'ALIASES': eval, 'INTERVIEW': eval},\n",
    ")\n",
    "transcripts_df = transcripts_df[['ID', 'INTERVIEWERS', 'INTERVIEWEES', 'ALIASES', 'INTERVIEW']]"
   ]
  },
  {
   "cell_type": "code",
   "execution_count": 3,
   "metadata": {},
   "outputs": [
    {
     "data": {
      "text/html": [
       "<div>\n",
       "<style>\n",
       "    .dataframe thead tr:only-child th {\n",
       "        text-align: right;\n",
       "    }\n",
       "\n",
       "    .dataframe thead th {\n",
       "        text-align: left;\n",
       "    }\n",
       "\n",
       "    .dataframe tbody tr th {\n",
       "        vertical-align: top;\n",
       "    }\n",
       "</style>\n",
       "<table border=\"1\" class=\"dataframe\">\n",
       "  <thead>\n",
       "    <tr style=\"text-align: right;\">\n",
       "      <th></th>\n",
       "      <th>ID</th>\n",
       "      <th>INTERVIEWERS</th>\n",
       "      <th>INTERVIEWEES</th>\n",
       "      <th>ALIASES</th>\n",
       "      <th>INTERVIEW</th>\n",
       "    </tr>\n",
       "  </thead>\n",
       "  <tbody>\n",
       "    <tr>\n",
       "      <th>0</th>\n",
       "      <td>Aimee Johnson – 17 September 2010</td>\n",
       "      <td>[Rick Fehr]</td>\n",
       "      <td>[Aimee Johnson]</td>\n",
       "      <td>[]</td>\n",
       "      <td>[(0, Rick, Ok.  We’re recording now, I’m sitti...</td>\n",
       "    </tr>\n",
       "    <tr>\n",
       "      <th>1</th>\n",
       "      <td>Andrew Adult Male – 18 September 2010</td>\n",
       "      <td>[Dave White]</td>\n",
       "      <td>[Andrew Peters]</td>\n",
       "      <td>[]</td>\n",
       "      <td>[(0, Dave, So we’d like to ask you about thing...</td>\n",
       "    </tr>\n",
       "    <tr>\n",
       "      <th>2</th>\n",
       "      <td>Anita Smith -</td>\n",
       "      <td>[Dave White]</td>\n",
       "      <td>[Anita Smith]</td>\n",
       "      <td>[]</td>\n",
       "      <td>[(0, Dave, How did we use to use the environme...</td>\n",
       "    </tr>\n",
       "    <tr>\n",
       "      <th>3</th>\n",
       "      <td>Apollo Blackeagle – 27 October 2010</td>\n",
       "      <td>[Rick Fehr, David White]</td>\n",
       "      <td>[Apollo Blackeagle]</td>\n",
       "      <td>[]</td>\n",
       "      <td>[(0, Rick, Ok, its October 27th I believe, we’...</td>\n",
       "    </tr>\n",
       "    <tr>\n",
       "      <th>4</th>\n",
       "      <td>Bill Sands</td>\n",
       "      <td>[Dave White]</td>\n",
       "      <td>[Bill Sands]</td>\n",
       "      <td>[]</td>\n",
       "      <td>[(0, Dave, In the past, there’s concern today ...</td>\n",
       "    </tr>\n",
       "  </tbody>\n",
       "</table>\n",
       "</div>"
      ],
      "text/plain": [
       "                                      ID              INTERVIEWERS  \\\n",
       "0      Aimee Johnson – 17 September 2010               [Rick Fehr]   \n",
       "1  Andrew Adult Male – 18 September 2010              [Dave White]   \n",
       "2                         Anita Smith -               [Dave White]   \n",
       "3    Apollo Blackeagle – 27 October 2010  [Rick Fehr, David White]   \n",
       "4                             Bill Sands              [Dave White]   \n",
       "\n",
       "          INTERVIEWEES ALIASES  \\\n",
       "0      [Aimee Johnson]      []   \n",
       "1      [Andrew Peters]      []   \n",
       "2        [Anita Smith]      []   \n",
       "3  [Apollo Blackeagle]      []   \n",
       "4         [Bill Sands]      []   \n",
       "\n",
       "                                           INTERVIEW  \n",
       "0  [(0, Rick, Ok.  We’re recording now, I’m sitti...  \n",
       "1  [(0, Dave, So we’d like to ask you about thing...  \n",
       "2  [(0, Dave, How did we use to use the environme...  \n",
       "3  [(0, Rick, Ok, its October 27th I believe, we’...  \n",
       "4  [(0, Dave, In the past, there’s concern today ...  "
      ]
     },
     "execution_count": 3,
     "metadata": {},
     "output_type": "execute_result"
    }
   ],
   "source": [
    "transcripts_df.head()"
   ]
  },
  {
   "cell_type": "code",
   "execution_count": 4,
   "metadata": {},
   "outputs": [
    {
     "data": {
      "text/plain": [
       "(68, 5)"
      ]
     },
     "execution_count": 4,
     "metadata": {},
     "output_type": "execute_result"
    }
   ],
   "source": [
    "transcripts_df.shape"
   ]
  },
  {
   "cell_type": "code",
   "execution_count": 5,
   "metadata": {},
   "outputs": [
    {
     "data": {
      "text/html": [
       "<div>\n",
       "<style>\n",
       "    .dataframe thead tr:only-child th {\n",
       "        text-align: right;\n",
       "    }\n",
       "\n",
       "    .dataframe thead th {\n",
       "        text-align: left;\n",
       "    }\n",
       "\n",
       "    .dataframe tbody tr th {\n",
       "        vertical-align: top;\n",
       "    }\n",
       "</style>\n",
       "<table border=\"1\" class=\"dataframe\">\n",
       "  <thead>\n",
       "    <tr style=\"text-align: right;\">\n",
       "      <th></th>\n",
       "      <th>ID</th>\n",
       "      <th>INTERVIEWERS</th>\n",
       "      <th>INTERVIEWEES</th>\n",
       "      <th>ALIASES</th>\n",
       "      <th>INTERVIEW</th>\n",
       "    </tr>\n",
       "  </thead>\n",
       "  <tbody>\n",
       "    <tr>\n",
       "      <th>0</th>\n",
       "      <td>Aimee Johnson – 17 September 2010</td>\n",
       "      <td>[Rick Fehr]</td>\n",
       "      <td>[Aimee Johnson]</td>\n",
       "      <td>[]</td>\n",
       "      <td>[(0, Rick, Ok.  We’re recording now, I’m sitti...</td>\n",
       "    </tr>\n",
       "    <tr>\n",
       "      <th>1</th>\n",
       "      <td>Andrew Adult Male – 18 September 2010</td>\n",
       "      <td>[Dave White]</td>\n",
       "      <td>[Andrew Peters]</td>\n",
       "      <td>[]</td>\n",
       "      <td>[(0, Dave, So we’d like to ask you about thing...</td>\n",
       "    </tr>\n",
       "    <tr>\n",
       "      <th>2</th>\n",
       "      <td>Anita Smith -</td>\n",
       "      <td>[Dave White]</td>\n",
       "      <td>[Anita Smith]</td>\n",
       "      <td>[]</td>\n",
       "      <td>[(0, Dave, How did we use to use the environme...</td>\n",
       "    </tr>\n",
       "    <tr>\n",
       "      <th>3</th>\n",
       "      <td>Apollo Blackeagle – 27 October 2010</td>\n",
       "      <td>[Rick Fehr, David White]</td>\n",
       "      <td>[Apollo Blackeagle]</td>\n",
       "      <td>[]</td>\n",
       "      <td>[(0, Rick, Ok, its October 27th I believe, we’...</td>\n",
       "    </tr>\n",
       "    <tr>\n",
       "      <th>4</th>\n",
       "      <td>Bill Sands</td>\n",
       "      <td>[Dave White]</td>\n",
       "      <td>[Bill Sands]</td>\n",
       "      <td>[]</td>\n",
       "      <td>[(0, Dave, In the past, there’s concern today ...</td>\n",
       "    </tr>\n",
       "  </tbody>\n",
       "</table>\n",
       "</div>"
      ],
      "text/plain": [
       "                                      ID              INTERVIEWERS  \\\n",
       "0      Aimee Johnson – 17 September 2010               [Rick Fehr]   \n",
       "1  Andrew Adult Male – 18 September 2010              [Dave White]   \n",
       "2                         Anita Smith -               [Dave White]   \n",
       "3    Apollo Blackeagle – 27 October 2010  [Rick Fehr, David White]   \n",
       "4                             Bill Sands              [Dave White]   \n",
       "\n",
       "          INTERVIEWEES ALIASES  \\\n",
       "0      [Aimee Johnson]      []   \n",
       "1      [Andrew Peters]      []   \n",
       "2        [Anita Smith]      []   \n",
       "3  [Apollo Blackeagle]      []   \n",
       "4         [Bill Sands]      []   \n",
       "\n",
       "                                           INTERVIEW  \n",
       "0  [(0, Rick, Ok.  We’re recording now, I’m sitti...  \n",
       "1  [(0, Dave, So we’d like to ask you about thing...  \n",
       "2  [(0, Dave, How did we use to use the environme...  \n",
       "3  [(0, Rick, Ok, its October 27th I believe, we’...  \n",
       "4  [(0, Dave, In the past, there’s concern today ...  "
      ]
     },
     "execution_count": 5,
     "metadata": {},
     "output_type": "execute_result"
    }
   ],
   "source": [
    "transcripts_df.head()"
   ]
  },
  {
   "cell_type": "markdown",
   "metadata": {},
   "source": [
    "## Processing data"
   ]
  },
  {
   "cell_type": "code",
   "execution_count": 6,
   "metadata": {
    "collapsed": true
   },
   "outputs": [],
   "source": [
    "all_text = '\\n'.join([text for interview in transcripts_df.INTERVIEW for (index, name, text) in interview])"
   ]
  },
  {
   "cell_type": "code",
   "execution_count": 7,
   "metadata": {
    "collapsed": true
   },
   "outputs": [],
   "source": [
    "with open('data/out/all_text.txt', 'w') as f:\n",
    "    f.write(all_text)"
   ]
  },
  {
   "cell_type": "markdown",
   "metadata": {},
   "source": [
    "### Keywords"
   ]
  },
  {
   "cell_type": "markdown",
   "metadata": {},
   "source": [
    "#### All"
   ]
  },
  {
   "cell_type": "code",
   "execution_count": 8,
   "metadata": {
    "collapsed": true
   },
   "outputs": [],
   "source": [
    "def clean_text(text):\n",
    "    text = text.lower()\n",
    "    tokens = word_tokenize(text)\n",
    "    words = [token for token in tokens if token not in stopwords.words('english') and len(token) > 1]\n",
    "    text = ' '.join(words)\n",
    "    return text"
   ]
  },
  {
   "cell_type": "code",
   "execution_count": 9,
   "metadata": {},
   "outputs": [
    {
     "name": "stdout",
     "output_type": "stream",
     "text": [
      "CPU times: user 1min 13s, sys: 5.08 s, total: 1min 18s\n",
      "Wall time: 1min 18s\n"
     ]
    }
   ],
   "source": [
    "%%time\n",
    "\n",
    "cleaned_all_text = clean_text(all_text)"
   ]
  },
  {
   "cell_type": "code",
   "execution_count": 10,
   "metadata": {
    "collapsed": true
   },
   "outputs": [],
   "source": [
    "all_words = cleaned_all_text.split()"
   ]
  },
  {
   "cell_type": "code",
   "execution_count": 11,
   "metadata": {
    "collapsed": true
   },
   "outputs": [],
   "source": [
    "counter_all = Counter(all_words)"
   ]
  },
  {
   "cell_type": "code",
   "execution_count": 12,
   "metadata": {},
   "outputs": [
    {
     "data": {
      "text/plain": [
       "[('like', 2817),\n",
       " ('would', 2627),\n",
       " ('know', 2450),\n",
       " ('yea', 2440),\n",
       " ('people', 1995),\n",
       " ('yeah', 1924),\n",
       " ('go', 1883),\n",
       " ('used', 1824),\n",
       " ('re', 1735),\n",
       " ('one', 1702),\n",
       " ('remember', 1549),\n",
       " ('get', 1545),\n",
       " ('time', 1537),\n",
       " ('uh', 1517),\n",
       " ('think', 1465),\n",
       " ('things', 1404),\n",
       " ('well', 1390),\n",
       " ('back', 1364),\n",
       " ('got', 1273),\n",
       " ('going', 1250)]"
      ]
     },
     "execution_count": 12,
     "metadata": {},
     "output_type": "execute_result"
    }
   ],
   "source": [
    "counter_all.most_common(20)"
   ]
  },
  {
   "cell_type": "markdown",
   "metadata": {},
   "source": [
    "#### By POS tags"
   ]
  },
  {
   "cell_type": "code",
   "execution_count": 13,
   "metadata": {},
   "outputs": [
    {
     "name": "stdout",
     "output_type": "stream",
     "text": [
      "CPU times: user 39.5 s, sys: 64 ms, total: 39.6 s\n",
      "Wall time: 39.6 s\n"
     ]
    }
   ],
   "source": [
    "%%time\n",
    "\n",
    "tagged_all_text = pos_tag(word_tokenize(all_text))"
   ]
  },
  {
   "cell_type": "markdown",
   "metadata": {},
   "source": [
    "##### Adjectives"
   ]
  },
  {
   "cell_type": "code",
   "execution_count": 14,
   "metadata": {},
   "outputs": [],
   "source": [
    "adjectives = [word for word, pos in tagged_all_text if len(word) > 1 and pos.startswith('J')]"
   ]
  },
  {
   "cell_type": "code",
   "execution_count": 15,
   "metadata": {
    "scrolled": true
   },
   "outputs": [],
   "source": [
    "counter_adjs = Counter(adjectives)"
   ]
  },
  {
   "cell_type": "code",
   "execution_count": 16,
   "metadata": {},
   "outputs": [
    {
     "data": {
      "text/plain": [
       "[('other', 976),\n",
       " ('re', 838),\n",
       " ('good', 785),\n",
       " ('little', 571),\n",
       " ('big', 553),\n",
       " ('uh', 550),\n",
       " ('old', 462),\n",
       " ('more', 435),\n",
       " ('different', 382),\n",
       " ('same', 330),\n",
       " ('ll', 327),\n",
       " ('much', 322),\n",
       " ('many', 307),\n",
       " ('whole', 272),\n",
       " ('um', 272),\n",
       " ('ve', 260),\n",
       " ('long', 243),\n",
       " ('own', 232),\n",
       " ('right', 217),\n",
       " ('first', 193)]"
      ]
     },
     "execution_count": 16,
     "metadata": {},
     "output_type": "execute_result"
    }
   ],
   "source": [
    "counter_adjs.most_common(20)"
   ]
  },
  {
   "cell_type": "markdown",
   "metadata": {},
   "source": [
    "##### Nouns"
   ]
  },
  {
   "cell_type": "code",
   "execution_count": 17,
   "metadata": {},
   "outputs": [],
   "source": [
    "nouns = [word for word, pos in tagged_all_text if len(word) > 1 and pos.startswith('N')]"
   ]
  },
  {
   "cell_type": "code",
   "execution_count": 18,
   "metadata": {
    "scrolled": true
   },
   "outputs": [],
   "source": [
    "counter_nouns = Counter(nouns)"
   ]
  },
  {
   "cell_type": "code",
   "execution_count": 19,
   "metadata": {},
   "outputs": [
    {
     "data": {
      "text/plain": [
       "[('people', 1919),\n",
       " ('time', 1535),\n",
       " ('things', 1397),\n",
       " ('Yea', 1200),\n",
       " ('way', 1199),\n",
       " ('lot', 1182),\n",
       " ('hmm', 1046),\n",
       " ('something', 910),\n",
       " ('thing', 787),\n",
       " ('community', 684),\n",
       " ('water', 667),\n",
       " ('kind', 591),\n",
       " ('stuff', 590),\n",
       " ('yea', 534),\n",
       " ('today', 463),\n",
       " ('Well', 459),\n",
       " ('area', 450),\n",
       " ('Dave', 429),\n",
       " ('years', 424),\n",
       " ('anything', 418)]"
      ]
     },
     "execution_count": 19,
     "metadata": {},
     "output_type": "execute_result"
    }
   ],
   "source": [
    "counter_nouns.most_common(20)"
   ]
  },
  {
   "cell_type": "markdown",
   "metadata": {},
   "source": [
    "##### Verbs"
   ]
  },
  {
   "cell_type": "code",
   "execution_count": 20,
   "metadata": {},
   "outputs": [],
   "source": [
    "verbs = [word for word, pos in tagged_all_text if len(word) > 1 and pos.startswith('V')]"
   ]
  },
  {
   "cell_type": "code",
   "execution_count": 21,
   "metadata": {
    "scrolled": true
   },
   "outputs": [],
   "source": [
    "counter_verbs = Counter(verbs)"
   ]
  },
  {
   "cell_type": "code",
   "execution_count": 22,
   "metadata": {},
   "outputs": [
    {
     "data": {
      "text/plain": [
       "[('was', 6131),\n",
       " ('have', 3258),\n",
       " ('is', 2699),\n",
       " ('be', 2587),\n",
       " ('had', 2480),\n",
       " ('know', 2418),\n",
       " ('were', 2391),\n",
       " ('do', 2096),\n",
       " ('go', 1852),\n",
       " ('used', 1813),\n",
       " ('don', 1759),\n",
       " ('remember', 1489),\n",
       " ('get', 1431),\n",
       " ('are', 1420),\n",
       " ('think', 1420),\n",
       " ('got', 1256),\n",
       " ('going', 1237),\n",
       " ('did', 918),\n",
       " ('see', 858),\n",
       " ('say', 844)]"
      ]
     },
     "execution_count": 22,
     "metadata": {},
     "output_type": "execute_result"
    }
   ],
   "source": [
    "counter_verbs.most_common(20)"
   ]
  },
  {
   "cell_type": "markdown",
   "metadata": {},
   "source": [
    "### People"
   ]
  },
  {
   "cell_type": "code",
   "execution_count": 55,
   "metadata": {
    "collapsed": true
   },
   "outputs": [],
   "source": [
    "def first_names(names):\n",
    "    return [x.split()[0] for x in names]"
   ]
  },
  {
   "cell_type": "code",
   "execution_count": 56,
   "metadata": {
    "collapsed": true
   },
   "outputs": [],
   "source": [
    "interviewees = list(set(y for x in transcripts_df.INTERVIEWEES for y in x))"
   ]
  },
  {
   "cell_type": "code",
   "execution_count": 57,
   "metadata": {
    "collapsed": true
   },
   "outputs": [],
   "source": [
    "interviewees_first_names = first_names(interviewees)"
   ]
  },
  {
   "cell_type": "code",
   "execution_count": 58,
   "metadata": {},
   "outputs": [],
   "source": [
    "aliases = list(set(z for x in transcripts_df.ALIASES for y in x for z in y))"
   ]
  },
  {
   "cell_type": "code",
   "execution_count": 59,
   "metadata": {
    "collapsed": true
   },
   "outputs": [],
   "source": [
    "all_names = set(interviewees + interviewees_first_names + aliases)"
   ]
  },
  {
   "cell_type": "code",
   "execution_count": 77,
   "metadata": {},
   "outputs": [
    {
     "data": {
      "text/plain": [
       "{'Aimee',\n",
       " 'Aimee Johnson',\n",
       " 'Andrew',\n",
       " 'Andrew Peters',\n",
       " 'Anita',\n",
       " 'Anita Smith',\n",
       " 'Apollo',\n",
       " 'Apollo Blackeagle',\n",
       " 'Archie',\n",
       " 'Becky',\n",
       " 'Bill',\n",
       " 'Bill Sands',\n",
       " 'Brenda',\n",
       " 'Brenda Wheat',\n",
       " 'Cal',\n",
       " 'Cameron',\n",
       " 'Carl',\n",
       " 'Carl Smith (Resource Protection Officer)',\n",
       " 'Carmen',\n",
       " 'Carmen Wrightman',\n",
       " 'Carrie',\n",
       " 'Carrie Isaac',\n",
       " 'Charles',\n",
       " 'Charles Wright',\n",
       " 'Cheryl',\n",
       " 'Chief',\n",
       " 'Chief Gilbert',\n",
       " 'Chief Joseph Gilbert',\n",
       " 'Chris',\n",
       " 'Chris Riley',\n",
       " 'Daniel',\n",
       " 'Darren',\n",
       " 'Dean',\n",
       " 'Dean Jacobs',\n",
       " 'Dot',\n",
       " 'Dot Peters',\n",
       " 'Doug',\n",
       " 'Doug (Resource Protection Officer)',\n",
       " 'Elaine',\n",
       " 'Elaine Jacobs',\n",
       " 'Eli',\n",
       " 'Eli Baxter',\n",
       " 'Eliza',\n",
       " 'Eliza John',\n",
       " 'Eric',\n",
       " 'Eric Isaac',\n",
       " 'Frank',\n",
       " 'Georgina',\n",
       " 'Greg',\n",
       " 'Greg Isaac',\n",
       " 'Gus',\n",
       " 'Harold',\n",
       " 'Harold Peters',\n",
       " 'Isabelle',\n",
       " 'Jane',\n",
       " 'Jane Jacobs',\n",
       " 'Jasper',\n",
       " 'Jasper John',\n",
       " 'Jean',\n",
       " 'Jean Wrightman',\n",
       " 'Jen',\n",
       " 'Jennie',\n",
       " 'Jennie Blackbird',\n",
       " 'Jerome',\n",
       " 'Jerry',\n",
       " 'Jessica',\n",
       " 'Joanne',\n",
       " 'Joanne Day',\n",
       " 'Joe',\n",
       " 'Joe Isaac',\n",
       " 'John',\n",
       " 'Julia',\n",
       " 'Karen',\n",
       " 'Karen Lalleen',\n",
       " 'Kenneth',\n",
       " 'Kennon',\n",
       " 'Kennon Johnson',\n",
       " 'Kevin',\n",
       " 'Kevin Smith',\n",
       " 'Lee',\n",
       " 'Lee White',\n",
       " 'Linda',\n",
       " 'Linda White',\n",
       " 'Liz',\n",
       " 'Lizzie',\n",
       " 'Lizzie Isaac',\n",
       " 'Lloyd',\n",
       " 'Lloyd Day',\n",
       " 'Lois',\n",
       " 'Lois Wrightman',\n",
       " 'Lyndsay',\n",
       " 'Lyndsay Sword',\n",
       " 'Mark',\n",
       " 'Mel',\n",
       " 'Mel Hoeksma',\n",
       " 'Mickey',\n",
       " 'Mickey Aquash',\n",
       " 'Morris',\n",
       " 'Morris Wrightman',\n",
       " 'Myrna',\n",
       " 'Naomi',\n",
       " 'Naomi Williams',\n",
       " 'PD',\n",
       " 'Pat',\n",
       " 'Pat Riley',\n",
       " 'Patricia',\n",
       " 'Patty',\n",
       " 'Patty Isaac',\n",
       " 'Paul',\n",
       " 'Puppydog',\n",
       " 'Rachel',\n",
       " 'Ralph',\n",
       " 'Ralph Johnson',\n",
       " 'Ralph Jones',\n",
       " 'Rita',\n",
       " 'Rita Sands',\n",
       " 'Ron',\n",
       " 'Rose',\n",
       " 'Sarah',\n",
       " 'Shirley',\n",
       " 'Stanley',\n",
       " 'Stuart',\n",
       " 'Suzie',\n",
       " 'Suzie Isaac',\n",
       " 'Suzie Jones',\n",
       " 'Terry',\n",
       " 'Terry Sands',\n",
       " 'Tom',\n",
       " 'Vernon',\n",
       " 'Vernon Jones',\n",
       " 'Woman',\n",
       " 'Woman speaking'}"
      ]
     },
     "execution_count": 77,
     "metadata": {},
     "output_type": "execute_result"
    }
   ],
   "source": [
    "all_names"
   ]
  },
  {
   "cell_type": "code",
   "execution_count": 75,
   "metadata": {},
   "outputs": [
    {
     "name": "stdout",
     "output_type": "stream",
     "text": [
      "CPU times: user 29.8 s, sys: 48 ms, total: 29.8 s\n",
      "Wall time: 29.8 s\n"
     ]
    }
   ],
   "source": [
    "%%time\n",
    "\n",
    "grammar = 'PROPER_NOUN: {<NNP>+}'\n",
    "cp = nltk.RegexpParser(grammar)\n",
    "\n",
    "g = nx.DiGraph()\n",
    "\n",
    "interviewers_names = ['Dave', 'Rick', 'Clint']\n",
    "for interview in transcripts_df.INTERVIEW:\n",
    "    for index, name, text in interview:\n",
    "        if text:\n",
    "            if name not in interviewers_names:\n",
    "                if not g.has_node(name):\n",
    "                    g.add_node(name)\n",
    "                tagged_text = pos_tag(word_tokenize(text))\n",
    "                parsed_text = cp.parse(tagged_text)\n",
    "                for e in parsed_text:\n",
    "                    if isinstance(e, nltk.tree.Tree) and e.label() == 'PROPER_NOUN':\n",
    "                        names = [word for word, tag in e if word in all_names]\n",
    "                        if names:\n",
    "                            proper_noun = ' '.join(names)\n",
    "                            if not g.has_edge(name, proper_noun):\n",
    "                                g.add_edge(name, proper_noun, weight=0)\n",
    "                            g[name][proper_noun]['weight'] += 1"
   ]
  },
  {
   "cell_type": "code",
   "execution_count": 76,
   "metadata": {
    "collapsed": true
   },
   "outputs": [],
   "source": [
    "nx.write_gexf(g, 'data/out/graph.gexf')"
   ]
  },
  {
   "cell_type": "code",
   "execution_count": null,
   "metadata": {
    "collapsed": true
   },
   "outputs": [],
   "source": []
  },
  {
   "cell_type": "code",
   "execution_count": 80,
   "metadata": {},
   "outputs": [
    {
     "data": {
      "text/plain": [
       "[(0,\n",
       "  'Rick',\n",
       "  'Ok.  We’re recording now, I’m sitting with Aimee Johnson, and what we’ll be talking about today is the customary law project that you were involved with when you worked at the Heritage Centre, but attached to that as I was explaining yesterday, is a very similar theme, and that is direction for environmental policy in the future based on your concerns and any knowledge or foresight or thoughts you might have to better shape what’s going to happen in the future, all right?'),\n",
       " (1, 'Aimee Johnson', 'Ok.'),\n",
       " (2,\n",
       "  'Rick',\n",
       "  'Ok, so first of all we’ve had discussions on this before, and you already have a considerable of thought on traditions, customs that connected Anishinaabeg to the territory, to the lands and to the waters.  What are some of, from you experience, and from your knowledge of how people related to the territory in a positive way, in a way that was enriching, what are some of those ways, I guess… that was a messed up question.'),\n",
       " (3, 'Aimee Johnson', '(Laughs).  Can you ask that again?'),\n",
       " (4,\n",
       "  'Rick',\n",
       "  'Let me think of a better way to ask that.  That completely sucked.  I was going to go with, uh, anyway.'),\n",
       " (5, 'Aimee Johnson', 'Good job.'),\n",
       " (6, 'Rick', 'I’m a pro.'),\n",
       " (7, 'Aimee Johnson', 'You have to transcribe all of this to, right?'),\n",
       " (8,\n",
       "  'Rick',\n",
       "  'I do.  Anyway, so, what are some of the customs that you are aware of that connect the people to the land and waters that you would like to see in some way continue?'),\n",
       " (9,\n",
       "  'Aimee Johnson',\n",
       "  'That connect the people to the land and waters?  Hmm.  Well I think something that I’ve seen that has really really diminished is the concept and use of storytelling, and actually passing on knowledge, because I have this hunch and I haven’t been able to find it, I haven’t been able to find any direct evidence of it in quite some time, but our stories were, our stories and our legends were clearly used as a teaching tool and they probably also had some really deep scientific knowledge about how processes in life work and how the world interacts with itself and how people should interact with the world by learning about how the processes of things happen within the environment.  I think that we’ve… I know that its, I haven’t seen much of that really, ever, and part of the problem is that people really aren’t out on the land anymore and people aren’t utilizing it as much as they used to.  There’s a major decline in hunting, and knowledge of how to survive without having to go to the grocery store and how to make actual money in order to keep your family eating.  So I think part of it is, on one hand there’s a major need to connect people with the environment again so they can start learning from it again, and I think that once that thing starts happening, what I hope to be a movement, again I think that a lot of those stories will come back.  I think they must be there, but I think we’ve forgotten.'),\n",
       " (10,\n",
       "  'Rick',\n",
       "  'Ok, do you think that storytelling fulfilled an ecological role?'),\n",
       " (11,\n",
       "  'Aimee Johnson',\n",
       "  'I think it fulfilled a lot of different roles.  I think it was a way to preserve, being an oral tradition as they say, it was a way to preserve our customs and our laws and our community responsibilities, and ways to manage things.  I think it was more than just ‘and the moral of the story is that,’ you know (laughs) ‘and that’s how the vulture got its red head,’ you know (laughs) there was so much more to it than what we’ve condensed it to today.  We just really lost the ability to interpret and I think its because we’re not connected to the land anymore.  We’re not dependant on it, I can go to the grocery store and buy my dinner, I don’t have to spend my time hunting it, and as a result I’ve got a lot more time to sit on facebook and play my guitar.'),\n",
       " (12,\n",
       "  'Rick',\n",
       "  'So do you think there’s some way to entice people to become engaged with the environment?  And with their home?'),\n",
       " (13,\n",
       "  'Aimee Johnson',\n",
       "  'I hope so.  I think it’s on a smaller scale.  Part of the major challenge is bringing it into a modern context because we require a lot of stimulus these days, and I can’t say I’m (laughs), clearly I’m a consumer.'),\n",
       " (14,\n",
       "  'Rick',\n",
       "  'We’re sitting in the middle of a lodge right now, she’s lying.'),\n",
       " (15,\n",
       "  'Aimee Johnson',\n",
       "  'I buy guitars like its going out of style.  I enjoy technology, and I find a lot of uses for it.  But I also see its part of what’s really disconnected us, whereas before, you know my house would have never been this big.  I would have been in a place where I could sleep and most of our living would have taken place outside.  So because our situations have changed so drastically its difficult, number one, to see that we require the environment, and its health in order for us to remain healthy, but I forgot what the question was.'),\n",
       " (16,\n",
       "  'Rick',\n",
       "  'Oh the question was just an opening to any ways that you think people can be engaged with the environment again.'),\n",
       " (17,\n",
       "  'Aimee Johnson',\n",
       "  'Ok, so I think there’s a couple of other things that probably need to occur.  Bringing back some sort of connections between number one: Elders and youth, that should occur, but also just community coming together, because that was one of the major roles of being a community member, you came together and you looked after each other and I hear all these stories about they had these woodcutting bees so everybody would have wood for the winter, and they used to have quilting bees or there were all these opportunities for community members to come together and enjoy each others company and just talk shit.  I think it did a lot to instill that sense of belonging but also a sense of responsibility to other people, and we’re really missing that.'),\n",
       " (18,\n",
       "  'Rick',\n",
       "  'I’m curious then, what memories do you have from when you were a child, that you think on now and you think ‘yeah, I was connected to that place, I was engaged.’'),\n",
       " (19,\n",
       "  'Aimee Johnson',\n",
       "  'For me, I spent a lot of time outside, and when I was little we didn’t have hydro and running water, so it wasn’t like you spent all your time watching TV.  We spent most of our time outside, and there were three of us really close in age so we were always up to something.  Probably my favorite place to go was out in the back and just sit out in a tree and write, and you know just sit there and listen and hear things and check stuff out.  Go swimming in the ditch, which I think about it now is really disgusting because it’s the same ditch that runs by the Snye subdivision, but when they first dug it I don’t think it was connected to the Snye subdivision at that point.  It ran through from the river down the end of the road, at the Snye, it got closed in probably when I was around five or six or maybe even seven because the road would washout every year.  We could only drive down our road maybe six months out of the year.  It was pretty rough, fairly rustic, and I think those experiences, along with… my Dad always hunted, we always, we typically ate quite a bit of wild game, tons of fish, and we knew the bush, we knew the whole area that we lived in because we spent a lot of time exploring it, we were always out in the marsh, we were always out on the water.  It was just a really big part of life when I was growing up, I suppose.'),\n",
       " (20,\n",
       "  'Rick',\n",
       "  'Did those experiences instill a particular value?  The kind of thing that you think about in retrospect, did that type of engagement instill values in you?'),\n",
       " (21, 'Aimee Johnson', 'Oh I would say so.  I would definitely say so.'),\n",
       " (22, 'Rick', 'What kind of values?'),\n",
       " (23,\n",
       "  'Aimee Johnson',\n",
       "  'Just, I supposed the most basic would be an appreciation of it, and it feels like home, and I know that if I look around and see, kind of compare my upbringing to someone who grew up in Toronto, I think ‘geez, I couldn’t handle this.’  How on earth would you, number one: how would you feel comfortable as a parent letting your kid grow up in Toronto because where do they play?  My experiences of youth are out playing in the bush and eating wild berries and stuff like that, it just seems like it’s such an odd concept to think about somebody growing up in the city, and I think I definitely feel like its enriched me.'),\n",
       " (24,\n",
       "  'Rick',\n",
       "  'One of the things that has been coming up from time to time in every interview, and I’m curious what your thoughts are on this because its in your questions, sharing.  Was that something or is that something you comment on?'),\n",
       " (25, 'Aimee Johnson', 'Oh, for sure.  That’s…'),\n",
       " (26,\n",
       "  'Rick',\n",
       "  'I don’t mean to plant that on you but I’m just curious what your thoughts are on that when it comes to the way people lived?'),\n",
       " (27,\n",
       "  'Aimee Johnson',\n",
       "  'Yeah, nobody ever used to lock their door, I think this is a good example of it, because there was an understanding that if somebody… say it was the middle of winter and somebody was wandering through the bush and was cold or hungry and they needed food you left your door unlocked in case that happened because you looked after each other and you trusted that people weren’t going to screw you over and steal all your stuff.  But you left it unlocked in case, and that would happen.  I remember coming home sometimes, and they wouldn’t leave a note, but maybe the next time they were around they would come in and leave a few ducks, and I know that now my dad is one of the oldest people in our family, on his mom’s side, and still to this day the extended family will every once in a while leave some ducks or leave some deer, or whatever, especially now that he’s older, he’s getting up there.  He doesn’t hunt much anymore and he doesn’t fish much anymore, you looked out for each other, and you didn’t take more than you needed but whatever you had you shared, even if it wasn’t enough.  You always shared that and that’s definitely something that’s been instilled in me as a young child and that’s been a pretty clear concept throughout our upbringing.'),\n",
       " (28,\n",
       "  'Rick',\n",
       "  'Did you ever hear anything about the consequences of not sharing or of wasting, or of hoarding?'),\n",
       " (29,\n",
       "  'Aimee Johnson',\n",
       "  'Of hoarding?  Well in more recent years, and nothing very specific, mind you at one point when we were younger there were things that you just didn’t do, you didn’t kill something unless you were going to eat it, unless it was mosquitoes, because there’s just way too many of them.  (laughs)'),\n",
       " (30, 'Rick', 'No, you don’t eat mosquitos.'),\n",
       " (31,\n",
       "  'Aimee Johnson',\n",
       "  '(laughs) At least we hope you don’t, although that’s not hard and fast in rules but sometimes we make exceptions.  But yeah, because hunting was pretty big in our family we grew up around guns, and knew how to shoot them and how to take care of ourselves.  If I need to go and kill something to eat it, I’m sure that I could do it, and we were trusted to know what we were supposed to do with those things.  I remember once my brother killed a squirrel and he was very excited about it, and he brought it home and showed my dad and was like ‘look dad I killed a squirrel!’  We were young, we were very young at this point, and my dad was like ‘why did you kill that?’ and he said ‘because I could,’ you know, he was target practicing basically and was like ‘I can hit stuff’ when he shot at that squirrel and hit it.'),\n",
       " (32, 'Rick', 'And it didn’t move, or not fast enough.'),\n",
       " (33,\n",
       "  'Aimee Johnson',\n",
       "  'My dad made him cook it and eat it because you don’t kill something if you don’t need to.  I also remember once he killed a dove, this was probably even before he killed the squirrel, I don’t remember if he had to eat the dove, maybe he just told my dad that he killed the dove, you know after the squirrel incident maybe he told him about the dove because he was feeling bad about it.  Then my dad told him that morning doves mate for life, and that got him to thinking, and he was like ‘so what do you think that means?’ and he was like ‘there’s another dove out there that’s going to be alone for the rest of its life.’  That’s a pretty, like to be able to connect that kind of thing, that’s sad.  I’m pretty sure I probably cried at that point because that’s somebody’s mom or dad, right, and even that ability to connect that they’re beings to, just because we’re human beings doesn’t mean we’re any different.  There’s some baby morning doves out there that, while their family structure might be different, you just killed somebody’s mate, they’re just like us.'),\n",
       " (34, 'Rick', 'That is sad.'),\n",
       " (35, 'Aimee Johnson', 'It is.'),\n",
       " (36,\n",
       "  'Rick',\n",
       "  'I’m going to start again, (tape stops).  Pause for a little break (laughs), we need not say why.'),\n",
       " (37, 'Aimee Johnson', 'He had to pee.'),\n",
       " (38, 'Rick', 'Why do I do this, because I have to transcribe it.'),\n",
       " (39,\n",
       "  'Aimee Johnson',\n",
       "  '(Laughs)  I know that’s why I said that you had to pee so you could transcribe it.  Because its going to be funny when you transcribe it.'),\n",
       " (40,\n",
       "  'Rick',\n",
       "  'Anyway, one of the things that has been occurring in our conversations with folks and it came up without any instigation with you is the level of engagement in the community, and when you were referring to living in a house and spending your time outdoors, but not just spending your time outdoors, but being with other community members.  Do you think there is some way… or maybe you call it this movement or maybe its something different you’re referring to, but is there some way in your mind to get people more actively involved in a community?  Or in ‘the’ community of Walpole?'),\n",
       " (41, 'Aimee Johnson', 'You mean like physically in the community?'),\n",
       " (42, 'Rick', 'Yes, getting them engaged with each other, doing things.'),\n",
       " (43, 'Aimee Johnson', 'There’s probably a lot of ways.'),\n",
       " (44,\n",
       "  'Rick',\n",
       "  'But what sticks out in your mind, even from your recollection or from things people told you that might be relevant to some degree today?'),\n",
       " (45,\n",
       "  'Aimee Johnson',\n",
       "  'One of the things is… and I’ve discussed this a handful of times with other people, there used to be places where people could go to gather, and you talk about it at times, like there used to be the big boulder that the Jesuits blew up, from my understanding it was a gathering place and it was a place where people had ceremonies, there were certain places where people would go.  At one point somebody told me about a specific place on the dredge cut where the kids would swim and the adults would hang out.  They would get together on a regular basis, and we don’t really have that anymore.  Like there used to be the old Potawatomi Hall which has been gone for a long time now.  I suppose we have that to some degree, but in a much more segregated way.  I mean we’ve got churches and church groups, and we got different organizations that will gather from time to time, but we don’t really have much in the way of community gatherings any more, and there’s the arena which is a community hall, but you have to book it and you have to rent it, there’s bingo happening.  So I think that having a place to gather in and discuss things and gather, and a place that’s free for all… I don’t mean free-for-all.'),\n",
       " (46, 'Rick', 'In single quotations, is ‘free for all.’'),\n",
       " (47, 'Aimee Johnson', 'Yeah (laughs)'),\n",
       " (48, 'Rick', 'End quote, not a free-for-all as in going crazy, ok.'),\n",
       " (49,\n",
       "  'Aimee Johnson',\n",
       "  'That, I can see, and I don’t even know if it has to be a physical place.'),\n",
       " (50, 'Rick', 'An activity perhaps?'),\n",
       " (51,\n",
       "  'Aimee Johnson',\n",
       "  'Having more things that people can do to come together, and having their families come out and participate in more events because that’s one of the other things that I notice is very different from when I grew up, because me and all the people that were around my age, we seemed to be involved with everything.  Everybody played soccer, and everybody figure skated, and everybody played hockey, actively hung out with each other, and there were pig roasts all of the time, and hundreds of people would attend them, and all the parents would hang out together and all of the kids would take off together and we’d all be running around having a good time, but there’s also such a sense of community in that.'),\n",
       " (52, 'Rick', 'How was your pig roast?'),\n",
       " (53, 'Aimee Johnson', 'It was good.  It got rained out but it was good.'),\n",
       " (54, 'Rick', 'I know, I wanted to go but-'),\n",
       " (55,\n",
       "  'Aimee Johnson',\n",
       "  'It still ended up being good because we just did it inside the arena.  But the music was incredible.  Have you ever heard Brock Stonefish?'),\n",
       " (56,\n",
       "  'Rick',\n",
       "  'No, I haven’t, I do know him, I think.  I know Bruce Stonefish.'),\n",
       " (57,\n",
       "  'Aimee Johnson',\n",
       "  'Yeah, IEC Bruce, Brock’s his little brother, a very good blue’s musician.  He opened for BB King once.'),\n",
       " (58,\n",
       "  'Rick',\n",
       "  'Oh.  Wow, but isn’t that an example of what you’re talking about?'),\n",
       " (59, 'Aimee Johnson', 'It is.'),\n",
       " (60,\n",
       "  'Rick',\n",
       "  'But doesn’t it occur with regular spontaneity perhaps that you recall?  And by regular spontaneity I mean that people would just do things.'),\n",
       " (61,\n",
       "  'Aimee Johnson',\n",
       "  'Not at all, and its like, in my family we started doing that again.  When I was younger we would do that on a family scale, and when I’m talking family my family is huge.  There were 13 brothers and sisters in my Dad’s lineage, and then there’s all the extended family after that, and I’ve got so many cousins.  So on a family scale it used to be, when I was little, it was kind of my grandmother that would make that happen.'),\n",
       " (62, 'Rick', 'There’s always somebody who-'),\n",
       " (63,\n",
       "  'Aimee Johnson',\n",
       "  'Yeah.  So we have started doing that again, we pretty much get together two times a month, at least, and its not just closed to our family, it’s pretty much open to most people and its pretty much focused on music and food.  We get together over here and we usually get 40ish people here.  So I don’t know, I guess I don’t really have a gauge for how that happens in other families but I guess it doesn’t happen on a community level anymore.'),\n",
       " (64,\n",
       "  'Rick',\n",
       "  'Now, when I hear that, I think culture, taking that back to custom, how do you think Anishinaabeg customs, and that might mean language, that might mean environment, that might mean an activity on the environment, how might that be relevant to getting people together today and in the future?'),\n",
       " (65,\n",
       "  'Aimee Johnson',\n",
       "  'I think things like hunting together, especially considering its really limited anymore that not so many people hunt anymore and there’s very few people who trap, and I think that there’s very few people who even fish nowadays.  There’s a handful of commercial fisherman and occasional people who fish for food.  But organizing things of that nature, you’ll notice any time there’s a fishing derby, there’s a huge turn out, building on stuff like that.  There’s something else I just thought of and lost it.'),\n",
       " (66,\n",
       "  'Rick',\n",
       "  'Could I offer something that has come up both in my review and my discussions with someone up at INAC and in discussions with community members, some who have offered it of their own volition and have been able to connect it with issues they were saying might bring people together and something that has been attempted before, a community garden, right?  That’s one thing that has been occurring, or at least recurring in discussion.  Do you have any thoughts on that and how that might facilitate bringing people together?'),\n",
       " (67,\n",
       "  'Aimee Johnson',\n",
       "  'I think it’s a great idea, I think its difficult to get a wide range of people to come out to something like that because there’s certain things that appeal to certain people of a certain age.'),\n",
       " (68,\n",
       "  'Rick',\n",
       "  'So younger people might not feel welcome and older people might not have the mobility to get there?'),\n",
       " (69,\n",
       "  'Aimee Johnson',\n",
       "  'Quite possibly, but there’s opportunity so long as its, it’s a good opportunity to bring out the High School students who need their forty hours of volunteer work, and it’s a good opportunity to instill values like respect for your Elders and I know that a lot of our older people, because they’re on a fixed pension that they get once a month, often times they run out of healthy food to eat, so they can’t eat vegetables for half of the month.  So it would be great to utilize that to start connecting the youth and Elders again.'),\n",
       " (70,\n",
       "  'Rick',\n",
       "  'You said something that just reminded me… I can’t remember where I heard that, oh I was listening to it on the CBC the other day where it’s more economically viable to buy a bag of chips or to buy processed food than it is to buy broccoli, right?'),\n",
       " (71,\n",
       "  'Aimee Johnson',\n",
       "  'It is, really, how much produce can you buy cheap, bananas?  (laughs) which is crazy because look where they come from.'),\n",
       " (72,\n",
       "  'Rick',\n",
       "  'Look at strawberries, they’re friggen expensive, and blueberries are unheard of.  You know it’s just so expensive to get this stuff.  So this has me wondering if customary law is not just about environment, but it’s about health, right?  And I guess community right?  Engaging community, activities, just based on some of things that you and I have talked about.'),\n",
       " (73,\n",
       "  'Aimee Johnson',\n",
       "  'I also see there being a huge portion of it that should look at responsibilities, because that’s one of the things that people just assume it’s your right to be a part of the community, and I don’t feel that that’s so, everything that I’ve ever been taught is that it’s a privilege to be a part of a community and that there are certain responsibilities that go along with that, and I think that that concept has been really diminished over the years.  Like I talked about how you never used to lock your door because somebody might need something and if you had something it was your responsibility to share.'),\n",
       " (74, 'Rick', 'And if that door is locked that person can’t get in.'),\n",
       " (75,\n",
       "  'Aimee Johnson',\n",
       "  'Yeah.  But now people steal from each other.  People are getting copper pipes stolen from under their houses when people are in them.  How can you trust the people around you, how can you continue to leave your door unlocked when that’s occurring?'),\n",
       " (76, 'Rick', 'This isn’t just about environment, is it?'),\n",
       " (77,\n",
       "  'Aimee Johnson',\n",
       "  'No, not at all, there’s no way anything can be just about one thing (laughs).  I mean not if we’re talking customary law.'),\n",
       " (78, 'Rick', 'It’s really about an ethic of responsibility as you said.'),\n",
       " (79,\n",
       "  'Aimee Johnson',\n",
       "  'Yeah for sure, responsibility and respect, that’s what it really boils down to, is respect.  If the respect is there all of these other things…'),\n",
       " (80, 'Rick', 'Fall into place?'),\n",
       " (81, 'Aimee Johnson', 'Yeah.'),\n",
       " (82,\n",
       "  'Rick',\n",
       "  'That’s really good.  Is there anything more you’d like to say about customary law?'),\n",
       " (83,\n",
       "  'Aimee Johnson',\n",
       "  'The concept of customary law, I feel like in order for us to bring it back or to revitalize it I suppose, we have a long way to go, I guess is what I’m going to say.  Even to have people to understand that concept, especially because we’ve been living with imposed ideals of success for quite some time and you see that, its very evident in farming and the way that hunt clubs are run on the island.  The marsh is a resource and its supposed to be available for the entire community, it really supports the livelihoods of a handful of people and we really got away from how we can advance our community and really settled on how we get ahead ourselves.'),\n",
       " (84, 'Rick', 'So, individualistic, right?'),\n",
       " (85,\n",
       "  'Aimee Johnson',\n",
       "  'Yeah.  So its, I don’t know, just the whole idea of how to go about doing that, I would like to see people’s ideas about how to bring that back because the concept kind of escapes me right now, how it can be possible to utilize that again, and given that I think that maybe there also has to be a balance in… well we need to realize and acknowledge that we learn differently today.  Part of what I’ve always been proud of as an Aboriginal person is that we’ve always been adaptable.  So even though its customary law it needs to be brought forward into a modern context as well, and it needs to be explained in a way that this generation can understand.'),\n",
       " (86,\n",
       "  'Rick',\n",
       "  'You know what’s interesting is the notion of customary law in the US is through a judiciary, its expressed through a legal system, and talking to you, and talking to other community members that seems like such a long way to go.  That seems so far off when people, when a customary law, when you start looking at Anishinaabeg customary laws there are things that were embedded in the way people lived, right?  So to just enforce something like that into a judicial system would almost be contrary to the way people live now, what do I mean?'),\n",
       " (87, 'Aimee Johnson', 'Yes.'),\n",
       " (88,\n",
       "  'Rick',\n",
       "  'Well, if we’re individualistic now, if we’re locking our doors, and a law is imposed in a similar way as it is in the U.S., how would that reflect the way people live now?  To what degree, as you said, is adaptation or adaptability written into such a law so that it encourages people to live up to a particular ethic or a particular set of customs wherein people learn things like responsibility and respect, and they had an ethic of well-being that didn’t just end with themselves and only benefited themselves, but benefited others and benefitted the non-human communities.  So it is…'),\n",
       " (89,\n",
       "  'Aimee Johnson',\n",
       "  'I see what you’re saying, but I think there are ways of doing that.  A judicial system doesn’t necessarily have to be your typical judicial system where you’re judged by a jury of your peers or you’re judged by a judge and they say you’re a bad person and you’ve messed up and we’re going to punish you for it.  Instead it really needs to be an opportunity to start bringing back some of those customs and some of those ideals back into it.  If you look at, they’re doing restorative justice type stuff.  What do they call it, restorative justice type forums?'),\n",
       " (90, 'Rick', 'Like circles?'),\n",
       " (91,\n",
       "  'Aimee Johnson',\n",
       "  'They’re not technically circles, they bring the offender and the victim together with a mediator in between, so the offender gets a chance to sit eye to eye with the person that they victimized and they get to see how they’re actions impacted them, and they get to talk as people and they get to make connections and then they get to figure out together how to…'),\n",
       " (92, 'Rick', 'Move forward.'),\n",
       " (93,\n",
       "  'Aimee Johnson',\n",
       "  'Yeah, how to move forward and make things better, given those circumstances.'),\n",
       " (94,\n",
       "  'Rick',\n",
       "  'It sounds like your fathers’ story of the dove and the squirrel, as an example of that.'),\n",
       " (95,\n",
       "  'Aimee Johnson',\n",
       "  'That’s exactly what its like.  Like you know, you humanize the dove, and you shouldn’t have to do that if you understand that we are all the same, and that we’re all connected.  Like we don’t call all the animals our brothers and sisters for no reason, we’re all related and if we can remember that, and really, really remember that and not just say it.  It’s not just some vague concept about our way of understanding the world.'),\n",
       " (96, 'Rick', 'Ok, can I ask you about your environmental concerns?'),\n",
       " (97, 'Aimee Johnson', 'Oh geez, where do I start?'),\n",
       " (98, 'Rick', 'Come on.'),\n",
       " (99,\n",
       "  'Aimee Johnson',\n",
       "  'Biggest?  I think my biggest environmental concern is our lack of connection to the environment.'),\n",
       " (100, 'Rick', 'Very good.'),\n",
       " (101,\n",
       "  'Aimee Johnson',\n",
       "  'Yeah, that’s definitely the biggest because I see that connection has been the thing that has been ‘since time immemorial.’'),\n",
       " (102,\n",
       "  'Rick',\n",
       "  'You’re just saying that, that’s not actually a concept to you Aimee.  (Laughs)'),\n",
       " (103, 'Aimee Johnson', '(Laughs)  That’s what I mean, right.'),\n",
       " (104, 'Rick', 'So it becomes a saying.'),\n",
       " (105,\n",
       "  'Aimee Johnson',\n",
       "  'It’s hard for me to have a concept for how far back that goes.  (laughs)  The scientist in me is like ‘how long is time immemorial?’'),\n",
       " (106, 'Rick', 'Best not to think about it.'),\n",
       " (107,\n",
       "  'Aimee Johnson',\n",
       "  'How many moons (laughs).  To me that connection and that understanding and linkages and connections, those to me are the things that have led us to maintain and respect and take care of the environment even though it doesn’t really need taking care of because its really taking care of the impact we can have on the environment because it doesn’t need us.  If people just dropped off the earth tomorrow the world would be fine.'),\n",
       " (108, 'Rick', 'Well until all the burst pipes had finished leaching.'),\n",
       " (109, 'Aimee Johnson', 'Yeah, until all the nuclear reactors  (laughs)'),\n",
       " (110, 'Rick', 'So I’m sorry but you’re wrong (laughs)'),\n",
       " (111,\n",
       "  'Aimee Johnson',\n",
       "  '(laughs)  If we hadn’t done all of that, if humans never existed the world would be just fine.  So really it’s us needing to…'),\n",
       " (112, 'Rick', 'The lack of awareness and the lack of engagement?'),\n",
       " (113,\n",
       "  'Aimee Johnson',\n",
       "  'Yeah that’s the biggest thing that scares me because I see all around Walpole there’s this island of green, and all around Walpole people are disconnected from the environment, and this leads people to do things… like develop nuclear reactors.'),\n",
       " (114,\n",
       "  'Rick',\n",
       "  'Outsource their mode of living, their form sustenance to Wal-Mart.'),\n",
       " (115,\n",
       "  'Aimee Johnson',\n",
       "  'Yeah, to think that progress means we need to have more time on our hands we need to do stuff that doesn’t matter.  Mind you I love playing music and…'),\n",
       " (116, 'Rick', 'No, that stuff matters.'),\n",
       " (117, 'Aimee Johnson', 'It does, but I don’t think that it…'),\n",
       " (118, 'Rick', 'You can say it.'),\n",
       " (119,\n",
       "  'Aimee Johnson',\n",
       "  'Developing Microsoft Word, and computers and any number of things-'),\n",
       " (120, 'Rick', 'The technological path, right?'),\n",
       " (121,\n",
       "  'Aimee Johnson',\n",
       "  'Yeah, any number of things that I do throughout the day in my job… you know, I work for the Federal Government, its an important position, but really there’s so much of it that’s unnecessary.'),\n",
       " (122, 'Rick', 'And it disconnects you further.'),\n",
       " (123,\n",
       "  'Aimee Johnson',\n",
       "  'Yeah, we’ve filled our lives with all this crap, and as a result we need more crap to regulate the crap (laughs), and now we need people to be regulators of the crap regulators.'),\n",
       " (124,\n",
       "  'Rick',\n",
       "  'Well that reminds me, and that goes back to the customary law stuff as well.  The one thing I always say to my class on the very first day of class for Aboriginal landscapes in Ontario.  I say, ‘when you’re walking to class, and when you’re walking home, and when you’re walking on the street, I want you to eavesdrop, I want you to listen to what people are talking about.’  Did I tell you that before?'),\n",
       " (125, 'Aimee Johnson', 'No, I don’t think so.'),\n",
       " (126,\n",
       "  'Rick',\n",
       "  'I say ‘I want you to eavesdrop on what people are saying, what are people talking about?’  And they’ll come back and they’ll say, ‘oh they were talking about what they did the night before, or they’re talking about this and they’re talking about that,’ and I say, ‘well what is the common theme in all of these stories that you’ve eavesdropped and what all of these people were talking about, what is the one common theme?’  and sometimes they just don’t really connect with what the theme is, and the theme for me is that none of these people that they eavesdrop on, they’re not telling stories about animals, they’re not telling stories about place, and they’re telling stories about their relationship to their home and where they are, and extended relations with non-human people, right?  It’s the one thing, when we watch television we only watch stories about people, that’s what interests us, or if we watch stories about animals, its exciting or it has no direct relation to us, but it elicits a sympathy that makes us think that they are people.  I don’t know.'),\n",
       " (127, 'Aimee Johnson', 'Like the Littlest Hobo?  (laughs)'),\n",
       " (128, 'Rick', 'Yeah.'),\n",
       " (129, 'Aimee Johnson', 'That’s got to be one of my favorite shows.'),\n",
       " (130,\n",
       "  'Rick',\n",
       "  'He’s not respected for being a dog-person, he’s a person-person.'),\n",
       " (131, 'Aimee Johnson', 'He’s respected for saving people.'),\n",
       " (132,\n",
       "  'Rick',\n",
       "  'He’s a cute person with four legs.  But the stories we tell each other are just about us.'),\n",
       " (133,\n",
       "  'Aimee Johnson',\n",
       "  'Yeah, there’s such a lack of learning about the environment anymore.'),\n",
       " (134,\n",
       "  'Rick',\n",
       "  'So, going outside of Walpole what are your environmental concerns that directly affect Walpole?'),\n",
       " (135, 'Aimee Johnson', 'Actually can I talk more about internal concerns?'),\n",
       " (136, 'Rick', 'No, we’re done talking about that (laughs), no please do.'),\n",
       " (137,\n",
       "  'Aimee Johnson',\n",
       "  'Inability to, maybe, being under resourced to a point where development doesn’t occur sustainably.  That’s a huge concern because we’re really advocating taking care of the earth and that’s our responsibility, but the population is growing so quickly and there are so many pressures, and people are starving, and we have drugs to worry about, and we only have a limited amount of money and limited ability to bring in additional revenue.  So do you spend millions of dollars figuring out how to not have to run your sewage into the dredge cut, or do you run it into the dredge cut and feed people?  So we’re faced with some really tough choices in that regard.'),\n",
       " (138, 'Rick', 'And only limited funding and on the terms of the funder.'),\n",
       " (139,\n",
       "  'Aimee Johnson',\n",
       "  'On the terms of somebody else’s idea of what you need.  So that’s a major one for me.  I also have some big concerns about us whoring out our resources, because really the whole concept of duck hunting clubs, while I see it as providing a livelihood for community members as guides the concept of it bothers me.  Those aren’t our ducks to give away.  We don’t need them, the hunters that come in don’t need them, I guarantee you they don’t need them.  If they can spend $10,000 a year on a membership to a hunt club I guarantee you they don’t need ducks.  I mean those are our brothers and sisters we’re whoring out.  As a result it’s made us manage things not for diversity and not for what’s best for everything as a whole.  We manage the marsh for ducks.  We have to get rid of the muskrats because they poke holes in the dyke, they dig holes and the dykes will fall in, and as a result we won’t be able to manage for ducks and that’s clearly the whole idea of managing for ducks is so unsustainable and right now we see the hunt clubs are in really rough shape because of it.  Duck hunting is not as big as it used to be, and we’ve now probably done some irreversible damage to arguably one of the most important areas in the Great Lakes.  I wouldn’t say it’s arguable, but it’s a filtering system for the Great Lakes.'),\n",
       " (140, 'Rick', 'Its one of the most significant.'),\n",
       " (141,\n",
       "  'Aimee Johnson',\n",
       "  'Yeah, it’s a very significant place, and we allowed that to happen.  I don’t know that we had much control over it, but either way we allowed it to happen and we perpetuate it.  Its not just with duck hunting, we see it with the commercial fishermen on Walpole that catch everything and throw away a lot of it, and that’s just not something that… that was never o.k.  How is it ok today, and the other the thing is they are in so much competition with each other that they undervalue the resource, so someone down the road is selling it for 3 dollars a pound.  That stuff is priceless, so that whole concept really bothers me, and it’s about being unsustainable.  What else?...  Major environmental concern is our population growth rate.  I’m not saying we need to go around and sterilize anybody (laughs) but I just think I guess it goes back to being sustainable, we can’t sustain the population.'),\n",
       " (142, 'Rick', 'That’s right across Canada.'),\n",
       " (143, 'Aimee Johnson', 'Yeah.'),\n",
       " (144,\n",
       "  'Rick',\n",
       "  'Because the non-Native population is plummeting, and the immigrant population is also going down.'),\n",
       " (145, 'Aimee Johnson', 'Wow.'),\n",
       " (146,\n",
       "  'Rick',\n",
       "  'So by the end of 2020, they were saying, into the 2030 decade, more than half of Canada’s population will be Aboriginal.'),\n",
       " (147, 'Aimee Johnson', 'Well that’s one way to get it all back (laughs).'),\n",
       " (148, 'Rick', 'Breed it out of them.'),\n",
       " (149, 'Aimee Johnson', '(Laughs).  Wow.'),\n",
       " (150, 'Rick', 'At least that’s what statistics are indicating.'),\n",
       " (151,\n",
       "  'Aimee Johnson',\n",
       "  'Yeah but our mortality rate is a lot higher as well, I don’t imagine that’s quite a trade-off.  But they say that the more suicides people are faced with the more likelihood there’ll be more suicides, so there’s that exponential factor, along with things like tragic deaths.  That’s kind of a common thing in Aboriginal communities, so outside environmental concerns, clearly the way that things have been so overdeveloped and just the terrible terrible decimation that has occurred.  Wow.'),\n",
       " (152, 'Rick', 'Where to start?'),\n",
       " (153,\n",
       "  'Aimee Johnson',\n",
       "  'Yeah, we can start with the farming.  There’s almost no topsoil left anywhere.  We’re getting to the point, I’m sure we’ll be at the point soon where…'),\n",
       " (154, 'Rick', 'The land will be dessertified?'),\n",
       " (155, 'Aimee Johnson', 'Yeah.'),\n",
       " (156, 'Rick', 'It’s worse in Alberta, as you know from our trip.'),\n",
       " (157,\n",
       "  'Aimee Johnson',\n",
       "  'Yeah, Alberta’s bad.  Deforestation, clearly the refineries up the river and every other chemical plant that’s up there, that’s a major concern for our water.  The continual development that’s occurring on the river.  I know that there are many people who think that we need to put up a dam to slow the flow of the St. Clair River to keep the bottom from eroding so much, to keep it from going so quickly and lowering the water levels up in Georgian Bay, and…  (laughs)'),\n",
       " (158, 'Rick', 'Wow.'),\n",
       " (159,\n",
       "  'Aimee Johnson',\n",
       "  'Yeah, it’s just like some of the stuff that people think is ok.'),\n",
       " (160, 'Rick', 'But its not on Walpole that people are thinking that?'),\n",
       " (161, 'Aimee Johnson', 'No, God no.'),\n",
       " (162,\n",
       "  'Rick',\n",
       "  'Good, I was going to say.  It would be almost logistically impossible unless you got the Chinese to do it.'),\n",
       " (163, 'Aimee Johnson', '(Laughs).'),\n",
       " (164, 'Rick', 'Because they dam any river.'),\n",
       " (165, 'Aimee Johnson', 'Laughs.'),\n",
       " (166,\n",
       "  'Rick',\n",
       "  'I don’t mean that as a racial insult, I mean look at what they did with the Three Gorges Dam, that’s sort of equivalent.'),\n",
       " (167,\n",
       "  'Aimee Johnson',\n",
       "  'Yeah, you see that whole concept that kind of thing is ok, that as people we’ve gotten so conceited.'),\n",
       " (168, 'Rick', 'Yeah, hubris, Right?'),\n",
       " (169,\n",
       "  'Aimee Johnson',\n",
       "  '-that we think we can do all this stuff that we just have no business doing.  It just hurts my heart.'),\n",
       " (170, 'Rick', 'Oh I know, it hurts mine too.'),\n",
       " (171,\n",
       "  'Aimee Johnson',\n",
       "  'What else, invasive species are one of the big ones.  Well I have some mixed feelings about it, I know that we’re not supposed to kill stuff unless-'),\n",
       " (172,\n",
       "  'Rick',\n",
       "  'Well the one thing that comes up is ‘are there ways to use them, right?'),\n",
       " (173,\n",
       "  'Aimee Johnson',\n",
       "  'The other thing is, things happen for a reason, maybe phragmites sequesters more carbon than most things, so maybe its our savior.'),\n",
       " (174,\n",
       "  'Rick',\n",
       "  'Who was it, Jared was telling me today that it sequesters heavy metals in a very efficient way.'),\n",
       " (175,\n",
       "  'Aimee Johnson',\n",
       "  'Really?  Part of my cultural teachings say that things happen for a reason.  So I think we need to look for the reason…'),\n",
       " (176, 'Rick', 'Who knows?'),\n",
       " (177, 'Aimee Johnson', 'Yeah, mind you I see what its doing.'),\n",
       " (178,\n",
       "  'Rick',\n",
       "  'Its one or the other right, it’ll sequester heavy metals but it won’t allow muskrats or ducks to nest.'),\n",
       " (179, 'Aimee Johnson', 'Maybe part of the reason is Mother Nature’s pissed.'),\n",
       " (180,\n",
       "  'Rick',\n",
       "  'Someone was saying the reason ducks aren’t here is because we’ve abused them, and if you abuse them they go away.'),\n",
       " (181,\n",
       "  'Aimee Johnson',\n",
       "  'Yeah, definitely.  We’ve definitely abused the hell out of the marsh.  What business did we have dyking it all in so we could better pimp out our ducks, and we’re suffering because of it.  Hopefully we’ll learn from it and try not to do it again.  That’s a major concern.'),\n",
       " (182, 'Rick', 'My sugar’s crashing.'),\n",
       " (183, 'Aimee Johnson', 'Yeah, definitely, where do you want to eat?'),\n",
       " (184, 'Aimee Johnson', '(Tape stops)'),\n",
       " (185, 'Aimee Johnson', 'Follow up discussion – 2 December 2010'),\n",
       " (186, 'Aimee Johnson', 'Discussion between Rick Fehr and Aimee Johnson.'),\n",
       " (187,\n",
       "  'Aimee Johnson',\n",
       "  'The follow-up discussion with Aimee resumed with the topic of respect, or the lack of respect for resources.  Rick read the story from Chief Beren’s encounter with the shake tent ceremony titled ‘Animals know when they are not being treated right.’  Aimee wished that kind of ancestral knowledge still guided the community in its relationships with wildlife.  She noted that there is an overwhelming lack of respect for resources.  Just as she had in the previous interview, Aimee noted that somehow it has become ‘ok’ exploit and waste resources.  Specifically, fishermen leave piles of fish carcasses, and Rick mentioned the deer hides and carcasses piling up in the dump.'),\n",
       " (188,\n",
       "  'Aimee Johnson',\n",
       "  'Further, Aimee pointed out once more that fishermen continually devalue their own product by lowering the price just to ensure they have buyers, they do not regulate the price of fish and control the market.  Aimee noted that economic conditions on the Reserve make it ok to be wasteful, a community member’s livelihood does not necessarily depend on utilizing a particular resource in its entirety because additional food, supplies, etc… are continually imported from off-Reserve.  Yet she added just the fact that people are hunting and fishing is admirable in itself because they’re making the effort to put food on the table rather rely on the welfare system.'),\n",
       " (189,\n",
       "  'Aimee Johnson',\n",
       "  'Later in the discussion the topic of food was brought up by Rick, and he asked if she had ideas on how the overall profile of food security and awareness and the ability to procure it could be enhanced.  Aimee noted an occasion when she saw a community member asking for immediate relief because a welfare cheque didn’t arrive on time, and similarly she noted times when elderly community members gather food at community events because they haven’t received their pension cheques, or they have to live on mush for the rest of the month.  She said with concern, ‘people do not know how to feed their families without money.’'),\n",
       " (190,\n",
       "  'Aimee Johnson',\n",
       "  'Rick said that other participants note how the community’s past practices included extensive trading and bartering not just within the community (farm goods, livestock, fish, game,) but also with non-Native communities for non-perishable goods like sugar, flour, etc…'),\n",
       " (191,\n",
       "  'Aimee Johnson',\n",
       "  'The Aimee made said that everybody shared and looked after one another, and this still exists to some extent, at least within her family, where a cousin frequently brings extra game and fish to her father.  As a way of possibly expanding this to the broader community level, Aimee suggested utilizing the High School students who are required to fulfill 40 hours of community service.  She wondered if there was a way they could facilitate giving back to the community through distributing food and other items.'),\n",
       " (192,\n",
       "  'Aimee Johnson',\n",
       "  'The last point made by Aimee extended into a conversation about how this community service could be drawn to developing and distributing food from a community garden.'),\n",
       " (193,\n",
       "  'Aimee Johnson',\n",
       "  'Earlier in the discussion, Aimee suggested she’d like to see respect for resources fostered in the community.  She noted the more labor intensive method of harvesting sweetgrass that allows for the root system to remain intact.  She doubted community members harvest sweetgrass in this manner, and commented further that the local sweetgrass harvesting industry likely supports people’s drug habits.  This raised the discussion to social problems on Walpole, and how care of the environment, things like respect for the ability of sweetgrass to replenish itself, becomes a lower priority.  She wondered if a possible solution to the lack of awareness and respect for these resources might be addressed through a mentor system in which community Elders who are knowledgeable in particular areas educate younger generations who might need the gentle guidance and authority of community Elders.'),\n",
       " (194,\n",
       "  'Aimee Johnson',\n",
       "  'This last point continued into a discussion about the power of the youth on Walpole Island, and how the youth don’t understand just how much power they have to effect change on the Island.  One of the problems she noted was with education and how it results in what Rick described as ‘a fight to get to the bottom.’  Specifically, Aimee pointed to a culture on the Island where community members hold everybody else back.  This, she surmised, related to a disregard of the ‘white system’ and the desire of community members to excel in society.  Ultimately, she commented on how intellectual curiosity is frowned on in the community, and kids that do express interest in math, science, and other areas of learning are teased.  She recalled a story about a brother of hers who noted, on attending an elementary school off Reserve, ‘they don’t make fun of you for being interested in stuff.’'),\n",
       " (195,\n",
       "  'Aimee Johnson',\n",
       "  'Aimee noted this animosity toward intellectual curiosity extends to cultural diversity on Walpole.  For instance she noted how ‘two-spirited’ people are ridiculed, and that traditionally people who defied expected roles within society were regarded more positively because they would have offered unique insights into community matters and social affairs, and would have been integral advisors to the community.'),\n",
       " (196,\n",
       "  'Aimee Johnson',\n",
       "  'The discussion also considered housing as an environmental concern.  Like many Reserves, Walpole has a growing population and a limited land base.  As a result, housing is often developed on low-lying land that is prone to flooding.  A further problem that develops from this is mould problems related to the government housing standards used to build in Native communities, so environmental and human health is dually threatened.  But again, Aimee asked the question, ‘who can afford to build a house?’  Not many.  Aimee drew Rick’s attention to Walpole’s demographics, specifically the fact that 48 percent of the community’s population is under 26 years of age, and housing should reflect this demographic shift.  Rather than build houses for single occupancy families, perhaps housing with higher occupancy / apartments or adjoined condos that require less space are encouraged.  Although this kind of development might pose other social problems, it might address the concern of limited space.'),\n",
       " (197,\n",
       "  'Aimee Johnson',\n",
       "  'Aimee also drew attention to ‘green’ building techniques, skills and training for housing development and younger community members.  As a means of addressing the mold problem, sustainable development, and skills in construction, Aimee wondered if there was a way to implement or utilize existing programs (like the workstart program) to foster eco-friendly and economic initiatives.')]"
      ]
     },
     "execution_count": 80,
     "metadata": {},
     "output_type": "execute_result"
    }
   ],
   "source": [
    "transcripts_df.loc[0, 'INTERVIEW'] Poner el nombre del interviewer y : delante de la parrafada"
   ]
  },
  {
   "cell_type": "code",
   "execution_count": null,
   "metadata": {
    "collapsed": true
   },
   "outputs": [],
   "source": []
  },
  {
   "cell_type": "code",
   "execution_count": null,
   "metadata": {
    "collapsed": true
   },
   "outputs": [],
   "source": []
  },
  {
   "cell_type": "code",
   "execution_count": null,
   "metadata": {
    "collapsed": true
   },
   "outputs": [],
   "source": []
  },
  {
   "cell_type": "code",
   "execution_count": 78,
   "metadata": {},
   "outputs": [],
   "source": [
    "sentence = [(\"the\", \"DT\"), (\"little\", \"NNP\"), (\"yellow\", \"NNP\"), (\"dog\", \"NNP\"), (\"barked\", \"VBD\"), (\"at\", \"NNP\"),  (\"the\", \"DT\"), (\"cat\", \"NN\")]\n",
    "grammar = 'PROPER_NOUN: {<NNP>+}'\n",
    "cp = nltk.RegexpParser(grammar)\n",
    "result = cp.parse(sentence)"
   ]
  },
  {
   "cell_type": "code",
   "execution_count": 79,
   "metadata": {},
   "outputs": [
    {
     "name": "stdout",
     "output_type": "stream",
     "text": [
      "('the', 'DT')\n",
      "(PROPER_NOUN little/NNP yellow/NNP dog/NNP)\n",
      "('barked', 'VBD')\n",
      "(PROPER_NOUN at/NNP)\n",
      "('the', 'DT')\n",
      "('cat', 'NN')\n"
     ]
    }
   ],
   "source": [
    "for x in result:\n",
    "    print(x)"
   ]
  },
  {
   "cell_type": "code",
   "execution_count": 47,
   "metadata": {},
   "outputs": [
    {
     "name": "stdout",
     "output_type": "stream",
     "text": [
      "('little', 'NNP')\n",
      "('yellow', 'NNP')\n",
      "('dog', 'NNP')\n"
     ]
    }
   ],
   "source": [
    "for x in result:\n",
    "    if isinstance(x, nltk.tree.Tree):\n",
    "        for y in x:\n",
    "            print(y)\n",
    "        break"
   ]
  },
  {
   "cell_type": "code",
   "execution_count": 49,
   "metadata": {},
   "outputs": [
    {
     "data": {
      "text/plain": [
       "'PROPER_NOUN'"
      ]
     },
     "execution_count": 49,
     "metadata": {},
     "output_type": "execute_result"
    }
   ],
   "source": [
    "x.label()"
   ]
  },
  {
   "cell_type": "code",
   "execution_count": null,
   "metadata": {
    "collapsed": true
   },
   "outputs": [],
   "source": []
  },
  {
   "cell_type": "code",
   "execution_count": 75,
   "metadata": {},
   "outputs": [
    {
     "data": {
      "image/png": "[encoded data removed]",
      "text/plain": [
       "Tree('S', [('the', 'DT'), Tree('PROPER_NOUN', [('little', 'NNP'), ('yellow', 'NNP'), ('dog', 'NNP')]), ('barked', 'VBD'), Tree('PROPER_NOUN', [('at', 'NNP')]), ('the', 'DT'), ('cat', 'NN')])"
      ]
     },
     "execution_count": 75,
     "metadata": {},
     "output_type": "execute_result"
    }
   ],
   "source": [
    "result"
   ]
  },
  {
   "cell_type": "code",
   "execution_count": 34,
   "metadata": {
    "collapsed": true
   },
   "outputs": [],
   "source": [
    "proper_nouns = [word for word, pos in tagged_all_text if len(word) > 1 and pos == 'NNP']"
   ]
  },
  {
   "cell_type": "code",
   "execution_count": 36,
   "metadata": {
    "collapsed": true
   },
   "outputs": [],
   "source": [
    "mentioned_proper_nouns = all_names.intersection(proper_nouns)"
   ]
  },
  {
   "cell_type": "code",
   "execution_count": 37,
   "metadata": {},
   "outputs": [
    {
     "data": {
      "text/plain": [
       "{'Aimee',\n",
       " 'Andrew',\n",
       " 'Anita',\n",
       " 'Apollo',\n",
       " 'Archie',\n",
       " 'Becky',\n",
       " 'Bill',\n",
       " 'Brenda',\n",
       " 'Cal',\n",
       " 'Cameron',\n",
       " 'Carl',\n",
       " 'Carmen',\n",
       " 'Carrie',\n",
       " 'Charles',\n",
       " 'Chief',\n",
       " 'Chris',\n",
       " 'Daniel',\n",
       " 'Dean',\n",
       " 'Dot',\n",
       " 'Doug',\n",
       " 'Elaine',\n",
       " 'Eli',\n",
       " 'Eliza',\n",
       " 'Eric',\n",
       " 'Frank',\n",
       " 'Georgina',\n",
       " 'Greg',\n",
       " 'Harold',\n",
       " 'Isabelle',\n",
       " 'Jane',\n",
       " 'Jasper',\n",
       " 'Jean',\n",
       " 'Jen',\n",
       " 'Jerry',\n",
       " 'Jessica',\n",
       " 'Joe',\n",
       " 'John',\n",
       " 'Julia',\n",
       " 'Karen',\n",
       " 'Kenneth',\n",
       " 'Kennon',\n",
       " 'Kevin',\n",
       " 'Lee',\n",
       " 'Linda',\n",
       " 'Liz',\n",
       " 'Lloyd',\n",
       " 'Lois',\n",
       " 'Lyndsay',\n",
       " 'Mark',\n",
       " 'Mickey',\n",
       " 'Morris',\n",
       " 'Myrna',\n",
       " 'Naomi',\n",
       " 'PD',\n",
       " 'Pat',\n",
       " 'Patricia',\n",
       " 'Patty',\n",
       " 'Paul',\n",
       " 'Rachel',\n",
       " 'Ralph',\n",
       " 'Rita',\n",
       " 'Ron',\n",
       " 'Rose',\n",
       " 'Sarah',\n",
       " 'Stanley',\n",
       " 'Stuart',\n",
       " 'Suzie',\n",
       " 'Terry',\n",
       " 'Tom',\n",
       " 'Vernon',\n",
       " 'Woman'}"
      ]
     },
     "execution_count": 37,
     "metadata": {},
     "output_type": "execute_result"
    }
   ],
   "source": [
    "mentioned_proper_nouns"
   ]
  },
  {
   "cell_type": "code",
   "execution_count": null,
   "metadata": {
    "collapsed": true
   },
   "outputs": [],
   "source": []
  },
  {
   "cell_type": "code",
   "execution_count": null,
   "metadata": {
    "collapsed": true
   },
   "outputs": [],
   "source": []
  },
  {
   "cell_type": "code",
   "execution_count": 33,
   "metadata": {
    "collapsed": true
   },
   "outputs": [],
   "source": [
    "qqq='hola me llamo antonio jimenez mavillard'"
   ]
  },
  {
   "cell_type": "code",
   "execution_count": 34,
   "metadata": {},
   "outputs": [
    {
     "data": {
      "text/plain": [
       "14"
      ]
     },
     "execution_count": 34,
     "metadata": {},
     "output_type": "execute_result"
    }
   ],
   "source": [
    "qqq.find('antonio')"
   ]
  },
  {
   "cell_type": "code",
   "execution_count": 35,
   "metadata": {},
   "outputs": [
    {
     "data": {
      "text/plain": [
       "-1"
      ]
     },
     "execution_count": 35,
     "metadata": {},
     "output_type": "execute_result"
    }
   ],
   "source": [
    "qqq.find('aantonio')"
   ]
  },
  {
   "cell_type": "code",
   "execution_count": 36,
   "metadata": {},
   "outputs": [
    {
     "data": {
      "text/plain": [
       "14"
      ]
     },
     "execution_count": 36,
     "metadata": {},
     "output_type": "execute_result"
    }
   ],
   "source": [
    "qqq.index('antonio')"
   ]
  },
  {
   "cell_type": "code",
   "execution_count": 37,
   "metadata": {},
   "outputs": [
    {
     "ename": "ValueError",
     "evalue": "substring not found",
     "output_type": "error",
     "traceback": [
      "\u001b[0;31m---------------------------------------------------------------------------\u001b[0m",
      "\u001b[0;31mValueError\u001b[0m                                Traceback (most recent call last)",
      "\u001b[0;32m<ipython-input-37-49624a2bc8f2>\u001b[0m in \u001b[0;36m<module>\u001b[0;34m()\u001b[0m\n\u001b[0;32m----> 1\u001b[0;31m \u001b[0mqqq\u001b[0m\u001b[0;34m.\u001b[0m\u001b[0mindex\u001b[0m\u001b[0;34m(\u001b[0m\u001b[0;34m'aantonio'\u001b[0m\u001b[0;34m)\u001b[0m\u001b[0;34m\u001b[0m\u001b[0m\n\u001b[0m",
      "\u001b[0;31mValueError\u001b[0m: substring not found"
     ]
    }
   ],
   "source": [
    "qqq.index('aantonio')"
   ]
  },
  {
   "cell_type": "markdown",
   "metadata": {},
   "source": [
    "## Saving data"
   ]
  },
  {
   "cell_type": "code",
   "execution_count": null,
   "metadata": {
    "collapsed": true
   },
   "outputs": [],
   "source": [
    "# transcripts_df.to_csv('data/out/transcripts_2.csv', index=False)"
   ]
  },
  {
   "cell_type": "code",
   "execution_count": null,
   "metadata": {
    "collapsed": true
   },
   "outputs": [],
   "source": []
  }
 ],
 "metadata": {
  "kernelspec": {
   "display_name": "Python 3",
   "language": "python",
   "name": "python3"
  },
  "language_info": {
   "codemirror_mode": {
    "name": "ipython",
    "version": 3
   },
   "file_extension": ".py",
   "mimetype": "text/x-python",
   "name": "python",
   "nbconvert_exporter": "python",
   "pygments_lexer": "ipython3",
   "version": "3.4.3"
  }
 },
 "nbformat": 4,
 "nbformat_minor": 2
}
