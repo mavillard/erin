{
 "cells": [
  {
   "cell_type": "markdown",
   "metadata": {},
   "source": [
    "# Transcripts"
   ]
  },
  {
   "cell_type": "code",
   "execution_count": 1,
   "metadata": {
    "collapsed": true
   },
   "outputs": [],
   "source": [
    "import os\n",
    "from collections import Counter\n",
    "from datetime import datetime\n",
    "\n",
    "import numpy as np\n",
    "import pandas as pd\n",
    "from docx import Document"
   ]
  },
  {
   "cell_type": "markdown",
   "metadata": {},
   "source": [
    "## Loading data"
   ]
  },
  {
   "cell_type": "code",
   "execution_count": 2,
   "metadata": {
    "collapsed": true
   },
   "outputs": [],
   "source": [
    "PATH = 'data/src/'"
   ]
  },
  {
   "cell_type": "code",
   "execution_count": 3,
   "metadata": {},
   "outputs": [],
   "source": [
    "df_list = []\n",
    "\n",
    "for filename in sorted(os.listdir(PATH)):\n",
    "    if filename.endswith('#'):\n",
    "        continue\n",
    "    # metadata\n",
    "    if filename == 'Aimee Johnson – 17 September 2010.docx':\n",
    "        date = datetime(2010, 9, 17)\n",
    "        interviewers = ['Rick Fehr']\n",
    "        interviewees = ['Aimee Johnson']\n",
    "    elif filename == 'Andrew Adult Male – 18 September 2010.docx':\n",
    "        date = datetime(2010, 9, 18)\n",
    "        interviewers = ['Dave White']\n",
    "        interviewees = ['Andrew Peters']\n",
    "    elif filename == 'Anita Smith - .docx':\n",
    "        date = None\n",
    "        interviewers = ['Dave White']\n",
    "        interviewees = ['Anita Smith']\n",
    "    elif filename == 'Apollo Blackeagle – 27 October 2010.docx':\n",
    "        date = datetime(2010, 10, 27)\n",
    "        interviewers = ['Rick Fehr', 'David White']\n",
    "        interviewees = ['Apollo Blackeagle']\n",
    "    elif filename == 'Bill Sands.docx':\n",
    "        date = None\n",
    "        interviewers = ['Dave White']\n",
    "        interviewees = ['Bill Sands']\n",
    "    elif filename == 'Brenda Wheat – 24 May 2011.docx':\n",
    "        date = datetime(2011, 11, 24)\n",
    "        interviewers = ['Rick Fehr']\n",
    "        interviewees = ['Brenda Wheat']\n",
    "    elif filename == 'Cameron 21 October 2010.docx':\n",
    "        date = datetime(2010, 10, 21)\n",
    "        interviewers = ['Dave White']\n",
    "        interviewees = ['Cameron']\n",
    "    elif filename == 'Carl Smith – 15 October 2010.docx':\n",
    "        date = datetime(2010, 10, 15)\n",
    "        interviewers = ['David White']\n",
    "        interviewees = ['Carl Smith (Resource Protection Officer)']\n",
    "    elif filename == 'Carmen and Jean Wrightman – 24 September 2010.docx':\n",
    "        date = datetime(2010, 9, 24)\n",
    "        interviewers = ['David White']\n",
    "        interviewees = ['Carmen Wrightman', 'Jean Wrightman']\n",
    "    elif filename == 'Cheryl Adult female – 3 September 2010.docx':\n",
    "        date = datetime(2010, 9, 3)\n",
    "        interviewers = ['Rick Fehr']\n",
    "        interviewees = ['Cheryl']\n",
    "    elif filename == 'Chief Joseph Gilbert – 6 October 2010.docx':\n",
    "        date = datetime(2010, 10, 6)\n",
    "        interviewers = ['Dave White']\n",
    "        interviewees = ['Chief Joseph Gilbert']\n",
    "    elif filename == 'Chris Riley – 16 September 2010.docx':\n",
    "        date = datetime(2010, 9, 16)\n",
    "        interviewers = ['Dave White', 'Rick Fehr']\n",
    "        interviewees = ['Chris Riley']\n",
    "    elif filename == 'Daniel Adult male – 8 September 2010.docx':\n",
    "        date = datetime(2010, 9, 8)\n",
    "        interviewers = ['Rick Fehr']\n",
    "        interviewees = ['Daniel']\n",
    "    elif filename == 'Darren Adult Male 15 September 2010.docx':\n",
    "        date = datetime(2010, 9, 15)\n",
    "        interviewers = ['Dave White', 'Rick Fehr']\n",
    "        interviewees = ['Darren']\n",
    "    elif filename == 'Dean Jacobs – 3 September 2010.docx':\n",
    "        date = datetime(2010, 9, 3)\n",
    "        interviewers = ['Rick Fehr']\n",
    "        interviewees = ['Dean Jacobs']\n",
    "    elif filename == 'Dot Peters.docx':\n",
    "        date = None\n",
    "        interviewers = ['David White']\n",
    "        interviewees = ['Dot Peters']\n",
    "    elif filename == 'Doug Adult male – 15 October 2010.docx':\n",
    "        date = datetime(2010, 10, 15)\n",
    "        interviewers = ['David White']\n",
    "        interviewees = ['Doug (Resource Protection Officer)']\n",
    "    elif filename == 'Elaine Jacobs – 24 September 2010.docx':\n",
    "        date = datetime(2010, 9, 24)\n",
    "        interviewers = ['Rick Fehr']\n",
    "        interviewees = ['Elaine Jacobs']\n",
    "    elif filename == 'Eli Baxter – 14 December 2010.docx':\n",
    "        date = datetime(2010, 12, 14)\n",
    "        interviewers = ['Rick Fehr']\n",
    "        interviewees = ['Eli Baxter']\n",
    "    elif filename == 'Eric and Patty Isaac – 7 October 2010.docx':\n",
    "        date = datetime(2010, 10, 7)\n",
    "        interviewers = ['David White']\n",
    "        interviewees = ['Eric Isaac', 'Patty Isaac']\n",
    "    elif filename == 'Frank Adult male – 28 September 2010.docx':\n",
    "        date = datetime(2010, 9, 28)\n",
    "        interviewers = ['Rick Fehr', 'David White']\n",
    "        interviewees = ['Frank']\n",
    "    elif filename == 'Geogrina.docx':\n",
    "        date = datetime(2010, 10, 18)\n",
    "        interviewers = ['Dave White']\n",
    "        interviewees = ['Georgina']\n",
    "    elif filename == 'Greg Isaac –.docx':\n",
    "        date = None\n",
    "        interviewers = ['David White']\n",
    "        interviewees = ['Greg Isaac']\n",
    "    elif filename == 'Growing up on Walpole.docx':\n",
    "        date = None\n",
    "        interviewers = []\n",
    "        interviewees = ['Jennie Blackbird']\n",
    "    elif filename == 'Gus 5 October 2010.docx':\n",
    "        date = datetime(2010, 10, 5)\n",
    "        interviewers = ['David White']\n",
    "        interviewees = ['Gus']\n",
    "    elif filename == 'Harold Peters – 18 September 2010.docx':\n",
    "        date = datetime(2010, 9, 18)\n",
    "        interviewers = ['Dave White']\n",
    "        interviewees = ['Harold Peters']\n",
    "    elif filename == 'Isabelle 13 October 2010.docx':\n",
    "        date = datetime(2010, 10, 13)\n",
    "        interviewers = ['David White']\n",
    "        interviewees = ['Isabelle']\n",
    "    elif filename == 'J&L.docx':\n",
    "        date = datetime(2010, 11, 4)\n",
    "        interviewers = ['Dave White']\n",
    "        interviewees = ['Jennie Blackbird', 'Lizzie Isaac', 'Jen', 'Liz'] # alias\n",
    "    elif filename == 'Jane – 24 September 2010.docx':\n",
    "        date = datetime(2010, 9, 24)\n",
    "        interviewers = ['Rick Fehr']\n",
    "        interviewees = ['Jane Jacobs']\n",
    "    elif filename == 'Jasper and Eliza John –.docx':\n",
    "        date = None\n",
    "        interviewers = ['David White']\n",
    "        interviewees = ['Jasper John', 'Eliza John']\n",
    "    elif filename == 'Jerome.docx':\n",
    "        date = datetime(2010, 9, 30)\n",
    "        interviewers = ['Dave White']\n",
    "        interviewees = ['Jerome']\n",
    "    elif filename == 'Jerry Adult male – 7 September 2010.docx':\n",
    "        date = datetime(2010, 9, 7)\n",
    "        interviewers = ['Rick Fehr']\n",
    "        interviewees = ['Jerry']\n",
    "    elif filename == 'Joanne Day.docx':\n",
    "        date = None\n",
    "        interviewers = ['David White']\n",
    "        interviewees = ['Joanne Day']\n",
    "    elif filename == 'Joe and Carrie Elders – 7 October 2010.docx':\n",
    "        date = datetime(2010, 10, 7)\n",
    "        interviewers = ['David White']\n",
    "        interviewees = ['Joe Isaac', 'Carrie Isaac']\n",
    "    elif filename == 'John Adult male – 6 December 2010.docx':\n",
    "        date = datetime(2010, 12, 6)\n",
    "        interviewers = ['David White']\n",
    "        interviewees = ['John']\n",
    "    elif filename == 'Julia.docx':\n",
    "        date = datetime(2010, 10, 4)\n",
    "        interviewers = ['David White']\n",
    "        interviewees = ['Julia']\n",
    "    elif filename == 'Karen Lalleen – 4 October 2010.docx':\n",
    "        date = datetime(2010, 10, 4)\n",
    "        interviewers = ['David White']\n",
    "        interviewees = ['Karen Lalleen']\n",
    "    elif filename == 'Kenneth adult male – 21 September 2010.docx':\n",
    "        date = datetime(2010, 9, 21)\n",
    "        interviewers = ['Rick Fehr', 'Dave White']\n",
    "        interviewees = ['Kenneth']\n",
    "    elif filename == 'Kennon Johnson – 10 November 2010.docx':\n",
    "        date = datetime(2010, 11, 10)\n",
    "        interviewers = ['Dave White']\n",
    "        interviewees = ['Kennon Johnson']\n",
    "    elif filename == 'Kevin Smith – 6 December 2010.docx':\n",
    "        date = datetime(2010, 12, 6)\n",
    "        interviewers = ['Dave White']\n",
    "        interviewees = ['Kevin Smith']\n",
    "    elif filename == 'Lee White 16 September 2010.docx':\n",
    "        date = datetime(2010, 9, 16)\n",
    "        interviewers = ['Dave White', 'Rick Fehr']\n",
    "        interviewees = ['Lee White']\n",
    "    elif filename == 'Linda.docx':\n",
    "        date = datetime(2010, 11, 3)\n",
    "        interviewers = ['Clint Jacobs']\n",
    "        interviewees = ['Linda White']\n",
    "    elif filename == 'Lloyd Day –.docx':\n",
    "        date = None\n",
    "        interviewers = ['David White']\n",
    "        interviewees = ['Lloyd Day']\n",
    "    elif filename == 'Lyndsay Sword – 14 October 2010.docx':\n",
    "        date = datetime(2010, 10, 14)\n",
    "        interviewers = ['David White']\n",
    "        interviewees = ['Lyndsay Sword']\n",
    "    elif filename == 'Mark – 16 September 2010.docx':\n",
    "        date = datetime(2010, 9, 16)\n",
    "        interviewers = ['Dave White', 'Rick Fehr']\n",
    "        interviewees = ['Mark']\n",
    "    elif filename == 'Mel Hoeksma – 7 September 2010.docx':\n",
    "        date = datetime(2010, 9, 7)\n",
    "        interviewers = ['Rick Fehr']\n",
    "        interviewees = ['Mel Hoeksma']\n",
    "    elif filename == 'Mickey Aquash 15 September 2010.docx':\n",
    "        date = datetime(2010, 9, 15)\n",
    "        interviewers = ['Dave White', 'Rick Fehr']\n",
    "        interviewees = ['Mickey Aquash']\n",
    "    elif filename == 'Morris and Lois.docx':\n",
    "        date = datetime(2010, 9, 24)\n",
    "        interviewers = ['David White']\n",
    "        interviewees = ['Morris Wrightman', 'Lois Wrightman']\n",
    "    elif filename == 'Myrna and Shirley 4 November 2010.docx':\n",
    "        date = datetime(2010, 11, 4)\n",
    "        interviewers = ['Dave White']\n",
    "        interviewees = ['Myrna', 'Shirley']\n",
    "    elif filename == 'Naomi Williams interview 2 September 2010.docx':\n",
    "        date = datetime(2010, 9, 2)\n",
    "        interviewers = ['Rick Fehr']\n",
    "        interviewees = ['Naomi Williams']\n",
    "    elif filename == 'Organic Garden Group (Coding) – 10 November 2010.docx':\n",
    "        date = datetime(2010, 11, 10)\n",
    "        interviewers = ['Dave White', 'Clint Jacobs', 'Rick Fehr']\n",
    "        interviewees = ['Patricia', 'Jessica', 'Becky', 'Joanne', 'Rose']\n",
    "    elif filename == 'Pat.docx':\n",
    "        date = datetime(2010, 11, 30)\n",
    "        interviewers = ['Dave White']\n",
    "        interviewees = ['Pat Riley']\n",
    "    elif filename == 'Paul Adult male – 6 October 2010.docx':\n",
    "        date = datetime(2010, 10, 6)\n",
    "        interviewers = ['Dave White']\n",
    "        interviewees = ['Paul']\n",
    "    elif filename == 'Puppydog.docx':\n",
    "        date = datetime(2010, 9, 22)\n",
    "        interviewers = ['Dave White', 'Rick Fehr', 'Clint Jacobs']\n",
    "        interviewees = ['Ralph Johnson', 'PD'] # alias\n",
    "    elif filename == 'Rachel 22 November 2010.docx':\n",
    "        date = datetime(2010, 11, 22)\n",
    "        interviewers = ['Dave White']\n",
    "        interviewees = ['Rachel']\n",
    "    elif filename == 'Ralph Jones – 14 September 2010.docx':\n",
    "        date = datetime(2010, 9, 14)\n",
    "        interviewers = ['Dave White']\n",
    "        interviewees = ['Ralph Jones']\n",
    "    elif filename == 'Ron adult male – 10 November 2010.docx':\n",
    "        date = datetime(2010, 11, 10)\n",
    "        interviewers = ['Dave White']\n",
    "        interviewees = ['Ron']\n",
    "    elif filename == 'Sarah Adult female – 17 September 2010.docx':\n",
    "        date = datetime(2010, 9, 17)\n",
    "        interviewers = ['Rick Fehr']\n",
    "        interviewees = ['Sarah']\n",
    "    elif filename == 'Stanley.docx':\n",
    "        date = datetime(2010, 11, 1)\n",
    "        interviewers = ['David White']\n",
    "        interviewees = ['Stanley']\n",
    "    elif filename == 'Stuart 8 October 2010.docx':\n",
    "        date = datetime(2010, 10, 8)\n",
    "        interviewers = ['David White']\n",
    "        interviewees = ['Stuart']\n",
    "    elif filename == 'Suzie Isaac - 4 September 2010.docx':\n",
    "        date = datetime(2010, 9, 4)\n",
    "        interviewers = ['Rick Fehr']\n",
    "        interviewees = ['Suzie Isaac']\n",
    "    elif filename == 'Terry Sands – 28 September 2010.docx':\n",
    "        date = datetime(2010, 9, 28)\n",
    "        interviewers = ['Rick Fehr', 'David White']\n",
    "        interviewees = ['Terry Sands']\n",
    "    elif filename == 'Tom adult male 16 September 2010.docx':\n",
    "        date = datetime(2010, 9, 16)\n",
    "        interviewers = ['Dave White', 'Rick Fehr']\n",
    "        interviewees = ['Tom']\n",
    "    elif filename == 'Vernon and Suzi Jones –.docx':\n",
    "        date = None\n",
    "        interviewers = ['David White']\n",
    "        interviewees = ['Vernon Jones', 'Suzie Jones']\n",
    "    elif filename == 'archie.docx':\n",
    "        date = None\n",
    "        interviewers = ['Dave White']\n",
    "        interviewees = ['Archie']\n",
    "    elif filename == 'cal.docx':\n",
    "        date = None\n",
    "        interviewers = ['Dave White']\n",
    "        interviewees = ['Cal']\n",
    "    elif filename == 'charlie.docx':\n",
    "        date = datetime(2010, 10, 21)\n",
    "        interviewers = ['Dave White']\n",
    "        interviewees = ['Charles Wright']\n",
    "    elif filename == 'rita.docx':\n",
    "        date = datetime(2010, 11, 3)\n",
    "        interviewers = ['Dave White', 'Clint Jacobs']\n",
    "        interviewees = ['Rita Sands']\n",
    "    # text\n",
    "    file_path = os.path.join(PATH, filename)\n",
    "    document = Document(file_path)\n",
    "    text = '\\n'.join([par.text for par in document.paragraphs])\n",
    "    # dataframe\n",
    "    df = pd.DataFrame(\n",
    "        [[filename, date, interviewers, interviewees, text]],\n",
    "        columns=['FILENAME', 'DATE', 'INTERVIEWERS', 'INTERVIEWEES', 'TEXT']\n",
    "    )\n",
    "    df_list.append(df)\n",
    "transcripts_df = pd.concat(df_list, ignore_index=True)"
   ]
  },
  {
   "cell_type": "code",
   "execution_count": 4,
   "metadata": {},
   "outputs": [
    {
     "data": {
      "text/html": [
       "<div>\n",
       "<style>\n",
       "    .dataframe thead tr:only-child th {\n",
       "        text-align: right;\n",
       "    }\n",
       "\n",
       "    .dataframe thead th {\n",
       "        text-align: left;\n",
       "    }\n",
       "\n",
       "    .dataframe tbody tr th {\n",
       "        vertical-align: top;\n",
       "    }\n",
       "</style>\n",
       "<table border=\"1\" class=\"dataframe\">\n",
       "  <thead>\n",
       "    <tr style=\"text-align: right;\">\n",
       "      <th></th>\n",
       "      <th>FILENAME</th>\n",
       "      <th>DATE</th>\n",
       "      <th>INTERVIEWERS</th>\n",
       "      <th>INTERVIEWEES</th>\n",
       "      <th>TEXT</th>\n",
       "    </tr>\n",
       "  </thead>\n",
       "  <tbody>\n",
       "    <tr>\n",
       "      <th>0</th>\n",
       "      <td>Aimee Johnson – 17 September 2010.docx</td>\n",
       "      <td>2010-09-17</td>\n",
       "      <td>[Rick Fehr]</td>\n",
       "      <td>[Aimee Johnson]</td>\n",
       "      <td>Aimee Johnson – 17 September 2010\\n\\nInterview...</td>\n",
       "    </tr>\n",
       "    <tr>\n",
       "      <th>1</th>\n",
       "      <td>Andrew Adult Male – 18 September 2010.docx</td>\n",
       "      <td>2010-09-18</td>\n",
       "      <td>[Dave White]</td>\n",
       "      <td>[Andrew Peters]</td>\n",
       "      <td>Andrew Peters – 18 September 2010\\n\\nInterview...</td>\n",
       "    </tr>\n",
       "    <tr>\n",
       "      <th>2</th>\n",
       "      <td>Anita Smith - .docx</td>\n",
       "      <td>NaT</td>\n",
       "      <td>[Dave White]</td>\n",
       "      <td>[Anita Smith]</td>\n",
       "      <td>Interviewer: Dave White\\nInterviewee: Anita Sm...</td>\n",
       "    </tr>\n",
       "    <tr>\n",
       "      <th>3</th>\n",
       "      <td>Apollo Blackeagle – 27 October 2010.docx</td>\n",
       "      <td>2010-10-27</td>\n",
       "      <td>[Rick Fehr, David White]</td>\n",
       "      <td>[Apollo Blackeagle]</td>\n",
       "      <td>Apollo Blackeagle – 27 October 2010\\n\\nIntervi...</td>\n",
       "    </tr>\n",
       "    <tr>\n",
       "      <th>4</th>\n",
       "      <td>Bill Sands.docx</td>\n",
       "      <td>NaT</td>\n",
       "      <td>[Dave White]</td>\n",
       "      <td>[Bill Sands]</td>\n",
       "      <td>Interviewer: Dave White\\nInterviewee: Bill San...</td>\n",
       "    </tr>\n",
       "  </tbody>\n",
       "</table>\n",
       "</div>"
      ],
      "text/plain": [
       "                                     FILENAME       DATE  \\\n",
       "0      Aimee Johnson – 17 September 2010.docx 2010-09-17   \n",
       "1  Andrew Adult Male – 18 September 2010.docx 2010-09-18   \n",
       "2                         Anita Smith - .docx        NaT   \n",
       "3    Apollo Blackeagle – 27 October 2010.docx 2010-10-27   \n",
       "4                             Bill Sands.docx        NaT   \n",
       "\n",
       "               INTERVIEWERS         INTERVIEWEES  \\\n",
       "0               [Rick Fehr]      [Aimee Johnson]   \n",
       "1              [Dave White]      [Andrew Peters]   \n",
       "2              [Dave White]        [Anita Smith]   \n",
       "3  [Rick Fehr, David White]  [Apollo Blackeagle]   \n",
       "4              [Dave White]         [Bill Sands]   \n",
       "\n",
       "                                                TEXT  \n",
       "0  Aimee Johnson – 17 September 2010\\n\\nInterview...  \n",
       "1  Andrew Peters – 18 September 2010\\n\\nInterview...  \n",
       "2  Interviewer: Dave White\\nInterviewee: Anita Sm...  \n",
       "3  Apollo Blackeagle – 27 October 2010\\n\\nIntervi...  \n",
       "4  Interviewer: Dave White\\nInterviewee: Bill San...  "
      ]
     },
     "execution_count": 4,
     "metadata": {},
     "output_type": "execute_result"
    }
   ],
   "source": [
    "transcripts_df.head()"
   ]
  },
  {
   "cell_type": "markdown",
   "metadata": {},
   "source": [
    "## Checking data"
   ]
  },
  {
   "cell_type": "markdown",
   "metadata": {},
   "source": [
    "### No date"
   ]
  },
  {
   "cell_type": "code",
   "execution_count": 5,
   "metadata": {},
   "outputs": [
    {
     "data": {
      "text/html": [
       "<div>\n",
       "<style>\n",
       "    .dataframe thead tr:only-child th {\n",
       "        text-align: right;\n",
       "    }\n",
       "\n",
       "    .dataframe thead th {\n",
       "        text-align: left;\n",
       "    }\n",
       "\n",
       "    .dataframe tbody tr th {\n",
       "        vertical-align: top;\n",
       "    }\n",
       "</style>\n",
       "<table border=\"1\" class=\"dataframe\">\n",
       "  <thead>\n",
       "    <tr style=\"text-align: right;\">\n",
       "      <th></th>\n",
       "      <th>FILENAME</th>\n",
       "      <th>DATE</th>\n",
       "      <th>INTERVIEWERS</th>\n",
       "      <th>INTERVIEWEES</th>\n",
       "      <th>TEXT</th>\n",
       "    </tr>\n",
       "  </thead>\n",
       "  <tbody>\n",
       "    <tr>\n",
       "      <th>2</th>\n",
       "      <td>Anita Smith - .docx</td>\n",
       "      <td>NaT</td>\n",
       "      <td>[Dave White]</td>\n",
       "      <td>[Anita Smith]</td>\n",
       "      <td>Interviewer: Dave White\\nInterviewee: Anita Sm...</td>\n",
       "    </tr>\n",
       "    <tr>\n",
       "      <th>4</th>\n",
       "      <td>Bill Sands.docx</td>\n",
       "      <td>NaT</td>\n",
       "      <td>[Dave White]</td>\n",
       "      <td>[Bill Sands]</td>\n",
       "      <td>Interviewer: Dave White\\nInterviewee: Bill San...</td>\n",
       "    </tr>\n",
       "    <tr>\n",
       "      <th>15</th>\n",
       "      <td>Dot Peters.docx</td>\n",
       "      <td>NaT</td>\n",
       "      <td>[David White]</td>\n",
       "      <td>[Dot Peters]</td>\n",
       "      <td>Dot Peters – \\n\\nInterviewer: David White\\nInt...</td>\n",
       "    </tr>\n",
       "    <tr>\n",
       "      <th>22</th>\n",
       "      <td>Greg Isaac –.docx</td>\n",
       "      <td>NaT</td>\n",
       "      <td>[David White]</td>\n",
       "      <td>[Greg Isaac]</td>\n",
       "      <td>Greg Isaac – \\n\\nInterviewer: David White\\nInt...</td>\n",
       "    </tr>\n",
       "    <tr>\n",
       "      <th>23</th>\n",
       "      <td>Growing up on Walpole.docx</td>\n",
       "      <td>NaT</td>\n",
       "      <td>[]</td>\n",
       "      <td>[Jennie Blackbird]</td>\n",
       "      <td>\\t\\t                Growing up on Walpole\\n\\t\\...</td>\n",
       "    </tr>\n",
       "    <tr>\n",
       "      <th>29</th>\n",
       "      <td>Jasper and Eliza John –.docx</td>\n",
       "      <td>NaT</td>\n",
       "      <td>[David White]</td>\n",
       "      <td>[Jasper John, Eliza John]</td>\n",
       "      <td>Jasper and Eliza John – \\n\\nInterviewer: David...</td>\n",
       "    </tr>\n",
       "    <tr>\n",
       "      <th>32</th>\n",
       "      <td>Joanne Day.docx</td>\n",
       "      <td>NaT</td>\n",
       "      <td>[David White]</td>\n",
       "      <td>[Joanne Day]</td>\n",
       "      <td>Joanne Day – \\n\\nInterviewer: David White\\nInt...</td>\n",
       "    </tr>\n",
       "    <tr>\n",
       "      <th>42</th>\n",
       "      <td>Lloyd Day –.docx</td>\n",
       "      <td>NaT</td>\n",
       "      <td>[David White]</td>\n",
       "      <td>[Lloyd Day]</td>\n",
       "      <td>Lloyd Day – \\n\\nInterviewer: David White\\nInte...</td>\n",
       "    </tr>\n",
       "    <tr>\n",
       "      <th>63</th>\n",
       "      <td>Vernon and Suzi Jones –.docx</td>\n",
       "      <td>NaT</td>\n",
       "      <td>[David White]</td>\n",
       "      <td>[Vernon Jones, Suzie Jones]</td>\n",
       "      <td>Vernon and Suzie Jones – \\n\\nInterviewer: Davi...</td>\n",
       "    </tr>\n",
       "    <tr>\n",
       "      <th>64</th>\n",
       "      <td>archie.docx</td>\n",
       "      <td>NaT</td>\n",
       "      <td>[Dave White]</td>\n",
       "      <td>[Archie]</td>\n",
       "      <td>Dave: So we’re trying to retrieve information ...</td>\n",
       "    </tr>\n",
       "    <tr>\n",
       "      <th>65</th>\n",
       "      <td>cal.docx</td>\n",
       "      <td>NaT</td>\n",
       "      <td>[Dave White]</td>\n",
       "      <td>[Cal]</td>\n",
       "      <td>Dave:  What do you remember from a long time a...</td>\n",
       "    </tr>\n",
       "  </tbody>\n",
       "</table>\n",
       "</div>"
      ],
      "text/plain": [
       "                        FILENAME DATE   INTERVIEWERS  \\\n",
       "2            Anita Smith - .docx  NaT   [Dave White]   \n",
       "4                Bill Sands.docx  NaT   [Dave White]   \n",
       "15               Dot Peters.docx  NaT  [David White]   \n",
       "22             Greg Isaac –.docx  NaT  [David White]   \n",
       "23    Growing up on Walpole.docx  NaT             []   \n",
       "29  Jasper and Eliza John –.docx  NaT  [David White]   \n",
       "32               Joanne Day.docx  NaT  [David White]   \n",
       "42              Lloyd Day –.docx  NaT  [David White]   \n",
       "63  Vernon and Suzi Jones –.docx  NaT  [David White]   \n",
       "64                   archie.docx  NaT   [Dave White]   \n",
       "65                      cal.docx  NaT   [Dave White]   \n",
       "\n",
       "                   INTERVIEWEES  \\\n",
       "2                 [Anita Smith]   \n",
       "4                  [Bill Sands]   \n",
       "15                 [Dot Peters]   \n",
       "22                 [Greg Isaac]   \n",
       "23           [Jennie Blackbird]   \n",
       "29    [Jasper John, Eliza John]   \n",
       "32                 [Joanne Day]   \n",
       "42                  [Lloyd Day]   \n",
       "63  [Vernon Jones, Suzie Jones]   \n",
       "64                     [Archie]   \n",
       "65                        [Cal]   \n",
       "\n",
       "                                                 TEXT  \n",
       "2   Interviewer: Dave White\\nInterviewee: Anita Sm...  \n",
       "4   Interviewer: Dave White\\nInterviewee: Bill San...  \n",
       "15  Dot Peters – \\n\\nInterviewer: David White\\nInt...  \n",
       "22  Greg Isaac – \\n\\nInterviewer: David White\\nInt...  \n",
       "23  \\t\\t                Growing up on Walpole\\n\\t\\...  \n",
       "29  Jasper and Eliza John – \\n\\nInterviewer: David...  \n",
       "32  Joanne Day – \\n\\nInterviewer: David White\\nInt...  \n",
       "42  Lloyd Day – \\n\\nInterviewer: David White\\nInte...  \n",
       "63  Vernon and Suzie Jones – \\n\\nInterviewer: Davi...  \n",
       "64  Dave: So we’re trying to retrieve information ...  \n",
       "65  Dave:  What do you remember from a long time a...  "
      ]
     },
     "execution_count": 5,
     "metadata": {},
     "output_type": "execute_result"
    }
   ],
   "source": [
    "transcripts_df[transcripts_df.DATE.isnull()]"
   ]
  },
  {
   "cell_type": "markdown",
   "metadata": {},
   "source": [
    "### No interviewer"
   ]
  },
  {
   "cell_type": "code",
   "execution_count": 6,
   "metadata": {},
   "outputs": [
    {
     "data": {
      "text/html": [
       "<div>\n",
       "<style>\n",
       "    .dataframe thead tr:only-child th {\n",
       "        text-align: right;\n",
       "    }\n",
       "\n",
       "    .dataframe thead th {\n",
       "        text-align: left;\n",
       "    }\n",
       "\n",
       "    .dataframe tbody tr th {\n",
       "        vertical-align: top;\n",
       "    }\n",
       "</style>\n",
       "<table border=\"1\" class=\"dataframe\">\n",
       "  <thead>\n",
       "    <tr style=\"text-align: right;\">\n",
       "      <th></th>\n",
       "      <th>FILENAME</th>\n",
       "      <th>DATE</th>\n",
       "      <th>INTERVIEWERS</th>\n",
       "      <th>INTERVIEWEES</th>\n",
       "      <th>TEXT</th>\n",
       "    </tr>\n",
       "  </thead>\n",
       "  <tbody>\n",
       "    <tr>\n",
       "      <th>23</th>\n",
       "      <td>Growing up on Walpole.docx</td>\n",
       "      <td>NaT</td>\n",
       "      <td>[]</td>\n",
       "      <td>[Jennie Blackbird]</td>\n",
       "      <td>\\t\\t                Growing up on Walpole\\n\\t\\...</td>\n",
       "    </tr>\n",
       "  </tbody>\n",
       "</table>\n",
       "</div>"
      ],
      "text/plain": [
       "                      FILENAME DATE INTERVIEWERS        INTERVIEWEES  \\\n",
       "23  Growing up on Walpole.docx  NaT           []  [Jennie Blackbird]   \n",
       "\n",
       "                                                 TEXT  \n",
       "23  \\t\\t                Growing up on Walpole\\n\\t\\...  "
      ]
     },
     "execution_count": 6,
     "metadata": {},
     "output_type": "execute_result"
    }
   ],
   "source": [
    "transcripts_df[transcripts_df.INTERVIEWERS.apply(lambda x: not x)]"
   ]
  },
  {
   "cell_type": "markdown",
   "metadata": {},
   "source": [
    "### Interviewed more than once"
   ]
  },
  {
   "cell_type": "code",
   "execution_count": 7,
   "metadata": {
    "collapsed": true
   },
   "outputs": [],
   "source": [
    "interviewee_list = [y for x in transcripts_df.INTERVIEWEES for y in x]"
   ]
  },
  {
   "cell_type": "code",
   "execution_count": 8,
   "metadata": {},
   "outputs": [
    {
     "data": {
      "text/plain": [
       "[('Jennie Blackbird', 2),\n",
       " ('Mickey Aquash', 1),\n",
       " ('Lyndsay Sword', 1),\n",
       " ('Kevin Smith', 1),\n",
       " ('Lee White', 1)]"
      ]
     },
     "execution_count": 8,
     "metadata": {},
     "output_type": "execute_result"
    }
   ],
   "source": [
    "Counter(interviewee_list).most_common(5)"
   ]
  },
  {
   "cell_type": "code",
   "execution_count": 9,
   "metadata": {},
   "outputs": [
    {
     "data": {
      "text/html": [
       "<div>\n",
       "<style>\n",
       "    .dataframe thead tr:only-child th {\n",
       "        text-align: right;\n",
       "    }\n",
       "\n",
       "    .dataframe thead th {\n",
       "        text-align: left;\n",
       "    }\n",
       "\n",
       "    .dataframe tbody tr th {\n",
       "        vertical-align: top;\n",
       "    }\n",
       "</style>\n",
       "<table border=\"1\" class=\"dataframe\">\n",
       "  <thead>\n",
       "    <tr style=\"text-align: right;\">\n",
       "      <th></th>\n",
       "      <th>FILENAME</th>\n",
       "      <th>DATE</th>\n",
       "      <th>INTERVIEWERS</th>\n",
       "      <th>INTERVIEWEES</th>\n",
       "      <th>TEXT</th>\n",
       "    </tr>\n",
       "  </thead>\n",
       "  <tbody>\n",
       "    <tr>\n",
       "      <th>23</th>\n",
       "      <td>Growing up on Walpole.docx</td>\n",
       "      <td>NaT</td>\n",
       "      <td>[]</td>\n",
       "      <td>[Jennie Blackbird]</td>\n",
       "      <td>\\t\\t                Growing up on Walpole\\n\\t\\...</td>\n",
       "    </tr>\n",
       "    <tr>\n",
       "      <th>27</th>\n",
       "      <td>J&amp;L.docx</td>\n",
       "      <td>2010-11-04</td>\n",
       "      <td>[Dave White]</td>\n",
       "      <td>[Jennie Blackbird, Lizzie Isaac, Jen, Liz]</td>\n",
       "      <td>Date: Thursday November 4, 2010\\nInterviewer: ...</td>\n",
       "    </tr>\n",
       "  </tbody>\n",
       "</table>\n",
       "</div>"
      ],
      "text/plain": [
       "                      FILENAME       DATE  INTERVIEWERS  \\\n",
       "23  Growing up on Walpole.docx        NaT            []   \n",
       "27                    J&L.docx 2010-11-04  [Dave White]   \n",
       "\n",
       "                                  INTERVIEWEES  \\\n",
       "23                          [Jennie Blackbird]   \n",
       "27  [Jennie Blackbird, Lizzie Isaac, Jen, Liz]   \n",
       "\n",
       "                                                 TEXT  \n",
       "23  \\t\\t                Growing up on Walpole\\n\\t\\...  \n",
       "27  Date: Thursday November 4, 2010\\nInterviewer: ...  "
      ]
     },
     "execution_count": 9,
     "metadata": {},
     "output_type": "execute_result"
    }
   ],
   "source": [
    "transcripts_df[transcripts_df.INTERVIEWEES.apply(lambda x: 'Jennie Blackbird' in x)]"
   ]
  },
  {
   "cell_type": "markdown",
   "metadata": {},
   "source": [
    "### Interviewers' names"
   ]
  },
  {
   "cell_type": "code",
   "execution_count": 10,
   "metadata": {
    "collapsed": true
   },
   "outputs": [],
   "source": [
    "interviewers = list(set(y for x in transcripts_df.INTERVIEWERS for y in x))"
   ]
  },
  {
   "cell_type": "code",
   "execution_count": 11,
   "metadata": {
    "collapsed": true
   },
   "outputs": [],
   "source": [
    "interviewers_first_names = [x.split()[0] for x in interviewers]"
   ]
  },
  {
   "cell_type": "code",
   "execution_count": 12,
   "metadata": {
    "collapsed": true
   },
   "outputs": [],
   "source": [
    "interviewers_names = interviewers + interviewers_first_names"
   ]
  },
  {
   "cell_type": "code",
   "execution_count": 13,
   "metadata": {},
   "outputs": [
    {
     "data": {
      "text/plain": [
       "['Clint Jacobs',\n",
       " 'Rick Fehr',\n",
       " 'David White',\n",
       " 'Dave White',\n",
       " 'Clint',\n",
       " 'Rick',\n",
       " 'David',\n",
       " 'Dave']"
      ]
     },
     "execution_count": 13,
     "metadata": {},
     "output_type": "execute_result"
    }
   ],
   "source": [
    "interviewers_names"
   ]
  },
  {
   "cell_type": "markdown",
   "metadata": {},
   "source": [
    "### Odd names"
   ]
  },
  {
   "cell_type": "code",
   "execution_count": 14,
   "metadata": {
    "collapsed": true
   },
   "outputs": [],
   "source": [
    "def first_names(names):\n",
    "    return [x.split()[0] for x in names]"
   ]
  },
  {
   "cell_type": "code",
   "execution_count": 15,
   "metadata": {},
   "outputs": [],
   "source": [
    "for i, row in transcripts_df.iterrows():\n",
    "    odd = set()\n",
    "    interviewees_names = row.INTERVIEWEES + first_names(row.INTERVIEWEES)\n",
    "    names = interviewers_names + interviewees_names\n",
    "    for line in row.TEXT.split('\\n'):\n",
    "        line = line.strip()\n",
    "        if ':' in line:\n",
    "            first = line.split(':')[0].strip()\n",
    "            if not ' ' in first and not first.startswith('Interviewe') and first != 'Date':\n",
    "                if first not in names:\n",
    "                    odd.add(first)\n",
    "    if odd:\n",
    "        print(i, odd)"
   ]
  },
  {
   "cell_type": "markdown",
   "metadata": {},
   "source": [
    "## Processing data"
   ]
  },
  {
   "cell_type": "markdown",
   "metadata": {},
   "source": [
    "### Beginning interview"
   ]
  },
  {
   "cell_type": "code",
   "execution_count": 16,
   "metadata": {
    "collapsed": true
   },
   "outputs": [],
   "source": [
    "def get_interview_beginning_aux(text, names):\n",
    "    index = 0\n",
    "    for line in text.split('\\n'):\n",
    "        line = line.strip()\n",
    "        if any(map(lambda x: line.startswith(x + ':') or line.startswith(x + ' :'), names)):\n",
    "            break\n",
    "        else:\n",
    "            index += 1\n",
    "    return index\n",
    "\n",
    "def get_interview_beginning(row):\n",
    "    interviewees_names = row.INTERVIEWEES + first_names(row.INTERVIEWEES)\n",
    "    names = interviewers_names + interviewees_names\n",
    "    return get_interview_beginning_aux(row.TEXT, names)"
   ]
  },
  {
   "cell_type": "code",
   "execution_count": 17,
   "metadata": {},
   "outputs": [],
   "source": [
    "transcripts_df['BEGINNING'] = transcripts_df.apply(get_interview_beginning, axis=1)"
   ]
  },
  {
   "cell_type": "code",
   "execution_count": 18,
   "metadata": {},
   "outputs": [
    {
     "data": {
      "text/html": [
       "<div>\n",
       "<style>\n",
       "    .dataframe thead tr:only-child th {\n",
       "        text-align: right;\n",
       "    }\n",
       "\n",
       "    .dataframe thead th {\n",
       "        text-align: left;\n",
       "    }\n",
       "\n",
       "    .dataframe tbody tr th {\n",
       "        vertical-align: top;\n",
       "    }\n",
       "</style>\n",
       "<table border=\"1\" class=\"dataframe\">\n",
       "  <thead>\n",
       "    <tr style=\"text-align: right;\">\n",
       "      <th></th>\n",
       "      <th>FILENAME</th>\n",
       "      <th>DATE</th>\n",
       "      <th>INTERVIEWERS</th>\n",
       "      <th>INTERVIEWEES</th>\n",
       "      <th>TEXT</th>\n",
       "      <th>BEGINNING</th>\n",
       "    </tr>\n",
       "  </thead>\n",
       "  <tbody>\n",
       "    <tr>\n",
       "      <th>0</th>\n",
       "      <td>Aimee Johnson – 17 September 2010.docx</td>\n",
       "      <td>2010-09-17</td>\n",
       "      <td>[Rick Fehr]</td>\n",
       "      <td>[Aimee Johnson]</td>\n",
       "      <td>Aimee Johnson – 17 September 2010\\n\\nInterview...</td>\n",
       "      <td>5</td>\n",
       "    </tr>\n",
       "    <tr>\n",
       "      <th>1</th>\n",
       "      <td>Andrew Adult Male – 18 September 2010.docx</td>\n",
       "      <td>2010-09-18</td>\n",
       "      <td>[Dave White]</td>\n",
       "      <td>[Andrew Peters]</td>\n",
       "      <td>Andrew Peters – 18 September 2010\\n\\nInterview...</td>\n",
       "      <td>5</td>\n",
       "    </tr>\n",
       "    <tr>\n",
       "      <th>2</th>\n",
       "      <td>Anita Smith - .docx</td>\n",
       "      <td>NaT</td>\n",
       "      <td>[Dave White]</td>\n",
       "      <td>[Anita Smith]</td>\n",
       "      <td>Interviewer: Dave White\\nInterviewee: Anita Sm...</td>\n",
       "      <td>3</td>\n",
       "    </tr>\n",
       "    <tr>\n",
       "      <th>3</th>\n",
       "      <td>Apollo Blackeagle – 27 October 2010.docx</td>\n",
       "      <td>2010-10-27</td>\n",
       "      <td>[Rick Fehr, David White]</td>\n",
       "      <td>[Apollo Blackeagle]</td>\n",
       "      <td>Apollo Blackeagle – 27 October 2010\\n\\nIntervi...</td>\n",
       "      <td>5</td>\n",
       "    </tr>\n",
       "    <tr>\n",
       "      <th>4</th>\n",
       "      <td>Bill Sands.docx</td>\n",
       "      <td>NaT</td>\n",
       "      <td>[Dave White]</td>\n",
       "      <td>[Bill Sands]</td>\n",
       "      <td>Interviewer: Dave White\\nInterviewee: Bill San...</td>\n",
       "      <td>3</td>\n",
       "    </tr>\n",
       "  </tbody>\n",
       "</table>\n",
       "</div>"
      ],
      "text/plain": [
       "                                     FILENAME       DATE  \\\n",
       "0      Aimee Johnson – 17 September 2010.docx 2010-09-17   \n",
       "1  Andrew Adult Male – 18 September 2010.docx 2010-09-18   \n",
       "2                         Anita Smith - .docx        NaT   \n",
       "3    Apollo Blackeagle – 27 October 2010.docx 2010-10-27   \n",
       "4                             Bill Sands.docx        NaT   \n",
       "\n",
       "               INTERVIEWERS         INTERVIEWEES  \\\n",
       "0               [Rick Fehr]      [Aimee Johnson]   \n",
       "1              [Dave White]      [Andrew Peters]   \n",
       "2              [Dave White]        [Anita Smith]   \n",
       "3  [Rick Fehr, David White]  [Apollo Blackeagle]   \n",
       "4              [Dave White]         [Bill Sands]   \n",
       "\n",
       "                                                TEXT  BEGINNING  \n",
       "0  Aimee Johnson – 17 September 2010\\n\\nInterview...          5  \n",
       "1  Andrew Peters – 18 September 2010\\n\\nInterview...          5  \n",
       "2  Interviewer: Dave White\\nInterviewee: Anita Sm...          3  \n",
       "3  Apollo Blackeagle – 27 October 2010\\n\\nIntervi...          5  \n",
       "4  Interviewer: Dave White\\nInterviewee: Bill San...          3  "
      ]
     },
     "execution_count": 18,
     "metadata": {},
     "output_type": "execute_result"
    }
   ],
   "source": [
    "transcripts_df.head()"
   ]
  },
  {
   "cell_type": "markdown",
   "metadata": {},
   "source": [
    "## Saving data"
   ]
  },
  {
   "cell_type": "code",
   "execution_count": 19,
   "metadata": {
    "collapsed": true
   },
   "outputs": [],
   "source": [
    "transcripts_df.to_csv('data/out/transcripts.csv', index=False)"
   ]
  },
  {
   "cell_type": "code",
   "execution_count": 20,
   "metadata": {},
   "outputs": [],
   "source": [
    "transcripts2_df = pd.read_csv('data/out/transcripts.csv', converters={'INTERVIEWERS': eval, 'INTERVIEWEES': eval}, parse_dates=['DATE'])"
   ]
  },
  {
   "cell_type": "code",
   "execution_count": 21,
   "metadata": {},
   "outputs": [
    {
     "data": {
      "text/html": [
       "<div>\n",
       "<style>\n",
       "    .dataframe thead tr:only-child th {\n",
       "        text-align: right;\n",
       "    }\n",
       "\n",
       "    .dataframe thead th {\n",
       "        text-align: left;\n",
       "    }\n",
       "\n",
       "    .dataframe tbody tr th {\n",
       "        vertical-align: top;\n",
       "    }\n",
       "</style>\n",
       "<table border=\"1\" class=\"dataframe\">\n",
       "  <thead>\n",
       "    <tr style=\"text-align: right;\">\n",
       "      <th></th>\n",
       "      <th>FILENAME</th>\n",
       "      <th>DATE</th>\n",
       "      <th>INTERVIEWERS</th>\n",
       "      <th>INTERVIEWEES</th>\n",
       "      <th>TEXT</th>\n",
       "      <th>BEGINNING</th>\n",
       "    </tr>\n",
       "  </thead>\n",
       "  <tbody>\n",
       "    <tr>\n",
       "      <th>0</th>\n",
       "      <td>Aimee Johnson – 17 September 2010.docx</td>\n",
       "      <td>2010-09-17</td>\n",
       "      <td>[Rick Fehr]</td>\n",
       "      <td>[Aimee Johnson]</td>\n",
       "      <td>Aimee Johnson – 17 September 2010\\n\\nInterview...</td>\n",
       "      <td>5</td>\n",
       "    </tr>\n",
       "    <tr>\n",
       "      <th>1</th>\n",
       "      <td>Andrew Adult Male – 18 September 2010.docx</td>\n",
       "      <td>2010-09-18</td>\n",
       "      <td>[Dave White]</td>\n",
       "      <td>[Andrew Peters]</td>\n",
       "      <td>Andrew Peters – 18 September 2010\\n\\nInterview...</td>\n",
       "      <td>5</td>\n",
       "    </tr>\n",
       "    <tr>\n",
       "      <th>2</th>\n",
       "      <td>Anita Smith - .docx</td>\n",
       "      <td>NaT</td>\n",
       "      <td>[Dave White]</td>\n",
       "      <td>[Anita Smith]</td>\n",
       "      <td>Interviewer: Dave White\\nInterviewee: Anita Sm...</td>\n",
       "      <td>3</td>\n",
       "    </tr>\n",
       "    <tr>\n",
       "      <th>3</th>\n",
       "      <td>Apollo Blackeagle – 27 October 2010.docx</td>\n",
       "      <td>2010-10-27</td>\n",
       "      <td>[Rick Fehr, David White]</td>\n",
       "      <td>[Apollo Blackeagle]</td>\n",
       "      <td>Apollo Blackeagle – 27 October 2010\\n\\nIntervi...</td>\n",
       "      <td>5</td>\n",
       "    </tr>\n",
       "    <tr>\n",
       "      <th>4</th>\n",
       "      <td>Bill Sands.docx</td>\n",
       "      <td>NaT</td>\n",
       "      <td>[Dave White]</td>\n",
       "      <td>[Bill Sands]</td>\n",
       "      <td>Interviewer: Dave White\\nInterviewee: Bill San...</td>\n",
       "      <td>3</td>\n",
       "    </tr>\n",
       "  </tbody>\n",
       "</table>\n",
       "</div>"
      ],
      "text/plain": [
       "                                     FILENAME       DATE  \\\n",
       "0      Aimee Johnson – 17 September 2010.docx 2010-09-17   \n",
       "1  Andrew Adult Male – 18 September 2010.docx 2010-09-18   \n",
       "2                         Anita Smith - .docx        NaT   \n",
       "3    Apollo Blackeagle – 27 October 2010.docx 2010-10-27   \n",
       "4                             Bill Sands.docx        NaT   \n",
       "\n",
       "               INTERVIEWERS         INTERVIEWEES  \\\n",
       "0               [Rick Fehr]      [Aimee Johnson]   \n",
       "1              [Dave White]      [Andrew Peters]   \n",
       "2              [Dave White]        [Anita Smith]   \n",
       "3  [Rick Fehr, David White]  [Apollo Blackeagle]   \n",
       "4              [Dave White]         [Bill Sands]   \n",
       "\n",
       "                                                TEXT  BEGINNING  \n",
       "0  Aimee Johnson – 17 September 2010\\n\\nInterview...          5  \n",
       "1  Andrew Peters – 18 September 2010\\n\\nInterview...          5  \n",
       "2  Interviewer: Dave White\\nInterviewee: Anita Sm...          3  \n",
       "3  Apollo Blackeagle – 27 October 2010\\n\\nIntervi...          5  \n",
       "4  Interviewer: Dave White\\nInterviewee: Bill San...          3  "
      ]
     },
     "execution_count": 21,
     "metadata": {},
     "output_type": "execute_result"
    }
   ],
   "source": [
    "transcripts2_df.head()"
   ]
  },
  {
   "cell_type": "code",
   "execution_count": 22,
   "metadata": {},
   "outputs": [
    {
     "data": {
      "text/plain": [
       "Timestamp('2010-09-17 00:00:00')"
      ]
     },
     "execution_count": 22,
     "metadata": {},
     "output_type": "execute_result"
    }
   ],
   "source": [
    "transcripts_df.DATE[0]"
   ]
  },
  {
   "cell_type": "code",
   "execution_count": 23,
   "metadata": {},
   "outputs": [
    {
     "data": {
      "text/plain": [
       "pandas._libs.tslib.Timestamp"
      ]
     },
     "execution_count": 23,
     "metadata": {},
     "output_type": "execute_result"
    }
   ],
   "source": [
    "type(transcripts_df.DATE[0])"
   ]
  },
  {
   "cell_type": "code",
   "execution_count": 25,
   "metadata": {},
   "outputs": [
    {
     "data": {
      "text/plain": [
       "5"
      ]
     },
     "execution_count": 25,
     "metadata": {},
     "output_type": "execute_result"
    }
   ],
   "source": [
    "transcripts_df.BEGINNING[0]"
   ]
  },
  {
   "cell_type": "code",
   "execution_count": 26,
   "metadata": {},
   "outputs": [
    {
     "data": {
      "text/plain": [
       "numpy.int64"
      ]
     },
     "execution_count": 26,
     "metadata": {},
     "output_type": "execute_result"
    }
   ],
   "source": [
    "type(transcripts_df.BEGINNING[0])"
   ]
  },
  {
   "cell_type": "code",
   "execution_count": 24,
   "metadata": {},
   "outputs": [
    {
     "data": {
      "text/plain": [
       "Timestamp('2010-09-17 00:00:00')"
      ]
     },
     "execution_count": 24,
     "metadata": {},
     "output_type": "execute_result"
    }
   ],
   "source": [
    "transcripts2_df.DATE[0]"
   ]
  },
  {
   "cell_type": "code",
   "execution_count": 16,
   "metadata": {},
   "outputs": [
    {
     "data": {
      "text/plain": [
       "pandas._libs.tslib.Timestamp"
      ]
     },
     "execution_count": 16,
     "metadata": {},
     "output_type": "execute_result"
    }
   ],
   "source": [
    "type(transcripts2_df.DATE[0])"
   ]
  },
  {
   "cell_type": "code",
   "execution_count": null,
   "metadata": {
    "collapsed": true
   },
   "outputs": [],
   "source": []
  }
 ],
 "metadata": {
  "kernelspec": {
   "display_name": "Python 3",
   "language": "python",
   "name": "python3"
  },
  "language_info": {
   "codemirror_mode": {
    "name": "ipython",
    "version": 3
   },
   "file_extension": ".py",
   "mimetype": "text/x-python",
   "name": "python",
   "nbconvert_exporter": "python",
   "pygments_lexer": "ipython3",
   "version": "3.4.3"
  }
 },
 "nbformat": 4,
 "nbformat_minor": 2
}
