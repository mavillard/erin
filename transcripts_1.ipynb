{
 "cells": [
  {
   "cell_type": "code",
   "execution_count": 14,
   "metadata": {
    "collapsed": true
   },
   "outputs": [],
   "source": [
    "import os\n",
    "from datetime import datetime\n",
    "\n",
    "import pandas as pd\n",
    "from docx import Document"
   ]
  },
  {
   "cell_type": "code",
   "execution_count": 21,
   "metadata": {},
   "outputs": [
    {
     "data": {
      "text/plain": [
       "datetime.datetime(2010, 10, 7, 0, 0)"
      ]
     },
     "execution_count": 21,
     "metadata": {},
     "output_type": "execute_result"
    }
   ],
   "source": [
    "ddd='7 October 2010'\n",
    "datetime.strptime(ddd, '%d %B %Y')"
   ]
  },
  {
   "cell_type": "code",
   "execution_count": 22,
   "metadata": {},
   "outputs": [
    {
     "data": {
      "text/plain": [
       "datetime.datetime(2010, 10, 21, 0, 0)"
      ]
     },
     "execution_count": 22,
     "metadata": {},
     "output_type": "execute_result"
    }
   ],
   "source": [
    "ddd='2010-10-21'\n",
    "datetime.strptime(ddd, '%Y-%m-%d')"
   ]
  },
  {
   "cell_type": "code",
   "execution_count": 26,
   "metadata": {},
   "outputs": [
    {
     "data": {
      "text/plain": [
       "datetime.datetime(2010, 11, 4, 0, 0)"
      ]
     },
     "execution_count": 26,
     "metadata": {},
     "output_type": "execute_result"
    }
   ],
   "source": [
    "ddd='Thursday November 4, 2010'\n",
    "datetime.strptime(ddd, '%A %B %d, %Y')"
   ]
  },
  {
   "cell_type": "code",
   "execution_count": 43,
   "metadata": {},
   "outputs": [
    {
     "data": {
      "text/plain": [
       "datetime.datetime(2010, 11, 4, 0, 0)"
      ]
     },
     "execution_count": 43,
     "metadata": {},
     "output_type": "execute_result"
    }
   ],
   "source": [
    "ddd='Date: Thursday November 4, 2010'\n",
    "ddd=ddd.split('Date:')[-1].strip()\n",
    "datetime.strptime(ddd, '%A %B %d, %Y')"
   ]
  },
  {
   "cell_type": "code",
   "execution_count": 47,
   "metadata": {},
   "outputs": [
    {
     "data": {
      "text/plain": [
       "'2010-10-21'"
      ]
     },
     "execution_count": 47,
     "metadata": {},
     "output_type": "execute_result"
    }
   ],
   "source": [
    "ddd='Date: 2010-10-21'\n",
    "ddd=ddd.split('Date:')[-1].strip()\n",
    "ddd"
   ]
  },
  {
   "cell_type": "code",
   "execution_count": 40,
   "metadata": {},
   "outputs": [
    {
     "data": {
      "text/plain": [
       "datetime.datetime(2010, 9, 16, 0, 0)"
      ]
     },
     "execution_count": 40,
     "metadata": {},
     "output_type": "execute_result"
    }
   ],
   "source": [
    "ddd='16 Sep 2010'\n",
    "datetime.strptime(ddd, '%d %b %Y')"
   ]
  },
  {
   "cell_type": "code",
   "execution_count": 75,
   "metadata": {},
   "outputs": [
    {
     "data": {
      "text/plain": [
       "datetime.datetime(2010, 10, 8, 0, 0)"
      ]
     },
     "execution_count": 75,
     "metadata": {},
     "output_type": "execute_result"
    }
   ],
   "source": [
    "ddd='Stuart 8 October 2010'\n",
    "ddd=' '.join(ddd.split()[1:])\n",
    "datetime.strptime(ddd, '%d %B %Y')"
   ]
  },
  {
   "cell_type": "code",
   "execution_count": 74,
   "metadata": {},
   "outputs": [
    {
     "data": {
      "text/plain": [
       "datetime.datetime(2010, 10, 8, 0, 0)"
      ]
     },
     "execution_count": 74,
     "metadata": {},
     "output_type": "execute_result"
    }
   ],
   "source": [
    "datetime(2010, 10, 8)"
   ]
  },
  {
   "cell_type": "code",
   "execution_count": 76,
   "metadata": {},
   "outputs": [
    {
     "name": "stdout",
     "output_type": "stream",
     "text": [
      "Themes for WIFNENV.docx --- Themes for interview analysis. --- for interview analysis. --- None\n",
      "Dot Peters.docx --- Dot Peters –  ---  --- None\n",
      "Joanne Day.docx --- Joanne Day –  ---  --- None\n",
      "Growing up on Walpole.docx --- \t\t                Growing up on Walpole --- up on Walpole --- None\n",
      "Anita Smith - .docx --- Interviewer: Dave White --- Dave White --- None\n",
      "Vernon and Suzi Jones –.docx --- Vernon and Suzie Jones –  ---  --- None\n",
      "Bill Sands.docx --- Interviewer: Dave White --- Dave White --- None\n",
      "Greg Isaac –.docx --- Greg Isaac –  ---  --- None\n",
      "Jasper and Eliza John –.docx --- Jasper and Eliza John –  ---  --- None\n",
      "archie.docx --- Dave: So we’re trying to retrieve information from our community through the membership about the customary law, environmental policy and the conturnists that we got to far away from the old family traditions and things that allowed us to survive off the natural resources of Walpole Island and we frequently pointed to things out side of our community that affect us, but within the delta we do have control over this area. So we would like to see what could be done to help us preserve those things that sustained us along time ago and still do to great extent today from the environment and we’re wondering how we can bring those values forward and maybe reinterpret them into customary law or policy that the band can use to preserve those natural resources. And to do that we ask the interviewee about remembrances about how their families and their history or remembrances that the grandparents or the parents told you about the interaction of the families and the bush, the marsh the rivers and the lakes and how they sustained themselves healthy through gathering medicines and home remedies and things like that as well. So do you remember stories about days gone by and how the families on Walpole or how your family might of enjoyed the resources of Walpole Island? --- So we’re trying to retrieve information from our community through the membership about the customary law, environmental policy and the conturnists that we got to far away from the old family traditions and things that allowed us to survive off the natural resources of Walpole Island and we frequently pointed to things out side of our community that affect us, but within the delta we do have control over this area. So we would like to see what could be done to help us preserve those things that sustained us along time ago and still do to great extent today from the environment and we’re wondering how we can bring those values forward and maybe reinterpret them into customary law or policy that the band can use to preserve those natural resources. And to do that we ask the interviewee about remembrances about how their families and their history or remembrances that the grandparents or the parents told you about the interaction of the families and the bush, the marsh the rivers and the lakes and how they sustained themselves healthy through gathering medicines and home remedies and things like that as well. So do you remember stories about days gone by and how the families on Walpole or how your family might of enjoyed the resources of Walpole Island? --- None\n",
      "Lloyd Day –.docx --- Lloyd Day –  ---  --- None\n",
      "cal.docx --- Dave:  What do you remember from a long time ago that gave you a pleasent recollection? What was really good about those good old days?  --- What do you remember from a long time ago that gave you a pleasent recollection? What was really good about those good old days? --- None\n"
     ]
    }
   ],
   "source": [
    "PATH = 'data/src/'\n",
    "\n",
    "for filename in os.listdir(PATH):\n",
    "    file_path = os.path.join(PATH, filename)\n",
    "    document = Document(file_path)\n",
    "    first_par = True\n",
    "    for par in document.paragraphs:\n",
    "        text = par.text\n",
    "        if first_par:\n",
    "            if 'Date:' in text:\n",
    "                possible_date = text.split('Date:')[-1].strip()\n",
    "            elif '–' in text:\n",
    "                possible_date = text.split('–')[-1].strip()\n",
    "            elif '-' in text:\n",
    "                possible_date = text.split('-')[-1].strip()\n",
    "            else:\n",
    "                possible_date = text\n",
    "            for form in ['%d %B %Y', '%Y-%m-%d', '%A %B %d, %Y', '%d %b %Y']:\n",
    "                try:\n",
    "                    date = datetime.strptime(possible_date, form)\n",
    "                    break\n",
    "                except:\n",
    "                    date = None\n",
    "            if not date:\n",
    "                possible_date = ' '.join(possible_date.split()[1:])\n",
    "                for form in ['%d %B %Y', '%Y-%m-%d', '%A %B %d, %Y', '%d %b %Y']:\n",
    "                    try:\n",
    "                        date = datetime.strptime(possible_date, form)\n",
    "                        break\n",
    "                    except:\n",
    "                        date = None\n",
    "            if not date:\n",
    "                if filename == 'Stuart 8 October 2010.docx':\n",
    "                    date = datetime(2010, 10, 8)\n",
    "                elif filename == 'Cheryl Adult female – 3 September 2010.docx':\n",
    "                    date = datetime(2010, 9, 3)\n",
    "                elif filename == 'Lee White 16 September 2010.docx':\n",
    "                    date = datetime(2010, 9, 16)\n",
    "                elif filename == 'Tom adult male 16 September 2010.docx':\n",
    "                    date = datetime(2010, 9, 16)\n",
    "        if not date:\n",
    "            print(filename, '---', text, '---', possible_date, '---', date)\n",
    "        break"
   ]
  },
  {
   "cell_type": "code",
   "execution_count": null,
   "metadata": {
    "collapsed": true
   },
   "outputs": [],
   "source": [
    "para."
   ]
  }
 ],
 "metadata": {
  "kernelspec": {
   "display_name": "Python 3",
   "language": "python",
   "name": "python3"
  },
  "language_info": {
   "codemirror_mode": {
    "name": "ipython",
    "version": 3
   },
   "file_extension": ".py",
   "mimetype": "text/x-python",
   "name": "python",
   "nbconvert_exporter": "python",
   "pygments_lexer": "ipython3",
   "version": "3.4.3"
  }
 },
 "nbformat": 4,
 "nbformat_minor": 2
}
