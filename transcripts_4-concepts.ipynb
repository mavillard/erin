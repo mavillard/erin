{
 "cells": [
  {
   "cell_type": "markdown",
   "metadata": {
    "collapsed": true
   },
   "source": [
    "# Transcripts"
   ]
  },
  {
   "cell_type": "code",
   "execution_count": 1,
   "metadata": {
    "collapsed": true
   },
   "outputs": [],
   "source": [
    "import string\n",
    "from collections import Counter\n",
    "from collections import defaultdict\n",
    "\n",
    "import networkx as nx\n",
    "import pandas as pd\n",
    "from nltk import word_tokenize\n",
    "from nltk.corpus import stopwords\n",
    "from nltk.corpus import wordnet as wn\n",
    "from textblob import Word"
   ]
  },
  {
   "cell_type": "markdown",
   "metadata": {},
   "source": [
    "## Loading data"
   ]
  },
  {
   "cell_type": "markdown",
   "metadata": {},
   "source": [
    "### Transcripts"
   ]
  },
  {
   "cell_type": "code",
   "execution_count": 2,
   "metadata": {
    "collapsed": true
   },
   "outputs": [],
   "source": [
    "transcripts_df = pd.read_csv(\n",
    "    'data/out/transcripts_1.csv',\n",
    "    converters={'INTERVIEWERS': eval, 'INTERVIEWEES': eval, 'ALIASES': eval, 'INTERVIEW': eval},\n",
    ")\n",
    "transcripts_df = transcripts_df[['ID', 'INTERVIEWERS', 'INTERVIEWEES', 'ALIASES', 'INTERVIEW']]"
   ]
  },
  {
   "cell_type": "code",
   "execution_count": 3,
   "metadata": {},
   "outputs": [
    {
     "data": {
      "text/html": [
       "<div>\n",
       "<style>\n",
       "    .dataframe thead tr:only-child th {\n",
       "        text-align: right;\n",
       "    }\n",
       "\n",
       "    .dataframe thead th {\n",
       "        text-align: left;\n",
       "    }\n",
       "\n",
       "    .dataframe tbody tr th {\n",
       "        vertical-align: top;\n",
       "    }\n",
       "</style>\n",
       "<table border=\"1\" class=\"dataframe\">\n",
       "  <thead>\n",
       "    <tr style=\"text-align: right;\">\n",
       "      <th></th>\n",
       "      <th>ID</th>\n",
       "      <th>INTERVIEWERS</th>\n",
       "      <th>INTERVIEWEES</th>\n",
       "      <th>ALIASES</th>\n",
       "      <th>INTERVIEW</th>\n",
       "    </tr>\n",
       "  </thead>\n",
       "  <tbody>\n",
       "    <tr>\n",
       "      <th>0</th>\n",
       "      <td>Aimee Johnson – 17 September 2010</td>\n",
       "      <td>[Rick Fehr]</td>\n",
       "      <td>[Aimee Johnson]</td>\n",
       "      <td>[]</td>\n",
       "      <td>[(0, Rick, Ok.  We’re recording now, I’m sitti...</td>\n",
       "    </tr>\n",
       "    <tr>\n",
       "      <th>1</th>\n",
       "      <td>Anita Smith -</td>\n",
       "      <td>[Dave White]</td>\n",
       "      <td>[Anita Smith]</td>\n",
       "      <td>[]</td>\n",
       "      <td>[(0, Dave, How did we use to use the environme...</td>\n",
       "    </tr>\n",
       "    <tr>\n",
       "      <th>2</th>\n",
       "      <td>Apollo Blackeagle – 27 October 2010</td>\n",
       "      <td>[Rick Fehr, David White]</td>\n",
       "      <td>[Apollo Blackeagle]</td>\n",
       "      <td>[]</td>\n",
       "      <td>[(0, Rick, Ok, its October 27th I believe, we’...</td>\n",
       "    </tr>\n",
       "    <tr>\n",
       "      <th>3</th>\n",
       "      <td>Bill Sands</td>\n",
       "      <td>[Dave White]</td>\n",
       "      <td>[Bill Sands]</td>\n",
       "      <td>[]</td>\n",
       "      <td>[(0, Dave, In the past, there’s concern today ...</td>\n",
       "    </tr>\n",
       "    <tr>\n",
       "      <th>4</th>\n",
       "      <td>Brenda Wheat – 24 May 2011</td>\n",
       "      <td>[Rick Fehr]</td>\n",
       "      <td>[Brenda Wheat]</td>\n",
       "      <td>[]</td>\n",
       "      <td>[(0, Rick, So what we’ll be using is just a li...</td>\n",
       "    </tr>\n",
       "  </tbody>\n",
       "</table>\n",
       "</div>"
      ],
      "text/plain": [
       "                                    ID              INTERVIEWERS  \\\n",
       "0    Aimee Johnson – 17 September 2010               [Rick Fehr]   \n",
       "1                       Anita Smith -               [Dave White]   \n",
       "2  Apollo Blackeagle – 27 October 2010  [Rick Fehr, David White]   \n",
       "3                           Bill Sands              [Dave White]   \n",
       "4           Brenda Wheat – 24 May 2011               [Rick Fehr]   \n",
       "\n",
       "          INTERVIEWEES ALIASES  \\\n",
       "0      [Aimee Johnson]      []   \n",
       "1        [Anita Smith]      []   \n",
       "2  [Apollo Blackeagle]      []   \n",
       "3         [Bill Sands]      []   \n",
       "4       [Brenda Wheat]      []   \n",
       "\n",
       "                                           INTERVIEW  \n",
       "0  [(0, Rick, Ok.  We’re recording now, I’m sitti...  \n",
       "1  [(0, Dave, How did we use to use the environme...  \n",
       "2  [(0, Rick, Ok, its October 27th I believe, we’...  \n",
       "3  [(0, Dave, In the past, there’s concern today ...  \n",
       "4  [(0, Rick, So what we’ll be using is just a li...  "
      ]
     },
     "execution_count": 3,
     "metadata": {},
     "output_type": "execute_result"
    }
   ],
   "source": [
    "transcripts_df.head()"
   ]
  },
  {
   "cell_type": "code",
   "execution_count": 4,
   "metadata": {},
   "outputs": [
    {
     "data": {
      "text/plain": [
       "(50, 5)"
      ]
     },
     "execution_count": 4,
     "metadata": {},
     "output_type": "execute_result"
    }
   ],
   "source": [
    "transcripts_df.shape"
   ]
  },
  {
   "cell_type": "markdown",
   "metadata": {},
   "source": [
    "### Concepts"
   ]
  },
  {
   "cell_type": "code",
   "execution_count": 5,
   "metadata": {},
   "outputs": [],
   "source": [
    "concepts = [\n",
    "    'water', 'animal', 'medicine', 'clothing', 'plant', 'food', #'activity', 'place', 'tool',\n",
    "    'treaty', 'ceremony', 'ancestor',\n",
    "]"
   ]
  },
  {
   "cell_type": "markdown",
   "metadata": {},
   "source": [
    "### Specific keywords"
   ]
  },
  {
   "cell_type": "code",
   "execution_count": 6,
   "metadata": {
    "collapsed": true
   },
   "outputs": [],
   "source": [
    "specific_words = {}\n",
    "current_category = ''\n",
    "with open('data/specific_keywords.txt') as f:\n",
    "    for line in f:\n",
    "        line = line.strip()\n",
    "        if line:\n",
    "            if line.endswith(':'):\n",
    "                current_category = line.split(':')[0].lower()\n",
    "                specific_words[current_category] = []\n",
    "            else:\n",
    "                specific_words[current_category].append(line.lower())"
   ]
  },
  {
   "cell_type": "markdown",
   "metadata": {},
   "source": [
    "### Most frequent words"
   ]
  },
  {
   "cell_type": "code",
   "execution_count": 7,
   "metadata": {},
   "outputs": [],
   "source": [
    "most_freq_words = defaultdict(dict)\n",
    "current_category = ''\n",
    "with open('data/most_freq_words.txt') as f:\n",
    "    for line in f:\n",
    "        if line.startswith('#'):\n",
    "            current_category = line.split('-')[0].lower()[2:-1]\n",
    "        else:\n",
    "            word = line[3:].split(\"'\")[0].lower()\n",
    "            freq = line[3:].split(\"'\")[1][1:-3]\n",
    "            most_freq_words[current_category].update({word: freq})\n",
    "most_freq_words = dict(most_freq_words)"
   ]
  },
  {
   "cell_type": "markdown",
   "metadata": {},
   "source": [
    "### Proper names"
   ]
  },
  {
   "cell_type": "markdown",
   "metadata": {},
   "source": [
    "#### People"
   ]
  },
  {
   "cell_type": "code",
   "execution_count": 8,
   "metadata": {},
   "outputs": [],
   "source": [
    "g = nx.read_gexf('data/out/people.gexf')\n",
    "people = g.nodes()"
   ]
  },
  {
   "cell_type": "markdown",
   "metadata": {},
   "source": [
    "#### Others"
   ]
  },
  {
   "cell_type": "code",
   "execution_count": 9,
   "metadata": {},
   "outputs": [],
   "source": [
    "h = nx.read_gexf('data/out/other.gexf')\n",
    "others = h.nodes()"
   ]
  },
  {
   "cell_type": "markdown",
   "metadata": {},
   "source": [
    "## Processing data"
   ]
  },
  {
   "cell_type": "code",
   "execution_count": 10,
   "metadata": {
    "collapsed": true
   },
   "outputs": [],
   "source": [
    "def all_hypernyms(ss):\n",
    "    return ss.closure(lambda x: x.hypernyms())"
   ]
  },
  {
   "cell_type": "code",
   "execution_count": 11,
   "metadata": {
    "collapsed": true
   },
   "outputs": [],
   "source": [
    "all_text = '\\n'.join([text for interview in transcripts_df.INTERVIEW for (index, name, text) in interview])"
   ]
  },
  {
   "cell_type": "code",
   "execution_count": 12,
   "metadata": {},
   "outputs": [
    {
     "data": {
      "text/plain": [
       "[Synset('turtleneck.n.01'),\n",
       " Synset('turtle.n.02'),\n",
       " Synset('capsize.v.01'),\n",
       " Synset('turtle.v.02')]"
      ]
     },
     "execution_count": 12,
     "metadata": {},
     "output_type": "execute_result"
    }
   ],
   "source": [
    "wn.synsets('Turtle')"
   ]
  },
  {
   "cell_type": "code",
   "execution_count": 13,
   "metadata": {
    "collapsed": true
   },
   "outputs": [],
   "source": [
    "stop = stopwords.words('english')\n",
    "stop.extend(string.punctuation)"
   ]
  },
  {
   "cell_type": "code",
   "execution_count": 14,
   "metadata": {},
   "outputs": [],
   "source": [
    "def clean_text(text):\n",
    "    text = text.lower()\n",
    "    tokens = word_tokenize(text)\n",
    "    words = [token for token in tokens if token not in stop and token and len(token) > 2]\n",
    "    text = ' '.join(words)\n",
    "    return text"
   ]
  },
  {
   "cell_type": "code",
   "execution_count": 15,
   "metadata": {},
   "outputs": [],
   "source": [
    "cleaned_all_text = clean_text(all_text)"
   ]
  },
  {
   "cell_type": "code",
   "execution_count": 16,
   "metadata": {
    "collapsed": true
   },
   "outputs": [],
   "source": [
    "all_found_terms = set()"
   ]
  },
  {
   "cell_type": "markdown",
   "metadata": {},
   "source": [
    "### Concepts"
   ]
  },
  {
   "cell_type": "code",
   "execution_count": 17,
   "metadata": {},
   "outputs": [],
   "source": [
    "# concepts\n",
    "wordnet_concepts_dict = {\n",
    "    'water': ['body_of_water.n.01'],\n",
    "    'animal': ['animal.n.01'],\n",
    "    'medicine': ['medicine.n.02'],\n",
    "    'clothing': ['clothing.n.01'],\n",
    "#     'tool': ['instrumentality.n.03'],\n",
    "#     'activity': ['interact.v.01', 'act.v.01'],\n",
    "#     'place': ['location.n.01', 'building.n.01'],\n",
    "    'plant': ['plant.n.02'],\n",
    "    'food': ['food.n.01', 'food.n.02'],\n",
    "    'treaty': ['treaty.n.01'],\n",
    "    'ceremony': ['ceremony.n.01', 'ceremony.n.02', 'ceremony.n.03'],\n",
    "    'ancestor': ['ancestor.n.01'],\n",
    "}\n",
    "synsets = [wn.synset(ss) for ls in wordnet_concepts_dict.values() for ss in ls]"
   ]
  },
  {
   "cell_type": "code",
   "execution_count": 18,
   "metadata": {
    "collapsed": true
   },
   "outputs": [],
   "source": [
    "def inverse_list_dict(d):\n",
    "    i = {}\n",
    "    for k in d:\n",
    "        for v in d[k]:\n",
    "            i[v] = k\n",
    "    return i"
   ]
  },
  {
   "cell_type": "code",
   "execution_count": 19,
   "metadata": {
    "collapsed": true
   },
   "outputs": [],
   "source": [
    "inverse_concepts = inverse_list_dict(wordnet_concepts_dict)"
   ]
  },
  {
   "cell_type": "code",
   "execution_count": 20,
   "metadata": {},
   "outputs": [
    {
     "data": {
      "text/plain": [
       "{'ancestor.n.01': 'ancestor',\n",
       " 'animal.n.01': 'animal',\n",
       " 'body_of_water.n.01': 'water',\n",
       " 'ceremony.n.01': 'ceremony',\n",
       " 'ceremony.n.02': 'ceremony',\n",
       " 'ceremony.n.03': 'ceremony',\n",
       " 'clothing.n.01': 'clothing',\n",
       " 'food.n.01': 'food',\n",
       " 'food.n.02': 'food',\n",
       " 'medicine.n.02': 'medicine',\n",
       " 'plant.n.02': 'plant',\n",
       " 'treaty.n.01': 'treaty'}"
      ]
     },
     "execution_count": 20,
     "metadata": {},
     "output_type": "execute_result"
    }
   ],
   "source": [
    "inverse_concepts"
   ]
  },
  {
   "cell_type": "code",
   "execution_count": 21,
   "metadata": {},
   "outputs": [
    {
     "name": "stdout",
     "output_type": "stream",
     "text": [
      "CPU times: user 50 s, sys: 188 ms, total: 50.2 s\n",
      "Wall time: 50.3 s\n"
     ]
    }
   ],
   "source": [
    "%%time\n",
    "\n",
    "found_concepts = defaultdict(list)\n",
    "for w in cleaned_all_text.split():\n",
    "    sss = wn.synsets(w)\n",
    "    for ss in sss:\n",
    "        intersect = set(all_hypernyms(ss)).intersection(synsets)\n",
    "        if intersect:\n",
    "            all_found_terms.add(w)\n",
    "            for ssi in intersect:\n",
    "                cateogory = inverse_concepts[ssi.name()]\n",
    "                if cateogory == 'ancestor':\n",
    "                    # In interpersonal relationships, it is intersting to see if they talk about\n",
    "                    # their mother/father (singular, their own) mothers/fathers (plural, everyone's in general).\n",
    "                    # Also, if they say mother/father (more formal) or mom/dad (more familiar).\n",
    "                    term = w # original word in the transcriptions\n",
    "                else:\n",
    "                    term = ss.name().split('.')[0] # generic concept\n",
    "                found_concepts[cateogory].append(term)"
   ]
  },
  {
   "cell_type": "code",
   "execution_count": 22,
   "metadata": {},
   "outputs": [],
   "source": [
    "found_concepts_counter = {}\n",
    "for k in found_concepts:\n",
    "    found_concepts_counter[k] = Counter(found_concepts[k])"
   ]
  },
  {
   "cell_type": "code",
   "execution_count": 23,
   "metadata": {},
   "outputs": [
    {
     "name": "stdout",
     "output_type": "stream",
     "text": [
      "treaty 3\n",
      "food 286\n",
      "ceremony 17\n",
      "water 27\n",
      "animal 251\n",
      "plant 159\n",
      "medicine 13\n",
      "ancestor 27\n",
      "clothing 71\n"
     ]
    }
   ],
   "source": [
    "for k in found_concepts_counter:\n",
    "    print(k, len(found_concepts_counter[k]))"
   ]
  },
  {
   "cell_type": "code",
   "execution_count": 24,
   "metadata": {},
   "outputs": [
    {
     "data": {
      "text/plain": [
       "{'ancestor': Counter({'dad': 329,\n",
       "          'dads': 5,\n",
       "          'father': 110,\n",
       "          'fathers': 12,\n",
       "          'forefathers': 4,\n",
       "          'gran': 2,\n",
       "          'grandfather': 75,\n",
       "          'grandfathers': 12,\n",
       "          'grandma': 16,\n",
       "          'grandmas': 1,\n",
       "          'grandmother': 59,\n",
       "          'grandmothers': 4,\n",
       "          'grandpa': 20,\n",
       "          'grandparent': 1,\n",
       "          'grandparents': 41,\n",
       "          'jacob': 2,\n",
       "          'jacobs': 26,\n",
       "          'mom': 107,\n",
       "          'moms': 2,\n",
       "          'mother': 95,\n",
       "          'mothers': 2,\n",
       "          'papa': 1,\n",
       "          'parent': 6,\n",
       "          'parents': 58,\n",
       "          'pop': 11,\n",
       "          'pops': 1,\n",
       "          'simeon': 3}),\n",
       " 'animal': Counter({'abalone': 1,\n",
       "          'adult': 26,\n",
       "          'alligator': 3,\n",
       "          'american_bison': 3,\n",
       "          'amphibian': 2,\n",
       "          'ant': 13,\n",
       "          'ass': 3,\n",
       "          'baby': 80,\n",
       "          'bass': 38,\n",
       "          'basset': 7,\n",
       "          'bat': 7,\n",
       "          'bay': 75,\n",
       "          'bear': 15,\n",
       "          'beaver': 8,\n",
       "          'bee': 103,\n",
       "          'beef': 3,\n",
       "          'beetle': 5,\n",
       "          'big_cat': 9,\n",
       "          'billy': 8,\n",
       "          'bird': 40,\n",
       "          'bivalve': 1,\n",
       "          'black-backed_gull': 3,\n",
       "          'blackbird': 44,\n",
       "          'blue': 16,\n",
       "          'bluegill': 2,\n",
       "          'bobcat': 10,\n",
       "          'bobwhite': 2,\n",
       "          'bowfin': 7,\n",
       "          'brood_hen': 1,\n",
       "          'buck': 21,\n",
       "          'buckskin': 1,\n",
       "          'bug': 6,\n",
       "          'bull': 30,\n",
       "          'bullfrog': 27,\n",
       "          'bullhead': 2,\n",
       "          'bullock': 1,\n",
       "          'calf': 4,\n",
       "          'canvasback': 1,\n",
       "          'caribou': 1,\n",
       "          'carp': 83,\n",
       "          'cat': 9,\n",
       "          'catfish': 4,\n",
       "          'cattle': 47,\n",
       "          'chick': 1,\n",
       "          'chicken': 75,\n",
       "          'chimpanzee': 2,\n",
       "          'chipmunk': 1,\n",
       "          'chow': 1,\n",
       "          'clam': 5,\n",
       "          'cob': 6,\n",
       "          'cock': 2,\n",
       "          'comma': 1,\n",
       "          'common_raccoon': 5,\n",
       "          'copper': 1,\n",
       "          'copperhead': 2,\n",
       "          'coral': 4,\n",
       "          'cow': 60,\n",
       "          'coyote': 16,\n",
       "          'crab': 2,\n",
       "          'crab_louse': 2,\n",
       "          'crane': 2,\n",
       "          'crappie': 1,\n",
       "          'crayfish': 2,\n",
       "          'cricket': 2,\n",
       "          'crow': 7,\n",
       "          'dam': 4,\n",
       "          'deer': 163,\n",
       "          'dog': 53,\n",
       "          'dogfish': 6,\n",
       "          'domestic_fowl': 2,\n",
       "          'dove': 9,\n",
       "          'dragonfly': 3,\n",
       "          'drum': 13,\n",
       "          'duck': 322,\n",
       "          'eagle': 4,\n",
       "          'earthworm': 1,\n",
       "          'electric_ray': 1,\n",
       "          'elk': 14,\n",
       "          'fawn': 1,\n",
       "          'feeder': 8,\n",
       "          'female': 16,\n",
       "          'fetus': 1,\n",
       "          'fish': 450,\n",
       "          'fisher': 19,\n",
       "          'fly': 19,\n",
       "          'fox': 38,\n",
       "          'frog': 59,\n",
       "          'game': 79,\n",
       "          'giant': 12,\n",
       "          'goat': 15,\n",
       "          'goby': 1,\n",
       "          'goose': 83,\n",
       "          'grade': 30,\n",
       "          'grey': 1,\n",
       "          'greyhound': 2,\n",
       "          'grub': 1,\n",
       "          'guinea_fowl': 6,\n",
       "          'hack': 1,\n",
       "          'hare': 1,\n",
       "          'hawk': 2,\n",
       "          'head': 61,\n",
       "          'hedge_sparrow': 1,\n",
       "          'hemipterous_insect': 6,\n",
       "          'hen': 33,\n",
       "          'heron': 4,\n",
       "          'herring': 3,\n",
       "          'hog': 91,\n",
       "          'homo': 152,\n",
       "          'honeybee': 2,\n",
       "          'horse': 207,\n",
       "          'hound': 1,\n",
       "          'insect': 6,\n",
       "          'jack': 96,\n",
       "          'jackrabbit': 26,\n",
       "          'jay': 4,\n",
       "          'jennet': 12,\n",
       "          'kid': 352,\n",
       "          'killer_whale': 3,\n",
       "          'kit': 2,\n",
       "          'kitten': 1,\n",
       "          'kitty': 1,\n",
       "          'knot': 3,\n",
       "          'lamb': 3,\n",
       "          'larva': 2,\n",
       "          'layer': 7,\n",
       "          'leech': 3,\n",
       "          'leopard': 5,\n",
       "          'lion': 2,\n",
       "          'livestock': 16,\n",
       "          'liza': 1,\n",
       "          'lizard': 4,\n",
       "          'locust': 1,\n",
       "          'lynx': 2,\n",
       "          'mackerel': 1,\n",
       "          'maggot': 1,\n",
       "          'male': 10,\n",
       "          'mallard': 3,\n",
       "          'mammal': 2,\n",
       "          'mare': 1,\n",
       "          'mate': 4,\n",
       "          'mink': 27,\n",
       "          'minnow': 2,\n",
       "          'mollusk': 4,\n",
       "          'monitor': 3,\n",
       "          'monster': 2,\n",
       "          'moray': 1,\n",
       "          'morgan': 1,\n",
       "          'mosquito': 20,\n",
       "          'moth': 2,\n",
       "          'moth_miller': 1,\n",
       "          'mouse': 2,\n",
       "          'muskrat': 246,\n",
       "          'mussel': 26,\n",
       "          'new_world_blackbird': 44,\n",
       "          'new_world_chat': 2,\n",
       "          'ocean_sunfish': 4,\n",
       "          'old_world_buffalo': 3,\n",
       "          'old_world_chat': 2,\n",
       "          'otter': 3,\n",
       "          'ox': 2,\n",
       "          'parrot': 2,\n",
       "          'pen': 5,\n",
       "          'penguin': 1,\n",
       "          'perch': 28,\n",
       "          'permit': 4,\n",
       "          'pest': 1,\n",
       "          'pet': 11,\n",
       "          'pheasant': 37,\n",
       "          'pickerel': 16,\n",
       "          'pigeon': 2,\n",
       "          'pike': 39,\n",
       "          'pintail': 2,\n",
       "          'pony': 66,\n",
       "          'porpoise': 1,\n",
       "          'post_horse': 1,\n",
       "          'predator': 2,\n",
       "          'punkie': 1,\n",
       "          'pup': 2,\n",
       "          'quail': 24,\n",
       "          'queen': 6,\n",
       "          'rabbit': 80,\n",
       "          'raccoon': 9,\n",
       "          'ram': 3,\n",
       "          'rat': 62,\n",
       "          'red-winged_blackbird': 1,\n",
       "          'redwing': 1,\n",
       "          'reptile': 4,\n",
       "          'robin': 4,\n",
       "          'royal': 6,\n",
       "          'runner': 1,\n",
       "          'saddle_horse': 2,\n",
       "          'salmon': 11,\n",
       "          'scoter': 1,\n",
       "          'seal': 5,\n",
       "          'sheep': 2,\n",
       "          'shetland_sheepdog': 2,\n",
       "          'skate': 23,\n",
       "          'skunk': 6,\n",
       "          'smelt': 11,\n",
       "          'snake': 33,\n",
       "          'snook': 4,\n",
       "          'snow_leopard': 1,\n",
       "          'soft-shell_clam': 2,\n",
       "          'soldier': 2,\n",
       "          'sole': 1,\n",
       "          'song_thrush': 5,\n",
       "          'sow': 2,\n",
       "          'sparrow': 1,\n",
       "          'spiny_lobster': 2,\n",
       "          'squirrel': 68,\n",
       "          'stallion': 14,\n",
       "          'starling': 1,\n",
       "          'stonefish': 2,\n",
       "          'sturgeon': 26,\n",
       "          'sucker': 1,\n",
       "          'sunfish': 4,\n",
       "          'swallow': 4,\n",
       "          'swan': 1,\n",
       "          'swift': 2,\n",
       "          'tabby': 3,\n",
       "          'teal': 1,\n",
       "          'thoroughbred': 2,\n",
       "          'tick': 1,\n",
       "          'tom': 13,\n",
       "          'toy_dog': 7,\n",
       "          'trout': 1,\n",
       "          'turkey': 19,\n",
       "          'turkey_cock': 13,\n",
       "          'turtle': 76,\n",
       "          'vulture': 1,\n",
       "          'wading_bird': 4,\n",
       "          'walleye': 2,\n",
       "          'watchdog': 6,\n",
       "          'waterfowl': 4,\n",
       "          'weasel': 9,\n",
       "          'weaver': 2,\n",
       "          'western_fence_lizard': 2,\n",
       "          'whale': 1,\n",
       "          'wheel_horse': 2,\n",
       "          'whippet': 1,\n",
       "          'whitefish': 2,\n",
       "          'wolf': 15,\n",
       "          'wolffish': 4,\n",
       "          'wood_rabbit': 2,\n",
       "          'woodborer': 10,\n",
       "          'worker': 13,\n",
       "          'workhorse': 1,\n",
       "          'world': 187,\n",
       "          'worm': 11,\n",
       "          'young': 128,\n",
       "          'zebra': 14}),\n",
       " 'ceremony': Counter({'burial': 10,\n",
       "          'church_service': 67,\n",
       "          'circumstance': 4,\n",
       "          'dedication': 3,\n",
       "          'exercise': 20,\n",
       "          'funeral': 9,\n",
       "          'immersion': 7,\n",
       "          'initiation': 1,\n",
       "          'mass': 1,\n",
       "          'none': 14,\n",
       "          'office': 16,\n",
       "          'opening': 20,\n",
       "          'presentation': 3,\n",
       "          'service': 14,\n",
       "          'vigil': 53,\n",
       "          'wake': 5,\n",
       "          'wedding': 12}),\n",
       " 'clothing': Counter({'apparel': 39,\n",
       "          'apron': 1,\n",
       "          'array': 3,\n",
       "          'attire': 12,\n",
       "          'babushka': 1,\n",
       "          'beanie': 2,\n",
       "          'beaver': 8,\n",
       "          'belt': 5,\n",
       "          'beret': 2,\n",
       "          'black': 86,\n",
       "          'bloomers': 2,\n",
       "          'blouse': 1,\n",
       "          'blue': 16,\n",
       "          'boater': 1,\n",
       "          'bowler_hat': 1,\n",
       "          'cap': 5,\n",
       "          'change': 126,\n",
       "          'chemise': 20,\n",
       "          'coat': 6,\n",
       "          'collar': 2,\n",
       "          'corset': 5,\n",
       "          'costume': 20,\n",
       "          'crown': 2,\n",
       "          'diaper': 2,\n",
       "          'dinner_dress': 7,\n",
       "          'drag': 2,\n",
       "          'drawers': 1,\n",
       "          'dress': 12,\n",
       "          'dress_hat': 8,\n",
       "          'dress_suit': 9,\n",
       "          'flannel': 125,\n",
       "          'foundation_garment': 11,\n",
       "          'fur': 69,\n",
       "          'garment': 1,\n",
       "          'grey': 1,\n",
       "          'habit': 10,\n",
       "          'halter': 2,\n",
       "          'hat': 16,\n",
       "          'headdress': 10,\n",
       "          'hood': 2,\n",
       "          'hose': 4,\n",
       "          'hosiery': 4,\n",
       "          'jacket': 10,\n",
       "          'jean': 7,\n",
       "          'laundry': 27,\n",
       "          'macintosh': 1,\n",
       "          'mink': 27,\n",
       "          'mitten': 1,\n",
       "          'neckcloth': 8,\n",
       "          'necktie': 26,\n",
       "          'negligee': 1,\n",
       "          'outfit': 2,\n",
       "          'overall': 14,\n",
       "          'pillbox': 2,\n",
       "          'reversible': 1,\n",
       "          'sack': 2,\n",
       "          'separate': 17,\n",
       "          'shirt': 3,\n",
       "          'short_pants': 1,\n",
       "          'skirt': 1,\n",
       "          'sock': 7,\n",
       "          'stole': 1,\n",
       "          'suit': 5,\n",
       "          'sweater': 2,\n",
       "          'switch': 6,\n",
       "          'top': 66,\n",
       "          'trouser': 2,\n",
       "          'turban': 2,\n",
       "          'turtleneck': 76,\n",
       "          'weeds': 52,\n",
       "          'wrap': 7}),\n",
       " 'food': Counter({'alcohol': 9,\n",
       "          'apple': 89,\n",
       "          'applesauce': 2,\n",
       "          'asparagus': 2,\n",
       "          'bacon': 3,\n",
       "          'banana': 1,\n",
       "          'bannock': 2,\n",
       "          'banquet': 180,\n",
       "          'barley': 1,\n",
       "          'bartlett': 1,\n",
       "          'bean': 46,\n",
       "          'beef': 3,\n",
       "          'beer': 9,\n",
       "          'beet': 6,\n",
       "          'berry': 49,\n",
       "          'beverage': 51,\n",
       "          'bird': 42,\n",
       "          'bite': 7,\n",
       "          'bitter': 1,\n",
       "          'bitters': 1,\n",
       "          'blackberry': 5,\n",
       "          'blueberry': 1,\n",
       "          'blush_wine': 4,\n",
       "          'board': 88,\n",
       "          'bologna': 3,\n",
       "          'bomber': 4,\n",
       "          'brain': 2,\n",
       "          'bread': 80,\n",
       "          'breakfast': 10,\n",
       "          'brew': 4,\n",
       "          'broccoli': 2,\n",
       "          'broth': 8,\n",
       "          'buckwheat': 6,\n",
       "          'buffalo': 3,\n",
       "          'bun': 28,\n",
       "          'burton': 2,\n",
       "          'butter': 14,\n",
       "          'cabbage': 5,\n",
       "          'cake': 13,\n",
       "          'candy': 7,\n",
       "          'cantaloup': 1,\n",
       "          'carp': 83,\n",
       "          'carrot': 15,\n",
       "          'catfish': 4,\n",
       "          'catsup': 1,\n",
       "          'cauliflower': 1,\n",
       "          'celery': 2,\n",
       "          'center': 81,\n",
       "          'cereal': 1,\n",
       "          'cheese': 6,\n",
       "          'cherry': 15,\n",
       "          'chicken': 75,\n",
       "          'chili': 1,\n",
       "          'chip': 4,\n",
       "          'chitterlings': 1,\n",
       "          'chives': 1,\n",
       "          'chocolate': 2,\n",
       "          'chop': 15,\n",
       "          'chow': 5,\n",
       "          'cider': 2,\n",
       "          'clam': 5,\n",
       "          'cocoa': 2,\n",
       "          'coffee': 16,\n",
       "          'comestible': 1,\n",
       "          'commissariat': 2,\n",
       "          'concentrate': 1,\n",
       "          'concoction': 3,\n",
       "          'conserve': 53,\n",
       "          'cookie': 6,\n",
       "          'cooler': 6,\n",
       "          'coral': 4,\n",
       "          'corn': 115,\n",
       "          'corn_whiskey': 115,\n",
       "          'cornmeal': 4,\n",
       "          'course': 53,\n",
       "          'crab': 2,\n",
       "          'crab_apple': 3,\n",
       "          'cracker': 2,\n",
       "          'cranberry': 1,\n",
       "          'crappie': 1,\n",
       "          'crayfish': 2,\n",
       "          'cream': 1,\n",
       "          'crisphead_lettuce': 1,\n",
       "          'cucumber': 4,\n",
       "          'culture_medium': 2,\n",
       "          'cup': 13,\n",
       "          'cut': 207,\n",
       "          'dainty': 18,\n",
       "          'date': 15,\n",
       "          'delicious': 1,\n",
       "          'dessert': 101,\n",
       "          'diet': 16,\n",
       "          'dinner': 24,\n",
       "          'dip': 1,\n",
       "          'dish': 11,\n",
       "          'duck': 322,\n",
       "          'dumpling': 3,\n",
       "          'eatage': 113,\n",
       "          'egg': 83,\n",
       "          'egg_white': 125,\n",
       "          'egg_yolk': 1,\n",
       "          'elderberry': 10,\n",
       "          'feed': 61,\n",
       "          'fillet': 1,\n",
       "          'filling': 2,\n",
       "          'fish': 450,\n",
       "          'flavorer': 2,\n",
       "          'flip': 2,\n",
       "          'flour': 16,\n",
       "          'frank': 58,\n",
       "          'french_fries': 20,\n",
       "          'freshwater_bass': 38,\n",
       "          'game': 79,\n",
       "          'garlic': 8,\n",
       "          'gelatin': 3,\n",
       "          'gingersnap': 2,\n",
       "          'goose': 83,\n",
       "          'gooseberry': 4,\n",
       "          'grain': 5,\n",
       "          'grape': 11,\n",
       "          'greens': 26,\n",
       "          'ground_beef': 5,\n",
       "          'ham': 5,\n",
       "          'hamburger': 6,\n",
       "          'hay': 5,\n",
       "          'headcheese': 1,\n",
       "          'heart': 17,\n",
       "          'hen': 11,\n",
       "          'herb_tea': 4,\n",
       "          'herring': 3,\n",
       "          'hindquarter': 1,\n",
       "          'home_brew': 1,\n",
       "          'honey': 6,\n",
       "          'host': 4,\n",
       "          'hotdog': 2,\n",
       "          'ice': 129,\n",
       "          'ingredient': 3,\n",
       "          'jackfruit': 48,\n",
       "          'jam': 8,\n",
       "          'jawbreaker': 1,\n",
       "          'jelly': 3,\n",
       "          'juice': 1,\n",
       "          'kosher': 4,\n",
       "          'lamb': 3,\n",
       "          'leftovers': 3,\n",
       "          'leg': 40,\n",
       "          'lemon': 2,\n",
       "          'liquor': 7,\n",
       "          'liver': 2,\n",
       "          'loaf': 3,\n",
       "          'loaf_of_bread': 6,\n",
       "          'lollipop': 1,\n",
       "          'lunch': 16,\n",
       "          'macaroni': 3,\n",
       "          'mackerel': 1,\n",
       "          'marc': 1,\n",
       "          'marmalade': 1,\n",
       "          'mate': 4,\n",
       "          'meal': 88,\n",
       "          'meat': 68,\n",
       "          'medlar': 6,\n",
       "          'mess': 10,\n",
       "          'milk': 63,\n",
       "          'mix': 6,\n",
       "          'molasses': 1,\n",
       "          'mold': 4,\n",
       "          'moonshine': 1,\n",
       "          'mulberry': 3,\n",
       "          'mush': 4,\n",
       "          'mushroom': 6,\n",
       "          'mussel': 26,\n",
       "          'must': 82,\n",
       "          'mustard': 14,\n",
       "          'napoleon': 1,\n",
       "          'neck': 2,\n",
       "          'nutriment': 9,\n",
       "          'oat': 2,\n",
       "          'oatmeal': 8,\n",
       "          'offal': 1,\n",
       "          'onion': 15,\n",
       "          'orange': 5,\n",
       "          'patty': 28,\n",
       "          'pea': 1,\n",
       "          'peach': 13,\n",
       "          'pear': 18,\n",
       "          'pepper': 6,\n",
       "          'perch': 14,\n",
       "          'pheasant': 37,\n",
       "          'phosphate': 1,\n",
       "          'pickerel': 16,\n",
       "          'pickle': 3,\n",
       "          'pie': 25,\n",
       "          'pike': 39,\n",
       "          'pizza': 4,\n",
       "          'plantain': 8,\n",
       "          'plate': 20,\n",
       "          'plum': 1,\n",
       "          'pop': 17,\n",
       "          'popcorn': 2,\n",
       "          'pork': 11,\n",
       "          'port': 7,\n",
       "          'potato': 188,\n",
       "          'potluck': 4,\n",
       "          'produce': 10,\n",
       "          'pulse': 1,\n",
       "          'pumpkin': 10,\n",
       "          'puree': 1,\n",
       "          'quail': 24,\n",
       "          'rabbit': 81,\n",
       "          'rack': 6,\n",
       "          'raisin': 2,\n",
       "          'raspberry': 6,\n",
       "          'ration': 1,\n",
       "          'rhine_wine': 1,\n",
       "          'rice': 4,\n",
       "          'roast': 10,\n",
       "          'roaster': 1,\n",
       "          'rock_candy': 3,\n",
       "          'roughage': 1,\n",
       "          'round': 31,\n",
       "          'rye': 1,\n",
       "          'sack': 2,\n",
       "          'saddle': 2,\n",
       "          'sage': 2,\n",
       "          'sake': 1,\n",
       "          'salad': 7,\n",
       "          'salmon': 11,\n",
       "          'salt': 22,\n",
       "          'sandwich': 5,\n",
       "          'sassafras': 16,\n",
       "          'sausage': 2,\n",
       "          'scone': 2,\n",
       "          'sea_bass': 38,\n",
       "          'shank': 6,\n",
       "          'shellfish': 4,\n",
       "          'shin': 1,\n",
       "          'shoulder': 13,\n",
       "          'side': 161,\n",
       "          'sieva_bean': 2,\n",
       "          'silage': 1,\n",
       "          'sling': 1,\n",
       "          'smelt': 11,\n",
       "          'snap_bean': 2,\n",
       "          'soft-shell_clam': 2,\n",
       "          'sole': 1,\n",
       "          'soup': 39,\n",
       "          'spaghetti': 4,\n",
       "          'spam': 2,\n",
       "          'special': 20,\n",
       "          'spinach': 2,\n",
       "          'spiny_lobster': 2,\n",
       "          'split': 22,\n",
       "          'spread': 18,\n",
       "          'squab': 9,\n",
       "          'squash': 15,\n",
       "          'steak': 1,\n",
       "          'stew': 6,\n",
       "          'stick': 104,\n",
       "          'strawberry': 22,\n",
       "          'sucker': 1,\n",
       "          'sugar': 23,\n",
       "          'sunfish': 4,\n",
       "          'supper': 25,\n",
       "          'sweet': 101,\n",
       "          'sweetening': 2,\n",
       "          'syrup': 21,\n",
       "          'tea': 150,\n",
       "          'tomato': 10,\n",
       "          'tongue': 2,\n",
       "          'tonic': 5,\n",
       "          'trout': 1,\n",
       "          'turkey': 19,\n",
       "          'turnip': 5,\n",
       "          'vegetable': 52,\n",
       "          'venison': 7,\n",
       "          'water': 529,\n",
       "          'watermelon': 8,\n",
       "          'western': 17,\n",
       "          'wheat': 11,\n",
       "          'whip': 1,\n",
       "          'whiskey': 2,\n",
       "          'whitefish': 4,\n",
       "          'whole_wheat_flour': 3,\n",
       "          'wine': 14,\n",
       "          'wrap': 6,\n",
       "          'yolk': 1}),\n",
       " 'medicine': Counter({'acoustic': 3,\n",
       "          'amobarbital_sodium': 16,\n",
       "          'antidote': 1,\n",
       "          'draft': 2,\n",
       "          'hit': 49,\n",
       "          'lotion': 5,\n",
       "          'ointment': 2,\n",
       "          'pill': 2,\n",
       "          'powder': 4,\n",
       "          'prescription_drug': 3,\n",
       "          'remedy': 42,\n",
       "          'specific': 40,\n",
       "          'tonic': 7}),\n",
       " 'plant': Counter({'american_ginseng': 2,\n",
       "          'annual': 11,\n",
       "          'apple': 89,\n",
       "          'aquatic': 4,\n",
       "          'arbor': 2,\n",
       "          'ash': 77,\n",
       "          'asparagus': 2,\n",
       "          'bamboo': 8,\n",
       "          'banana': 1,\n",
       "          'barley': 1,\n",
       "          'bean': 46,\n",
       "          'beet': 6,\n",
       "          'bent': 7,\n",
       "          'bittersweet': 24,\n",
       "          'black_raspberry': 1,\n",
       "          'blackberry': 5,\n",
       "          'blueberry': 1,\n",
       "          'bourtree': 10,\n",
       "          'box': 54,\n",
       "          'bracken': 1,\n",
       "          'brake': 1,\n",
       "          'broccoli': 2,\n",
       "          'broom': 2,\n",
       "          'buckwheat': 6,\n",
       "          'bulrush': 12,\n",
       "          'burdock': 2,\n",
       "          'cabbage': 5,\n",
       "          'cannabis': 1,\n",
       "          'cantaloupe': 1,\n",
       "          'capsicum': 3,\n",
       "          'carrot': 15,\n",
       "          \"cat's-tail\": 12,\n",
       "          'cattail': 18,\n",
       "          'cauliflower': 1,\n",
       "          'cedar': 12,\n",
       "          'celery': 2,\n",
       "          'cereal': 1,\n",
       "          'cherry': 15,\n",
       "          'chives': 2,\n",
       "          'climber': 1,\n",
       "          'clover': 5,\n",
       "          'cobnut': 1,\n",
       "          'coffee': 16,\n",
       "          'common_mullein': 2,\n",
       "          'coreopsis': 1,\n",
       "          'corn': 230,\n",
       "          'cotton': 6,\n",
       "          'crab_apple': 3,\n",
       "          'cranberry': 1,\n",
       "          'crop': 21,\n",
       "          'cube': 2,\n",
       "          'cucumber': 4,\n",
       "          'cultivar': 2,\n",
       "          'dock': 21,\n",
       "          'elder': 90,\n",
       "          'elm': 28,\n",
       "          'escape': 1,\n",
       "          'flower': 23,\n",
       "          'flowering_raspberry': 1,\n",
       "          'garlic': 8,\n",
       "          'ginseng': 3,\n",
       "          'gladiolus': 9,\n",
       "          'gooseberry': 4,\n",
       "          'grain': 4,\n",
       "          'grama': 1,\n",
       "          'grape': 11,\n",
       "          'grass': 111,\n",
       "          'hawthorn': 2,\n",
       "          'hazel': 2,\n",
       "          'hazelnut': 8,\n",
       "          'heather': 2,\n",
       "          'hickory': 46,\n",
       "          'honesty': 3,\n",
       "          'iris': 2,\n",
       "          'ivy': 8,\n",
       "          \"jacob's_ladder\": 1,\n",
       "          'lemon': 2,\n",
       "          'lily': 2,\n",
       "          'linden': 11,\n",
       "          'locust_tree': 1,\n",
       "          'loosestrife': 12,\n",
       "          'malcolm_stock': 8,\n",
       "          'maple': 25,\n",
       "          'maria': 1,\n",
       "          'mate': 4,\n",
       "          'medlar': 3,\n",
       "          'milkweed': 36,\n",
       "          'mulberry': 3,\n",
       "          'munj': 7,\n",
       "          'mustard': 7,\n",
       "          'myrtle': 14,\n",
       "          'nightshade': 2,\n",
       "          'oak': 23,\n",
       "          'oat': 2,\n",
       "          'oca': 1,\n",
       "          'onion': 15,\n",
       "          'orange': 5,\n",
       "          'orchid': 8,\n",
       "          'pansy': 4,\n",
       "          'pea': 1,\n",
       "          'peach': 13,\n",
       "          'peanut': 1,\n",
       "          'pear': 18,\n",
       "          'pepper': 3,\n",
       "          'pia': 1,\n",
       "          'pine': 3,\n",
       "          'pink': 5,\n",
       "          'plane_tree': 6,\n",
       "          'plantain': 16,\n",
       "          'plum': 1,\n",
       "          'poke': 1,\n",
       "          'popcorn': 2,\n",
       "          'poplar': 5,\n",
       "          'potato': 88,\n",
       "          'pumpkin': 10,\n",
       "          'ragweed': 4,\n",
       "          'ragwort': 4,\n",
       "          'raspberry': 6,\n",
       "          'reed': 5,\n",
       "          'rice': 4,\n",
       "          'rose': 4,\n",
       "          'rush': 7,\n",
       "          'rye': 1,\n",
       "          'sage': 2,\n",
       "          'salmonberry': 1,\n",
       "          'sapling': 5,\n",
       "          'sassafras': 16,\n",
       "          'sedum': 1,\n",
       "          'seedling': 2,\n",
       "          'shrub': 353,\n",
       "          'simple': 23,\n",
       "          'spinach': 2,\n",
       "          'squash': 15,\n",
       "          'stock': 8,\n",
       "          'strawberry': 22,\n",
       "          'sumac': 3,\n",
       "          'sunflower': 1,\n",
       "          'sycamore': 12,\n",
       "          'tall_mallow': 3,\n",
       "          'tallgrass': 1,\n",
       "          'tea': 50,\n",
       "          'thistle': 1,\n",
       "          'tobacco': 13,\n",
       "          'tomato': 10,\n",
       "          'tree': 261,\n",
       "          'true_laurel': 75,\n",
       "          'turnip': 5,\n",
       "          'vegetable': 44,\n",
       "          'vine': 8,\n",
       "          'viola': 1,\n",
       "          'violet': 4,\n",
       "          'walnut': 13,\n",
       "          'watermelon': 8,\n",
       "          'weed': 72,\n",
       "          'wheat': 11,\n",
       "          'whitethorn': 50,\n",
       "          'wild_apple': 3,\n",
       "          'wild_medlar': 3,\n",
       "          'willow': 21}),\n",
       " 'treaty': Counter({'alliance': 3, 'convention': 2, 'peace': 2}),\n",
       " 'water': Counter({'bay': 75,\n",
       "          'branch': 22,\n",
       "          'brook': 36,\n",
       "          'canal': 2,\n",
       "          'channel': 20,\n",
       "          'deep': 28,\n",
       "          'ditch': 61,\n",
       "          'drink': 48,\n",
       "          'feeder': 4,\n",
       "          'ford': 21,\n",
       "          'gut': 4,\n",
       "          'inlet': 2,\n",
       "          'lake': 130,\n",
       "          'main': 54,\n",
       "          'narrow': 3,\n",
       "          'pond': 55,\n",
       "          'pool': 5,\n",
       "          'rapid': 3,\n",
       "          'river': 199,\n",
       "          'rivulet': 85,\n",
       "          'sea': 1,\n",
       "          'shoal': 13,\n",
       "          'sound': 50,\n",
       "          'strait': 50,\n",
       "          'stream': 13,\n",
       "          'waterfall': 3,\n",
       "          'waterway': 10})}"
      ]
     },
     "execution_count": 24,
     "metadata": {},
     "output_type": "execute_result"
    }
   ],
   "source": [
    "found_concepts_counter"
   ]
  },
  {
   "cell_type": "code",
   "execution_count": 25,
   "metadata": {},
   "outputs": [
    {
     "data": {
      "text/plain": [
       "973"
      ]
     },
     "execution_count": 25,
     "metadata": {},
     "output_type": "execute_result"
    }
   ],
   "source": [
    "len(all_found_terms)"
   ]
  },
  {
   "cell_type": "markdown",
   "metadata": {},
   "source": [
    "### Specific keywords"
   ]
  },
  {
   "cell_type": "code",
   "execution_count": 26,
   "metadata": {},
   "outputs": [
    {
     "data": {
      "text/plain": [
       "{'animals': ['quail',\n",
       "  'bob white',\n",
       "  'muskrat',\n",
       "  'mink',\n",
       "  'turtles',\n",
       "  'snapping turtles',\n",
       "  'turtle eggs',\n",
       "  'fish',\n",
       "  'frogs'],\n",
       " 'others': ['fasting ceremony',\n",
       "  'strawberry moon',\n",
       "  'blueberry moon',\n",
       "  'moon',\n",
       "  'grandmother',\n",
       "  'grandfather'],\n",
       " 'plants': ['phragmites',\n",
       "  'bull rush',\n",
       "  'cat tail',\n",
       "  'pin weed',\n",
       "  'sweet grass',\n",
       "  'milk weed',\n",
       "  'tobacco',\n",
       "  'prairie grass',\n",
       "  'tall-grass prairie',\n",
       "  'meadow',\n",
       "  'chestnuts',\n",
       "  'lady slipper',\n",
       "  'wild rice',\n",
       "  'birch',\n",
       "  'horsetail'],\n",
       " 'water': ['bkejwanong', 'lake st. clair', 'marsh']}"
      ]
     },
     "execution_count": 26,
     "metadata": {},
     "output_type": "execute_result"
    }
   ],
   "source": [
    "specific_words"
   ]
  },
  {
   "cell_type": "code",
   "execution_count": 27,
   "metadata": {
    "collapsed": true
   },
   "outputs": [],
   "source": [
    "def reduce(ls):\n",
    "    ls1 = ls.copy()\n",
    "    changed = True\n",
    "    while changed:\n",
    "        ls2 = ls1.copy()\n",
    "        for x in ls1.copy():\n",
    "            for y in ls1.copy():\n",
    "                if x != y and x in y:\n",
    "                    ls1.remove(y)\n",
    "        changed = len(ls1) != len(ls2)\n",
    "    return ls2"
   ]
  },
  {
   "cell_type": "code",
   "execution_count": 29,
   "metadata": {},
   "outputs": [],
   "source": [
    "specific_words_sing_plur = defaultdict(dict)\n",
    "for category in specific_words:\n",
    "    for w in specific_words[category]:\n",
    "        specific_words_sing_plur[category][w] = list(reduce({\n",
    "            w,\n",
    "            w.replace('-', ''),\n",
    "            w.replace('-', ' '),\n",
    "            Word(w).pluralize().string,\n",
    "            Word(w).singularize().string,\n",
    "            Word(w.replace('-', '')).pluralize().string,\n",
    "            Word(w.replace('-', ' ')).pluralize().string,\n",
    "            Word(w.replace('-', '')).singularize().string,\n",
    "            Word(w.replace('-', ' ')).singularize().string,\n",
    "        }))\n",
    "specific_words_sing_plur = dict(specific_words_sing_plur)"
   ]
  },
  {
   "cell_type": "code",
   "execution_count": 30,
   "metadata": {},
   "outputs": [
    {
     "data": {
      "text/plain": [
       "{'animals': {'bob white': ['bob white'],\n",
       "  'fish': ['fish'],\n",
       "  'frogs': ['frog'],\n",
       "  'mink': ['mink'],\n",
       "  'muskrat': ['muskrat'],\n",
       "  'quail': ['quail'],\n",
       "  'snapping turtles': ['snapping turtle'],\n",
       "  'turtle eggs': ['turtle egg'],\n",
       "  'turtles': ['turtle']},\n",
       " 'others': {'blueberry moon': ['blueberry moon'],\n",
       "  'fasting ceremony': ['fasting ceremony', 'fasting ceremonies'],\n",
       "  'grandfather': ['grandfather'],\n",
       "  'grandmother': ['grandmother'],\n",
       "  'moon': ['moon'],\n",
       "  'strawberry moon': ['strawberry moon']},\n",
       " 'plants': {'birch': ['birch'],\n",
       "  'bull rush': ['bull rush'],\n",
       "  'cat tail': ['cat tail'],\n",
       "  'chestnuts': ['chestnut'],\n",
       "  'horsetail': ['horsetail'],\n",
       "  'lady slipper': ['lady slipper'],\n",
       "  'meadow': ['meadow'],\n",
       "  'milk weed': ['milk weed'],\n",
       "  'phragmites': ['phragmite'],\n",
       "  'pin weed': ['pin weed'],\n",
       "  'prairie grass': ['prairie gras'],\n",
       "  'sweet grass': ['sweet gras'],\n",
       "  'tall-grass prairie': ['tallgrass prairie',\n",
       "   'tall-grass prairie',\n",
       "   'tall grass prairie'],\n",
       "  'tobacco': ['tobacco'],\n",
       "  'wild rice': ['wild rice']},\n",
       " 'water': {'bkejwanong': ['bkejwanong'],\n",
       "  'lake st. clair': ['lake st. clair'],\n",
       "  'marsh': ['marsh']}}"
      ]
     },
     "execution_count": 30,
     "metadata": {},
     "output_type": "execute_result"
    }
   ],
   "source": [
    "specific_words_sing_plur"
   ]
  },
  {
   "cell_type": "code",
   "execution_count": 32,
   "metadata": {},
   "outputs": [],
   "source": [
    "specific_words_counter = defaultdict(dict)\n",
    "for category in specific_words_sing_plur:\n",
    "    group = specific_words_sing_plur[category]\n",
    "    for k in group:\n",
    "        if k not in all_found_terms:\n",
    "            all_found_terms.add(k)\n",
    "            specific_words_counter[category].setdefault(k, 0)\n",
    "            for w in group[k]:\n",
    "                specific_words_counter[category][k] += all_text.count(w)"
   ]
  },
  {
   "cell_type": "code",
   "execution_count": 33,
   "metadata": {},
   "outputs": [],
   "source": [
    "specific_words_counter = dict(specific_words_counter)\n",
    "for k in specific_words_counter:\n",
    "    specific_words_counter[k] = Counter(specific_words_counter[k])"
   ]
  },
  {
   "cell_type": "code",
   "execution_count": 34,
   "metadata": {},
   "outputs": [
    {
     "data": {
      "text/plain": [
       "{'animals': Counter({'bob white': 4, 'snapping turtles': 3, 'turtle eggs': 3}),\n",
       " 'others': Counter({'blueberry moon': 0,\n",
       "          'fasting ceremony': 0,\n",
       "          'moon': 13,\n",
       "          'strawberry moon': 0}),\n",
       " 'plants': Counter({'birch': 0,\n",
       "          'bull rush': 3,\n",
       "          'cat tail': 2,\n",
       "          'chestnuts': 0,\n",
       "          'horsetail': 0,\n",
       "          'lady slipper': 1,\n",
       "          'meadow': 0,\n",
       "          'milk weed': 0,\n",
       "          'phragmites': 64,\n",
       "          'pin weed': 0,\n",
       "          'prairie grass': 3,\n",
       "          'sweet grass': 72,\n",
       "          'tall-grass prairie': 7,\n",
       "          'wild rice': 2}),\n",
       " 'water': Counter({'bkejwanong': 0, 'lake st. clair': 0, 'marsh': 297})}"
      ]
     },
     "execution_count": 34,
     "metadata": {},
     "output_type": "execute_result"
    }
   ],
   "source": [
    "specific_words_counter"
   ]
  },
  {
   "cell_type": "code",
   "execution_count": 35,
   "metadata": {},
   "outputs": [
    {
     "data": {
      "text/plain": [
       "997"
      ]
     },
     "execution_count": 35,
     "metadata": {},
     "output_type": "execute_result"
    }
   ],
   "source": [
    "len(all_found_terms)"
   ]
  },
  {
   "cell_type": "markdown",
   "metadata": {},
   "source": [
    "### Most frequent words"
   ]
  },
  {
   "cell_type": "code",
   "execution_count": 36,
   "metadata": {},
   "outputs": [
    {
     "data": {
      "text/plain": [
       "{'adjectives': {'alive': ' 28',\n",
       "  'big': ' 428',\n",
       "  'commercial': ' 55',\n",
       "  'environmental': ' 85',\n",
       "  'geese': ' 28',\n",
       "  'good': ' 593',\n",
       "  'healthy': ' 33',\n",
       "  'human': ' 25',\n",
       "  'indian': ' 118',\n",
       "  'invasive': ' 44',\n",
       "  'little': ' 444',\n",
       "  'live': ' 28',\n",
       "  'local': ' 24',\n",
       "  'native': ' 45',\n",
       "  'natural': ' 56',\n",
       "  'non-native': ' 26',\n",
       "  'north': ' 23',\n",
       "  'old': ' 332',\n",
       "  'older': ' 55',\n",
       "  'public': ' 42',\n",
       "  'residential': ' 27',\n",
       "  'right': ' 181',\n",
       "  'social': ' 41',\n",
       "  'sustainable': ' 33',\n",
       "  'traditional': ' 68',\n",
       "  'wild': ' 101',\n",
       "  'young': ' 124',\n",
       "  'younger': ' 66'},\n",
       " 'nouns': {'area': ' 317',\n",
       "  'areas': ' 159',\n",
       "  'bush': ' 320',\n",
       "  'community': ' 461',\n",
       "  'corn': ' 114',\n",
       "  'dad': ' 305',\n",
       "  'day': ' 275',\n",
       "  'days': ' 201',\n",
       "  'deer': ' 151',\n",
       "  'duck': ' 115',\n",
       "  'ducks': ' 179',\n",
       "  'environment': ' 201',\n",
       "  'family': ' 242',\n",
       "  'fish': ' 228',\n",
       "  'fishing': ' 149',\n",
       "  'food': ' 226',\n",
       "  'garden': ' 109',\n",
       "  'grass': ' 104',\n",
       "  'ground': ' 110',\n",
       "  'hall': ' 158',\n",
       "  'home': ' 242',\n",
       "  'horses': ' 128',\n",
       "  'house': ' 258',\n",
       "  'hunting': ' 161',\n",
       "  'ice': ' 120',\n",
       "  'island': ' 309',\n",
       "  'kids': ' 259',\n",
       "  'lake': ' 102',\n",
       "  'land': ' 256',\n",
       "  'language': ' 130',\n",
       "  'law': ' 108',\n",
       "  'life': ' 146',\n",
       "  'marsh': ' 202',\n",
       "  'mom': ' 106',\n",
       "  'money': ' 195',\n",
       "  'muskrat': ' 115',\n",
       "  'muskrats': ' 103',\n",
       "  'people': ' 1358',\n",
       "  'place': ' 239',\n",
       "  'potawatomi': ' 100',\n",
       "  'resources': ' 98',\n",
       "  'right': ' 210',\n",
       "  'river': ' 180',\n",
       "  'road': ' 241',\n",
       "  'rules': ' 108',\n",
       "  'school': ' 166',\n",
       "  'species': ' 109',\n",
       "  'stories': ' 209',\n",
       "  'time': ' 1088',\n",
       "  'times': ' 160',\n",
       "  'trees': ' 149',\n",
       "  'walpole': ' 242',\n",
       "  'water': ' 496',\n",
       "  'winter': ' 112',\n",
       "  'wood': ' 172',\n",
       "  'work': ' 119',\n",
       "  'year': ' 257',\n",
       "  'years': ' 343'},\n",
       " 'verbs': {'believe': ' 98',\n",
       "  'buy': ' 90',\n",
       "  'call': ' 154',\n",
       "  'called': ' 125',\n",
       "  'changed': ' 81',\n",
       "  'cut': ' 118',\n",
       "  'eat': ' 176',\n",
       "  'find': ' 129',\n",
       "  'fish': ' 69',\n",
       "  'growing': ' 74',\n",
       "  'hear': ' 123',\n",
       "  'heard': ' 99',\n",
       "  'help': ' 169',\n",
       "  'hunt': ' 125',\n",
       "  'hunting': ' 189',\n",
       "  'leave': ' 88',\n",
       "  'left': ' 87',\n",
       "  'live': ' 163',\n",
       "  'lived': ' 143',\n",
       "  'needed': ' 80',\n",
       "  'pick': ' 95',\n",
       "  'play': ' 70',\n",
       "  'recall': ' 327',\n",
       "  'remember': ' 1089',\n",
       "  'run': ' 62',\n",
       "  'sell': ' 81',\n",
       "  'taught': ' 84',\n",
       "  'walk': ' 95',\n",
       "  'work': ' 152',\n",
       "  'worked': ' 96',\n",
       "  'working': ' 106'}}"
      ]
     },
     "execution_count": 36,
     "metadata": {},
     "output_type": "execute_result"
    }
   ],
   "source": [
    "most_freq_words"
   ]
  },
  {
   "cell_type": "code",
   "execution_count": 53,
   "metadata": {},
   "outputs": [],
   "source": [
    "most_freq_words_counter = defaultdict(dict)\n",
    "for pos in most_freq_words:\n",
    "    group = most_freq_words[pos]\n",
    "    for w in group:\n",
    "#         if w not in all_found_terms:\n",
    "            sss = wn.synsets(w)\n",
    "            for ss in sss:\n",
    "                intersect = set(all_hypernyms(ss)).intersection(synsets)\n",
    "                if intersect:\n",
    "                    all_found_terms.add(w)\n",
    "                    for ssi in intersect:\n",
    "                        category = inverse_concepts[ssi.name()]\n",
    "                        if category == 'ancestor':\n",
    "                            # In interpersonal relationships, it is intersting to see if they talk about\n",
    "                            # their mother/father (singular, their own) mothers/fathers (plural, everyone's in general).\n",
    "                            # Also, if they say mother/father (more formal) or mom/dad (more familiar).\n",
    "                            term = w # original word in the transcriptions\n",
    "                        else:\n",
    "                            term = ss.name().split('.')[0] # generic concept\n",
    "                        most_freq_words_counter[category][term] = most_freq_words[pos][w]"
   ]
  },
  {
   "cell_type": "code",
   "execution_count": 54,
   "metadata": {},
   "outputs": [
    {
     "data": {
      "text/plain": [
       "defaultdict(dict,\n",
       "            {'ancestor': {'dad': ' 305', 'mom': ' 106'},\n",
       "             'animal': {'deer': ' 151',\n",
       "              'duck': ' 179',\n",
       "              'fish': ' 228',\n",
       "              'goose': ' 28',\n",
       "              'homo': ' 25',\n",
       "              'horse': ' 128',\n",
       "              'kid': ' 259',\n",
       "              'muskrat': ' 103',\n",
       "              'young': ' 124'},\n",
       "             'food': {'corn': ' 114',\n",
       "              'corn_whiskey': ' 114',\n",
       "              'cut': ' 118',\n",
       "              'duck': ' 179',\n",
       "              'eatage': ' 104',\n",
       "              'fish': ' 228',\n",
       "              'goose': ' 28',\n",
       "              'ice': ' 120',\n",
       "              'water': ' 496'},\n",
       "             'plant': {'corn': ' 114',\n",
       "              'grass': ' 104',\n",
       "              'shrub': ' 320',\n",
       "              'tree': ' 149'},\n",
       "             'water': {'lake': ' 102', 'river': ' 180', 'rivulet': ' 62'}})"
      ]
     },
     "execution_count": 54,
     "metadata": {},
     "output_type": "execute_result"
    }
   ],
   "source": [
    "most_freq_words_counter"
   ]
  },
  {
   "cell_type": "code",
   "execution_count": null,
   "metadata": {
    "collapsed": true
   },
   "outputs": [],
   "source": [
    "DAD no esta pero MOM esta arriba (107 veces y no 106 tho)"
   ]
  },
  {
   "cell_type": "code",
   "execution_count": 52,
   "metadata": {},
   "outputs": [
    {
     "ename": "KeyError",
     "evalue": "'animal'",
     "output_type": "error",
     "traceback": [
      "\u001b[0;31m---------------------------------------------------------------------------\u001b[0m",
      "\u001b[0;31mKeyError\u001b[0m                                  Traceback (most recent call last)",
      "\u001b[0;32m<ipython-input-52-f1bdbc9b0d13>\u001b[0m in \u001b[0;36m<module>\u001b[0;34m()\u001b[0m\n\u001b[1;32m      1\u001b[0m \u001b[0mmost_freq_words_counter\u001b[0m \u001b[0;34m=\u001b[0m \u001b[0mdict\u001b[0m\u001b[0;34m(\u001b[0m\u001b[0mmost_freq_words_counter\u001b[0m\u001b[0;34m)\u001b[0m\u001b[0;34m\u001b[0m\u001b[0m\n\u001b[1;32m      2\u001b[0m \u001b[0;32mfor\u001b[0m \u001b[0mk\u001b[0m \u001b[0;32min\u001b[0m \u001b[0mmost_freq_words_counter\u001b[0m\u001b[0;34m:\u001b[0m\u001b[0;34m\u001b[0m\u001b[0m\n\u001b[0;32m----> 3\u001b[0;31m     \u001b[0mmost_freq_words_counter\u001b[0m\u001b[0;34m[\u001b[0m\u001b[0mk\u001b[0m\u001b[0;34m]\u001b[0m \u001b[0;34m=\u001b[0m \u001b[0mCounter\u001b[0m\u001b[0;34m(\u001b[0m\u001b[0mspecific_words_counter\u001b[0m\u001b[0;34m[\u001b[0m\u001b[0mk\u001b[0m\u001b[0;34m]\u001b[0m\u001b[0;34m)\u001b[0m\u001b[0;34m\u001b[0m\u001b[0m\n\u001b[0m",
      "\u001b[0;31mKeyError\u001b[0m: 'animal'"
     ]
    }
   ],
   "source": [
    "most_freq_words_counter = dict(most_freq_words_counter)\n",
    "for k in most_freq_words_counter:\n",
    "    most_freq_words_counter[k] = Counter(specific_words_counter[k])"
   ]
  },
  {
   "cell_type": "code",
   "execution_count": 50,
   "metadata": {},
   "outputs": [
    {
     "data": {
      "text/plain": [
       "{}"
      ]
     },
     "execution_count": 50,
     "metadata": {},
     "output_type": "execute_result"
    }
   ],
   "source": [
    "most_freq_words_counter"
   ]
  },
  {
   "cell_type": "code",
   "execution_count": null,
   "metadata": {},
   "outputs": [],
   "source": [
    "len(all_found_terms)"
   ]
  },
  {
   "cell_type": "markdown",
   "metadata": {},
   "source": [
    "### Proper names"
   ]
  },
  {
   "cell_type": "markdown",
   "metadata": {},
   "source": [
    "#### People"
   ]
  },
  {
   "cell_type": "code",
   "execution_count": 8,
   "metadata": {
    "collapsed": true
   },
   "outputs": [],
   "source": [
    "# people\n",
    "Buscar tal cual en el texto"
   ]
  },
  {
   "cell_type": "markdown",
   "metadata": {},
   "source": [
    "#### Others"
   ]
  },
  {
   "cell_type": "code",
   "execution_count": 9,
   "metadata": {
    "collapsed": true
   },
   "outputs": [],
   "source": [
    "# others\n",
    "Buscar tal cual en el texto"
   ]
  },
  {
   "cell_type": "code",
   "execution_count": null,
   "metadata": {
    "collapsed": true
   },
   "outputs": [],
   "source": []
  },
  {
   "cell_type": "code",
   "execution_count": null,
   "metadata": {
    "collapsed": true
   },
   "outputs": [],
   "source": []
  },
  {
   "cell_type": "code",
   "execution_count": 85,
   "metadata": {},
   "outputs": [],
   "source": [
    "ss=wn.synsets('hammer')[1]"
   ]
  },
  {
   "cell_type": "code",
   "execution_count": 86,
   "metadata": {},
   "outputs": [
    {
     "data": {
      "text/plain": [
       "[Synset('hand_tool.n.01')]"
      ]
     },
     "execution_count": 86,
     "metadata": {},
     "output_type": "execute_result"
    }
   ],
   "source": [
    "ss.hypernyms()"
   ]
  },
  {
   "cell_type": "code",
   "execution_count": 88,
   "metadata": {},
   "outputs": [
    {
     "data": {
      "text/plain": [
       "[Synset('hand_tool.n.01'),\n",
       " Synset('tool.n.01'),\n",
       " Synset('implement.n.01'),\n",
       " Synset('instrumentality.n.03'),\n",
       " Synset('artifact.n.01'),\n",
       " Synset('whole.n.02'),\n",
       " Synset('object.n.01'),\n",
       " Synset('physical_entity.n.01'),\n",
       " Synset('entity.n.01')]"
      ]
     },
     "execution_count": 88,
     "metadata": {},
     "output_type": "execute_result"
    }
   ],
   "source": [
    "list(all_hypernyms(ss))"
   ]
  },
  {
   "cell_type": "code",
   "execution_count": 90,
   "metadata": {},
   "outputs": [
    {
     "data": {
      "text/plain": [
       "[Synset('ceramic.n.01'),\n",
       " Synset('connection.n.03'),\n",
       " Synset('container.n.01'),\n",
       " Synset('conveyance.n.03'),\n",
       " Synset('device.n.01'),\n",
       " Synset('equipment.n.01'),\n",
       " Synset('furnishing.n.02'),\n",
       " Synset('hardware.n.02'),\n",
       " Synset('implement.n.01'),\n",
       " Synset('means.n.02'),\n",
       " Synset('medium.n.01'),\n",
       " Synset('system.n.01'),\n",
       " Synset('toiletry.n.01'),\n",
       " Synset('weaponry.n.01')]"
      ]
     },
     "execution_count": 90,
     "metadata": {},
     "output_type": "execute_result"
    }
   ],
   "source": [
    "wn.synset('instrumentality.n.03').hyponyms()"
   ]
  },
  {
   "cell_type": "code",
   "execution_count": null,
   "metadata": {
    "collapsed": true
   },
   "outputs": [],
   "source": []
  }
 ],
 "metadata": {
  "kernelspec": {
   "display_name": "Python 3",
   "language": "python",
   "name": "python3"
  }
 },
 "nbformat": 4,
 "nbformat_minor": 2
}
