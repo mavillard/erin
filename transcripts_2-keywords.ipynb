{
 "cells": [
  {
   "cell_type": "markdown",
   "metadata": {},
   "source": [
    "# Transcripts"
   ]
  },
  {
   "cell_type": "code",
   "execution_count": 1,
   "metadata": {},
   "outputs": [],
   "source": [
    "from collections import Counter\n",
    "\n",
    "import networkx as nx\n",
    "import nltk\n",
    "import pandas as pd\n",
    "from nltk import word_tokenize\n",
    "from nltk.corpus import stopwords\n",
    "from nltk.tag import pos_tag"
   ]
  },
  {
   "cell_type": "markdown",
   "metadata": {},
   "source": [
    "## Loading data"
   ]
  },
  {
   "cell_type": "code",
   "execution_count": 2,
   "metadata": {
    "collapsed": true
   },
   "outputs": [],
   "source": [
    "transcripts_df = pd.read_csv(\n",
    "    'data/out/transcripts_1.csv',\n",
    "    converters={'INTERVIEWERS': eval, 'INTERVIEWEES': eval, 'ALIASES': eval, 'INTERVIEW': eval},\n",
    ")\n",
    "transcripts_df = transcripts_df[['ID', 'INTERVIEWERS', 'INTERVIEWEES', 'ALIASES', 'INTERVIEW']]"
   ]
  },
  {
   "cell_type": "code",
   "execution_count": 3,
   "metadata": {},
   "outputs": [
    {
     "data": {
      "text/html": [
       "<div>\n",
       "<style>\n",
       "    .dataframe thead tr:only-child th {\n",
       "        text-align: right;\n",
       "    }\n",
       "\n",
       "    .dataframe thead th {\n",
       "        text-align: left;\n",
       "    }\n",
       "\n",
       "    .dataframe tbody tr th {\n",
       "        vertical-align: top;\n",
       "    }\n",
       "</style>\n",
       "<table border=\"1\" class=\"dataframe\">\n",
       "  <thead>\n",
       "    <tr style=\"text-align: right;\">\n",
       "      <th></th>\n",
       "      <th>ID</th>\n",
       "      <th>INTERVIEWERS</th>\n",
       "      <th>INTERVIEWEES</th>\n",
       "      <th>ALIASES</th>\n",
       "      <th>INTERVIEW</th>\n",
       "    </tr>\n",
       "  </thead>\n",
       "  <tbody>\n",
       "    <tr>\n",
       "      <th>0</th>\n",
       "      <td>Aimee Johnson – 17 September 2010</td>\n",
       "      <td>[Rick Fehr]</td>\n",
       "      <td>[Aimee Johnson]</td>\n",
       "      <td>[]</td>\n",
       "      <td>[(0, Rick, Ok.  We’re recording now, I’m sitti...</td>\n",
       "    </tr>\n",
       "    <tr>\n",
       "      <th>1</th>\n",
       "      <td>Andrew Adult Male – 18 September 2010</td>\n",
       "      <td>[Dave White]</td>\n",
       "      <td>[Andrew Peters]</td>\n",
       "      <td>[]</td>\n",
       "      <td>[(0, Dave, So we’d like to ask you about thing...</td>\n",
       "    </tr>\n",
       "    <tr>\n",
       "      <th>2</th>\n",
       "      <td>Anita Smith -</td>\n",
       "      <td>[Dave White]</td>\n",
       "      <td>[Anita Smith]</td>\n",
       "      <td>[]</td>\n",
       "      <td>[(0, Dave, How did we use to use the environme...</td>\n",
       "    </tr>\n",
       "    <tr>\n",
       "      <th>3</th>\n",
       "      <td>Apollo Blackeagle – 27 October 2010</td>\n",
       "      <td>[Rick Fehr, David White]</td>\n",
       "      <td>[Apollo Blackeagle]</td>\n",
       "      <td>[]</td>\n",
       "      <td>[(0, Rick, Ok, its October 27th I believe, we’...</td>\n",
       "    </tr>\n",
       "    <tr>\n",
       "      <th>4</th>\n",
       "      <td>Bill Sands</td>\n",
       "      <td>[Dave White]</td>\n",
       "      <td>[Bill Sands]</td>\n",
       "      <td>[]</td>\n",
       "      <td>[(0, Dave, In the past, there’s concern today ...</td>\n",
       "    </tr>\n",
       "  </tbody>\n",
       "</table>\n",
       "</div>"
      ],
      "text/plain": [
       "                                      ID              INTERVIEWERS  \\\n",
       "0      Aimee Johnson – 17 September 2010               [Rick Fehr]   \n",
       "1  Andrew Adult Male – 18 September 2010              [Dave White]   \n",
       "2                         Anita Smith -               [Dave White]   \n",
       "3    Apollo Blackeagle – 27 October 2010  [Rick Fehr, David White]   \n",
       "4                             Bill Sands              [Dave White]   \n",
       "\n",
       "          INTERVIEWEES ALIASES  \\\n",
       "0      [Aimee Johnson]      []   \n",
       "1      [Andrew Peters]      []   \n",
       "2        [Anita Smith]      []   \n",
       "3  [Apollo Blackeagle]      []   \n",
       "4         [Bill Sands]      []   \n",
       "\n",
       "                                           INTERVIEW  \n",
       "0  [(0, Rick, Ok.  We’re recording now, I’m sitti...  \n",
       "1  [(0, Dave, So we’d like to ask you about thing...  \n",
       "2  [(0, Dave, How did we use to use the environme...  \n",
       "3  [(0, Rick, Ok, its October 27th I believe, we’...  \n",
       "4  [(0, Dave, In the past, there’s concern today ...  "
      ]
     },
     "execution_count": 3,
     "metadata": {},
     "output_type": "execute_result"
    }
   ],
   "source": [
    "transcripts_df.head()"
   ]
  },
  {
   "cell_type": "code",
   "execution_count": 4,
   "metadata": {},
   "outputs": [
    {
     "data": {
      "text/plain": [
       "(68, 5)"
      ]
     },
     "execution_count": 4,
     "metadata": {},
     "output_type": "execute_result"
    }
   ],
   "source": [
    "transcripts_df.shape"
   ]
  },
  {
   "cell_type": "code",
   "execution_count": 5,
   "metadata": {},
   "outputs": [
    {
     "data": {
      "text/html": [
       "<div>\n",
       "<style>\n",
       "    .dataframe thead tr:only-child th {\n",
       "        text-align: right;\n",
       "    }\n",
       "\n",
       "    .dataframe thead th {\n",
       "        text-align: left;\n",
       "    }\n",
       "\n",
       "    .dataframe tbody tr th {\n",
       "        vertical-align: top;\n",
       "    }\n",
       "</style>\n",
       "<table border=\"1\" class=\"dataframe\">\n",
       "  <thead>\n",
       "    <tr style=\"text-align: right;\">\n",
       "      <th></th>\n",
       "      <th>ID</th>\n",
       "      <th>INTERVIEWERS</th>\n",
       "      <th>INTERVIEWEES</th>\n",
       "      <th>ALIASES</th>\n",
       "      <th>INTERVIEW</th>\n",
       "    </tr>\n",
       "  </thead>\n",
       "  <tbody>\n",
       "    <tr>\n",
       "      <th>0</th>\n",
       "      <td>Aimee Johnson – 17 September 2010</td>\n",
       "      <td>[Rick Fehr]</td>\n",
       "      <td>[Aimee Johnson]</td>\n",
       "      <td>[]</td>\n",
       "      <td>[(0, Rick, Ok.  We’re recording now, I’m sitti...</td>\n",
       "    </tr>\n",
       "    <tr>\n",
       "      <th>1</th>\n",
       "      <td>Andrew Adult Male – 18 September 2010</td>\n",
       "      <td>[Dave White]</td>\n",
       "      <td>[Andrew Peters]</td>\n",
       "      <td>[]</td>\n",
       "      <td>[(0, Dave, So we’d like to ask you about thing...</td>\n",
       "    </tr>\n",
       "    <tr>\n",
       "      <th>2</th>\n",
       "      <td>Anita Smith -</td>\n",
       "      <td>[Dave White]</td>\n",
       "      <td>[Anita Smith]</td>\n",
       "      <td>[]</td>\n",
       "      <td>[(0, Dave, How did we use to use the environme...</td>\n",
       "    </tr>\n",
       "    <tr>\n",
       "      <th>3</th>\n",
       "      <td>Apollo Blackeagle – 27 October 2010</td>\n",
       "      <td>[Rick Fehr, David White]</td>\n",
       "      <td>[Apollo Blackeagle]</td>\n",
       "      <td>[]</td>\n",
       "      <td>[(0, Rick, Ok, its October 27th I believe, we’...</td>\n",
       "    </tr>\n",
       "    <tr>\n",
       "      <th>4</th>\n",
       "      <td>Bill Sands</td>\n",
       "      <td>[Dave White]</td>\n",
       "      <td>[Bill Sands]</td>\n",
       "      <td>[]</td>\n",
       "      <td>[(0, Dave, In the past, there’s concern today ...</td>\n",
       "    </tr>\n",
       "  </tbody>\n",
       "</table>\n",
       "</div>"
      ],
      "text/plain": [
       "                                      ID              INTERVIEWERS  \\\n",
       "0      Aimee Johnson – 17 September 2010               [Rick Fehr]   \n",
       "1  Andrew Adult Male – 18 September 2010              [Dave White]   \n",
       "2                         Anita Smith -               [Dave White]   \n",
       "3    Apollo Blackeagle – 27 October 2010  [Rick Fehr, David White]   \n",
       "4                             Bill Sands              [Dave White]   \n",
       "\n",
       "          INTERVIEWEES ALIASES  \\\n",
       "0      [Aimee Johnson]      []   \n",
       "1      [Andrew Peters]      []   \n",
       "2        [Anita Smith]      []   \n",
       "3  [Apollo Blackeagle]      []   \n",
       "4         [Bill Sands]      []   \n",
       "\n",
       "                                           INTERVIEW  \n",
       "0  [(0, Rick, Ok.  We’re recording now, I’m sitti...  \n",
       "1  [(0, Dave, So we’d like to ask you about thing...  \n",
       "2  [(0, Dave, How did we use to use the environme...  \n",
       "3  [(0, Rick, Ok, its October 27th I believe, we’...  \n",
       "4  [(0, Dave, In the past, there’s concern today ...  "
      ]
     },
     "execution_count": 5,
     "metadata": {},
     "output_type": "execute_result"
    }
   ],
   "source": [
    "transcripts_df.head()"
   ]
  },
  {
   "cell_type": "markdown",
   "metadata": {},
   "source": [
    "## Processing data"
   ]
  },
  {
   "cell_type": "code",
   "execution_count": 6,
   "metadata": {
    "collapsed": true
   },
   "outputs": [],
   "source": [
    "all_text = '\\n'.join([text for interview in transcripts_df.INTERVIEW for (index, name, text) in interview])"
   ]
  },
  {
   "cell_type": "code",
   "execution_count": 7,
   "metadata": {
    "collapsed": true
   },
   "outputs": [],
   "source": [
    "with open('data/out/all_text.txt', 'w') as f:\n",
    "    f.write(all_text)"
   ]
  },
  {
   "cell_type": "markdown",
   "metadata": {},
   "source": [
    "### Keywords"
   ]
  },
  {
   "cell_type": "markdown",
   "metadata": {},
   "source": [
    "#### All"
   ]
  },
  {
   "cell_type": "code",
   "execution_count": 8,
   "metadata": {
    "collapsed": true
   },
   "outputs": [],
   "source": [
    "def clean_text(text):\n",
    "    text = text.lower()\n",
    "    tokens = word_tokenize(text)\n",
    "    words = [token for token in tokens if token not in stopwords.words('english') and len(token) > 1]\n",
    "    text = ' '.join(words)\n",
    "    return text"
   ]
  },
  {
   "cell_type": "code",
   "execution_count": 9,
   "metadata": {},
   "outputs": [
    {
     "name": "stdout",
     "output_type": "stream",
     "text": [
      "CPU times: user 1min 15s, sys: 4.56 s, total: 1min 20s\n",
      "Wall time: 1min 20s\n"
     ]
    }
   ],
   "source": [
    "%%time\n",
    "\n",
    "cleaned_all_text = clean_text(all_text)"
   ]
  },
  {
   "cell_type": "code",
   "execution_count": 10,
   "metadata": {
    "collapsed": true
   },
   "outputs": [],
   "source": [
    "all_words = cleaned_all_text.split()"
   ]
  },
  {
   "cell_type": "code",
   "execution_count": 11,
   "metadata": {
    "collapsed": true
   },
   "outputs": [],
   "source": [
    "counter_all = Counter(all_words)"
   ]
  },
  {
   "cell_type": "code",
   "execution_count": 12,
   "metadata": {},
   "outputs": [
    {
     "data": {
      "text/plain": [
       "[('like', 2817),\n",
       " ('would', 2627),\n",
       " ('know', 2450),\n",
       " ('yea', 2440),\n",
       " ('people', 1995),\n",
       " ('yeah', 1924),\n",
       " ('go', 1883),\n",
       " ('used', 1824),\n",
       " ('one', 1702),\n",
       " ('remember', 1549),\n",
       " ('get', 1545),\n",
       " ('time', 1537),\n",
       " ('uh', 1517),\n",
       " ('think', 1465),\n",
       " ('things', 1404),\n",
       " ('well', 1390),\n",
       " ('back', 1364),\n",
       " ('got', 1273),\n",
       " ('going', 1250),\n",
       " ('hmm', 1245)]"
      ]
     },
     "execution_count": 12,
     "metadata": {},
     "output_type": "execute_result"
    }
   ],
   "source": [
    "counter_all.most_common(20)"
   ]
  },
  {
   "cell_type": "markdown",
   "metadata": {},
   "source": [
    "#### By POS tag"
   ]
  },
  {
   "cell_type": "code",
   "execution_count": 13,
   "metadata": {},
   "outputs": [
    {
     "name": "stdout",
     "output_type": "stream",
     "text": [
      "CPU times: user 33 s, sys: 54 ms, total: 33 s\n",
      "Wall time: 33 s\n"
     ]
    }
   ],
   "source": [
    "%%time\n",
    "\n",
    "tagged_all_text = pos_tag(word_tokenize(all_text))"
   ]
  },
  {
   "cell_type": "markdown",
   "metadata": {},
   "source": [
    "##### Adjectives"
   ]
  },
  {
   "cell_type": "code",
   "execution_count": 14,
   "metadata": {
    "collapsed": true
   },
   "outputs": [],
   "source": [
    "adjectives = [word for word, pos in tagged_all_text if len(word) > 1 and pos.startswith('J')]"
   ]
  },
  {
   "cell_type": "code",
   "execution_count": 15,
   "metadata": {
    "collapsed": true,
    "scrolled": true
   },
   "outputs": [],
   "source": [
    "counter_adjs = Counter(adjectives)"
   ]
  },
  {
   "cell_type": "code",
   "execution_count": 16,
   "metadata": {},
   "outputs": [
    {
     "data": {
      "text/plain": [
       "[('other', 976),\n",
       " ('re', 838),\n",
       " ('good', 785),\n",
       " ('little', 571),\n",
       " ('big', 553),\n",
       " ('uh', 550),\n",
       " ('old', 462),\n",
       " ('more', 435),\n",
       " ('different', 382),\n",
       " ('same', 330),\n",
       " ('ll', 327),\n",
       " ('much', 322),\n",
       " ('many', 307),\n",
       " ('whole', 272),\n",
       " ('um', 272),\n",
       " ('ve', 260),\n",
       " ('long', 243),\n",
       " ('own', 232),\n",
       " ('right', 217),\n",
       " ('first', 193)]"
      ]
     },
     "execution_count": 16,
     "metadata": {},
     "output_type": "execute_result"
    }
   ],
   "source": [
    "counter_adjs.most_common(20)"
   ]
  },
  {
   "cell_type": "markdown",
   "metadata": {},
   "source": [
    "##### Nouns"
   ]
  },
  {
   "cell_type": "code",
   "execution_count": 17,
   "metadata": {
    "collapsed": true
   },
   "outputs": [],
   "source": [
    "nouns = [word for word, pos in tagged_all_text if len(word) > 1 and pos.startswith('N')]"
   ]
  },
  {
   "cell_type": "code",
   "execution_count": 18,
   "metadata": {
    "collapsed": true,
    "scrolled": true
   },
   "outputs": [],
   "source": [
    "counter_nouns = Counter(nouns)"
   ]
  },
  {
   "cell_type": "code",
   "execution_count": 19,
   "metadata": {},
   "outputs": [
    {
     "data": {
      "text/plain": [
       "[('people', 1919),\n",
       " ('time', 1535),\n",
       " ('things', 1397),\n",
       " ('Yea', 1200),\n",
       " ('way', 1199),\n",
       " ('lot', 1182),\n",
       " ('hmm', 1046),\n",
       " ('something', 910),\n",
       " ('thing', 787),\n",
       " ('community', 684),\n",
       " ('water', 667),\n",
       " ('kind', 591),\n",
       " ('stuff', 590),\n",
       " ('yea', 534),\n",
       " ('today', 463),\n",
       " ('Well', 459),\n",
       " ('area', 450),\n",
       " ('years', 424),\n",
       " ('anything', 418),\n",
       " ('bush', 406)]"
      ]
     },
     "execution_count": 19,
     "metadata": {},
     "output_type": "execute_result"
    }
   ],
   "source": [
    "counter_nouns.most_common(20)"
   ]
  },
  {
   "cell_type": "markdown",
   "metadata": {},
   "source": [
    "##### Verbs"
   ]
  },
  {
   "cell_type": "code",
   "execution_count": 20,
   "metadata": {
    "collapsed": true
   },
   "outputs": [],
   "source": [
    "verbs = [word for word, pos in tagged_all_text if len(word) > 1 and pos.startswith('V')]"
   ]
  },
  {
   "cell_type": "code",
   "execution_count": 21,
   "metadata": {
    "collapsed": true,
    "scrolled": true
   },
   "outputs": [],
   "source": [
    "counter_verbs = Counter(verbs)"
   ]
  },
  {
   "cell_type": "code",
   "execution_count": 22,
   "metadata": {},
   "outputs": [
    {
     "data": {
      "text/plain": [
       "[('was', 6131),\n",
       " ('have', 3258),\n",
       " ('is', 2699),\n",
       " ('be', 2587),\n",
       " ('had', 2480),\n",
       " ('know', 2418),\n",
       " ('were', 2391),\n",
       " ('do', 2096),\n",
       " ('go', 1852),\n",
       " ('used', 1813),\n",
       " ('don', 1759),\n",
       " ('remember', 1489),\n",
       " ('get', 1431),\n",
       " ('are', 1420),\n",
       " ('think', 1420),\n",
       " ('got', 1256),\n",
       " ('going', 1237),\n",
       " ('did', 918),\n",
       " ('see', 858),\n",
       " ('say', 844)]"
      ]
     },
     "execution_count": 22,
     "metadata": {},
     "output_type": "execute_result"
    }
   ],
   "source": [
    "counter_verbs.most_common(20)"
   ]
  },
  {
   "cell_type": "markdown",
   "metadata": {},
   "source": [
    "### People"
   ]
  },
  {
   "cell_type": "code",
   "execution_count": 23,
   "metadata": {
    "collapsed": true
   },
   "outputs": [],
   "source": [
    "def first_names(names):\n",
    "    return [x.split()[0] for x in names]"
   ]
  },
  {
   "cell_type": "code",
   "execution_count": 24,
   "metadata": {
    "collapsed": true
   },
   "outputs": [],
   "source": [
    "interviewees = list(set(y for x in transcripts_df.INTERVIEWEES for y in x))"
   ]
  },
  {
   "cell_type": "code",
   "execution_count": 25,
   "metadata": {
    "collapsed": true
   },
   "outputs": [],
   "source": [
    "interviewees_first_names = first_names(interviewees)"
   ]
  },
  {
   "cell_type": "code",
   "execution_count": 26,
   "metadata": {
    "collapsed": true
   },
   "outputs": [],
   "source": [
    "aliases = list(set(z for x in transcripts_df.ALIASES for y in x for z in y))"
   ]
  },
  {
   "cell_type": "code",
   "execution_count": 27,
   "metadata": {
    "collapsed": true
   },
   "outputs": [],
   "source": [
    "all_names = set(interviewees + interviewees_first_names + aliases)"
   ]
  },
  {
   "cell_type": "code",
   "execution_count": 28,
   "metadata": {},
   "outputs": [],
   "source": [
    "all_names_dict = {\n",
    "    'Aimee': 'Aimee Johnson',\n",
    "    'Aimee Johnson': 'Aimee Johnson',\n",
    "    'Andrew': 'Andrew Peters',\n",
    "    'Andrew Peters': 'Andrew Peters',\n",
    "    'Anita': 'Anita Smith',\n",
    "    'Anita Smith': 'Anita Smith',\n",
    "    'Apollo': 'Apollo Blackeagle',\n",
    "    'Apollo Blackeagle': 'Apollo Blackeagle',\n",
    "    'Archie': 'Archie',\n",
    "    'Becky': 'Becky',\n",
    "    'Bill': 'Bill Sands',\n",
    "    'Bill Sands': 'Bill Sands',\n",
    "    'Brenda': 'Brenda Wheat',\n",
    "    'Brenda Wheat': 'Brenda Wheat',\n",
    "    'Cal': 'Cal',\n",
    "    'Cameron': 'Cameron',\n",
    "    'Carl': 'Carl Smith',\n",
    "    'Carl Smith (Resource Protection Officer)': 'Carl Smith',\n",
    "    'Carmen': 'Carmen Wrightman',\n",
    "    'Carmen Wrightman': 'Carmen Wrightman',\n",
    "    'Carrie': 'Carrie Isaac',\n",
    "    'Carrie Isaac': 'Carrie Isaac',\n",
    "    'Charles': 'Charles Wright',\n",
    "    'Charles Wright': 'Charles Wright',\n",
    "    'Cheryl': 'Cheryl',\n",
    "    'Chief': 'Chief Gilbert',\n",
    "    'Chief Gilbert': 'Chief Gilbert',\n",
    "    'Chief Joseph Gilbert': 'Chief Gilbert',\n",
    "    'Chris': 'Chris Riley',\n",
    "    'Chris Riley': 'Chris Riley',\n",
    "    'Daniel': 'Daniel',\n",
    "    'Darren': 'Darren',\n",
    "    'Dean': 'Dean Jacobs',\n",
    "    'Dean Jacobs': 'Dean Jacobs',\n",
    "    'Dot': 'Dot Peters',\n",
    "    'Dot Peters': 'Dot Peters',\n",
    "    'Doug': 'Doug',\n",
    "    'Doug (Resource Protection Officer)': 'Doug',\n",
    "    'Elaine': 'Elaine Jacobs',\n",
    "    'Elaine Jacobs': 'Elaine Jacobs',\n",
    "    'Eli': 'Eli Baxter',\n",
    "    'Eli Baxter': 'Eli Baxter',\n",
    "    'Eliza': 'Eliza John',\n",
    "    'Eliza John': 'Eliza John',\n",
    "    'Eric': 'Eric Isaac',\n",
    "    'Eric Isaac': 'Eric Isaac',\n",
    "    'Frank': 'Frank',\n",
    "    'Georgina': 'Georgina',\n",
    "    'Greg': 'Greg Isaac',\n",
    "    'Greg Isaac': 'Greg Isaac',\n",
    "    'Gus': 'Gus',\n",
    "    'Harold': 'Harold Peters',\n",
    "    'Harold Peters': 'Harold Peters',\n",
    "    'Isabelle': 'Isabelle',\n",
    "    'Jane': 'Jane Jacobs',\n",
    "    'Jane Jacobs': 'Jane Jacobs',\n",
    "    'Jasper': 'Jasper John',\n",
    "    'Jasper John': 'Jasper John',\n",
    "    'Jean': 'Jean Wrightman',\n",
    "    'Jean Wrightman': 'Jean Wrightman',\n",
    "    'Jen': 'Jennie Blackbird',\n",
    "    'Jennie': 'Jennie Blackbird',\n",
    "    'Jennie Blackbird': 'Jennie Blackbird',\n",
    "    'Jerome': 'Jerome',\n",
    "    'Jerry': 'Jerry',\n",
    "    'Jessica': 'Jessica',\n",
    "    'Joanne': 'Joanne Day',\n",
    "    'Joanne Day': 'Joanne Day',\n",
    "    'Joe': 'Joe Isaac',\n",
    "    'Joe Isaac': 'Joe Isaac',\n",
    "    'John': 'John',\n",
    "    'Julia': 'Julia',\n",
    "    'Karen': 'Karen Lalleen',\n",
    "    'Karen Lalleen': 'Karen Lalleen',\n",
    "    'Kenneth': 'Kenneth',\n",
    "    'Kennon': 'Kennon Johnson',\n",
    "    'Kennon Johnson': 'Kennon Johnson',\n",
    "    'Kevin': 'Kevin Smith',\n",
    "    'Kevin Smith': 'Kevin Smith',\n",
    "    'Lee': 'Lee White',\n",
    "    'Lee White': 'Lee White',\n",
    "    'Linda': 'Linda White',\n",
    "    'Linda White': 'Linda White',\n",
    "    'Liz': 'Lizzie Isaac',\n",
    "    'Lizzie': 'Lizzie Isaac',\n",
    "    'Lizzie Isaac': 'Lizzie Isaac',\n",
    "    'Lloyd': 'Lloyd Day',\n",
    "    'Lloyd Day': 'Lloyd Day',\n",
    "    'Lois': 'Lois Wrightman',\n",
    "    'Lois Wrightman': 'Lois Wrightman',\n",
    "    'Lyndsay': 'Lyndsay Sword',\n",
    "    'Lyndsay Sword': 'Lyndsay Sword',\n",
    "    'Mark': 'Mark',\n",
    "    'Mel': 'Mel Hoeksma',\n",
    "    'Mel Hoeksma': 'Mel Hoeksma',\n",
    "    'Mickey': 'Mickey Aquash',\n",
    "    'Mickey Aquash': 'Mickey Aquash',\n",
    "    'Morris': 'Morris Wrightman',\n",
    "    'Morris Wrightman': 'Morris Wrightman',\n",
    "    'Myrna': 'Myrna',\n",
    "    'Naomi': 'Naomi Williams',\n",
    "    'Naomi Williams': 'Naomi Williams',\n",
    "    'PD': 'Puppydog',\n",
    "    'Pat': 'Pat Riley',\n",
    "    'Pat Riley': 'Pat Riley',\n",
    "    'Patricia': 'Patricia',\n",
    "    'Patty': 'Patty Isaac',\n",
    "    'Patty Isaac': 'Patty Isaac',\n",
    "    'Paul': 'Paul',\n",
    "    'Puppydog': 'Puppydog',\n",
    "    'Rachel': 'Rachel',\n",
    "    'Ralph': 'Ralph ???',\n",
    "    'Ralph Johnson': 'Ralph Johnson',\n",
    "    'Ralph Jones': 'Ralph Jones',\n",
    "    'Rita': 'Rita Sands',\n",
    "    'Rita Sands': 'Rita Sands',\n",
    "    'Ron': 'Ron',\n",
    "    'Rose': 'Rose',\n",
    "    'Sarah': 'Sarah',\n",
    "    'Shirley': 'Shirley',\n",
    "    'Stanley': 'Stanley',\n",
    "    'Stuart': 'Stuart',\n",
    "    'Suzie': 'Suzie ???',\n",
    "    'Suzie Isaac': 'Suzie Isaac',\n",
    "    'Suzie Jones': 'Suzie Jones',\n",
    "    'Terry': 'Terry Sands',\n",
    "    'Terry Sands': 'Terry Sands',\n",
    "    'Tom': 'Tom',\n",
    "    'Vernon': 'Vernon Jones',\n",
    "    'Vernon Jones': 'Vernon Jones',\n",
    "}"
   ]
  },
  {
   "cell_type": "code",
   "execution_count": null,
   "metadata": {
    "collapsed": true
   },
   "outputs": [],
   "source": [
    "grammar = 'PROPER_NOUN: {<NNP>+}'\n",
    "cp = nltk.RegexpParser(grammar)"
   ]
  },
  {
   "cell_type": "code",
   "execution_count": 51,
   "metadata": {},
   "outputs": [
    {
     "ename": "IndexError",
     "evalue": "list index out of range",
     "output_type": "error",
     "traceback": [
      "\u001b[0;31m---------------------------------------------------------------------------\u001b[0m",
      "\u001b[0;31mIndexError\u001b[0m                                Traceback (most recent call last)",
      "\u001b[0;32m<timed exec>\u001b[0m in \u001b[0;36m<module>\u001b[0;34m()\u001b[0m\n",
      "\u001b[0;31mIndexError\u001b[0m: list index out of range"
     ]
    }
   ],
   "source": [
    "%%time\n",
    "\n",
    "g = nx.DiGraph()\n",
    "\n",
    "interviewers_names = ['Dave', 'Rick', 'Clint']\n",
    "for interview in transcripts_df.INTERVIEW:\n",
    "    for index, name, text in interview:\n",
    "        if text:\n",
    "            if name not in interviewers_names:\n",
    "                name = all_names_dict.get(name, name)\n",
    "                if not g.has_node(name):\n",
    "                    g.add_node(name)\n",
    "                tagged_text = pos_tag(word_tokenize(text))\n",
    "                parsed_text = cp.parse(tagged_text)\n",
    "                for e in parsed_text:\n",
    "                    if isinstance(e, nltk.tree.Tree) and e.label() == 'PROPER_NOUN':\n",
    "                        names = [word for word, tag in e if len(word) > 1]\n",
    "                        if len(names) > 1 or names[0] in all_names:\n",
    "                            proper_noun = ' '.join(names)\n",
    "                            proper_noun = all_names_dict.get(proper_noun, proper_noun)\n",
    "                            if not g.has_edge(name, proper_noun):\n",
    "                                g.add_edge(name, proper_noun, weight=0)\n",
    "                            g[name][proper_noun]['weight'] += 1"
   ]
  },
  {
   "cell_type": "code",
   "execution_count": 55,
   "metadata": {},
   "outputs": [
    {
     "ename": "ImportError",
     "evalue": "No module named '_tkinter', please install the python3-tk package",
     "output_type": "error",
     "traceback": [
      "\u001b[0;31m---------------------------------------------------------------------------\u001b[0m",
      "\u001b[0;31mImportError\u001b[0m                               Traceback (most recent call last)",
      "\u001b[0;32m/usr/lib/python3.4/tkinter/__init__.py\u001b[0m in \u001b[0;36m<module>\u001b[0;34m()\u001b[0m\n\u001b[1;32m     38\u001b[0m \u001b[0;32mtry\u001b[0m\u001b[0;34m:\u001b[0m\u001b[0;34m\u001b[0m\u001b[0m\n\u001b[0;32m---> 39\u001b[0;31m     \u001b[0;32mimport\u001b[0m \u001b[0m_tkinter\u001b[0m\u001b[0;34m\u001b[0m\u001b[0m\n\u001b[0m\u001b[1;32m     40\u001b[0m \u001b[0;32mexcept\u001b[0m \u001b[0mImportError\u001b[0m \u001b[0;32mas\u001b[0m \u001b[0mmsg\u001b[0m\u001b[0;34m:\u001b[0m\u001b[0;34m\u001b[0m\u001b[0m\n",
      "\u001b[0;31mImportError\u001b[0m: No module named '_tkinter'",
      "\nDuring handling of the above exception, another exception occurred:\n",
      "\u001b[0;31mImportError\u001b[0m                               Traceback (most recent call last)",
      "\u001b[0;32m~/.virtualenvs/erin/lib/python3.4/site-packages/IPython/core/formatters.py\u001b[0m in \u001b[0;36m__call__\u001b[0;34m(self, obj)\u001b[0m\n\u001b[1;32m    334\u001b[0m             \u001b[0mmethod\u001b[0m \u001b[0;34m=\u001b[0m \u001b[0mget_real_method\u001b[0m\u001b[0;34m(\u001b[0m\u001b[0mobj\u001b[0m\u001b[0;34m,\u001b[0m \u001b[0mself\u001b[0m\u001b[0;34m.\u001b[0m\u001b[0mprint_method\u001b[0m\u001b[0;34m)\u001b[0m\u001b[0;34m\u001b[0m\u001b[0m\n\u001b[1;32m    335\u001b[0m             \u001b[0;32mif\u001b[0m \u001b[0mmethod\u001b[0m \u001b[0;32mis\u001b[0m \u001b[0;32mnot\u001b[0m \u001b[0;32mNone\u001b[0m\u001b[0;34m:\u001b[0m\u001b[0;34m\u001b[0m\u001b[0m\n\u001b[0;32m--> 336\u001b[0;31m                 \u001b[0;32mreturn\u001b[0m \u001b[0mmethod\u001b[0m\u001b[0;34m(\u001b[0m\u001b[0;34m)\u001b[0m\u001b[0;34m\u001b[0m\u001b[0m\n\u001b[0m\u001b[1;32m    337\u001b[0m             \u001b[0;32mreturn\u001b[0m \u001b[0;32mNone\u001b[0m\u001b[0;34m\u001b[0m\u001b[0m\n\u001b[1;32m    338\u001b[0m         \u001b[0;32melse\u001b[0m\u001b[0;34m:\u001b[0m\u001b[0;34m\u001b[0m\u001b[0m\n",
      "\u001b[0;32m~/.virtualenvs/erin/lib/python3.4/site-packages/nltk/tree.py\u001b[0m in \u001b[0;36m_repr_png_\u001b[0;34m(self)\u001b[0m\n\u001b[1;32m    714\u001b[0m         \u001b[0;32mimport\u001b[0m \u001b[0msubprocess\u001b[0m\u001b[0;34m\u001b[0m\u001b[0m\n\u001b[1;32m    715\u001b[0m         \u001b[0;32mimport\u001b[0m \u001b[0mtempfile\u001b[0m\u001b[0;34m\u001b[0m\u001b[0m\n\u001b[0;32m--> 716\u001b[0;31m         \u001b[0;32mfrom\u001b[0m \u001b[0mnltk\u001b[0m\u001b[0;34m.\u001b[0m\u001b[0mdraw\u001b[0m\u001b[0;34m.\u001b[0m\u001b[0mtree\u001b[0m \u001b[0;32mimport\u001b[0m \u001b[0mtree_to_treesegment\u001b[0m\u001b[0;34m\u001b[0m\u001b[0m\n\u001b[0m\u001b[1;32m    717\u001b[0m         \u001b[0;32mfrom\u001b[0m \u001b[0mnltk\u001b[0m\u001b[0;34m.\u001b[0m\u001b[0mdraw\u001b[0m\u001b[0;34m.\u001b[0m\u001b[0mutil\u001b[0m \u001b[0;32mimport\u001b[0m \u001b[0mCanvasFrame\u001b[0m\u001b[0;34m\u001b[0m\u001b[0m\n\u001b[1;32m    718\u001b[0m         \u001b[0;32mfrom\u001b[0m \u001b[0mnltk\u001b[0m\u001b[0;34m.\u001b[0m\u001b[0minternals\u001b[0m \u001b[0;32mimport\u001b[0m \u001b[0mfind_binary\u001b[0m\u001b[0;34m\u001b[0m\u001b[0m\n",
      "\u001b[0;32m~/.virtualenvs/erin/lib/python3.4/site-packages/nltk/draw/tree.py\u001b[0m in \u001b[0;36m<module>\u001b[0;34m()\u001b[0m\n\u001b[1;32m     10\u001b[0m \"\"\"\n\u001b[1;32m     11\u001b[0m \u001b[0;34m\u001b[0m\u001b[0m\n\u001b[0;32m---> 12\u001b[0;31m \u001b[0;32mfrom\u001b[0m \u001b[0msix\u001b[0m\u001b[0;34m.\u001b[0m\u001b[0mmoves\u001b[0m\u001b[0;34m.\u001b[0m\u001b[0mtkinter\u001b[0m \u001b[0;32mimport\u001b[0m \u001b[0mIntVar\u001b[0m\u001b[0;34m,\u001b[0m \u001b[0mMenu\u001b[0m\u001b[0;34m,\u001b[0m \u001b[0mTk\u001b[0m\u001b[0;34m\u001b[0m\u001b[0m\n\u001b[0m\u001b[1;32m     13\u001b[0m \u001b[0;34m\u001b[0m\u001b[0m\n\u001b[1;32m     14\u001b[0m \u001b[0;32mfrom\u001b[0m \u001b[0mnltk\u001b[0m\u001b[0;34m.\u001b[0m\u001b[0mutil\u001b[0m \u001b[0;32mimport\u001b[0m \u001b[0min_idle\u001b[0m\u001b[0;34m\u001b[0m\u001b[0m\n",
      "\u001b[0;32m~/.virtualenvs/erin/lib/python3.4/site-packages/six.py\u001b[0m in \u001b[0;36mload_module\u001b[0;34m(self, fullname)\u001b[0m\n\u001b[1;32m    201\u001b[0m         \u001b[0mmod\u001b[0m \u001b[0;34m=\u001b[0m \u001b[0mself\u001b[0m\u001b[0;34m.\u001b[0m\u001b[0m__get_module\u001b[0m\u001b[0;34m(\u001b[0m\u001b[0mfullname\u001b[0m\u001b[0;34m)\u001b[0m\u001b[0;34m\u001b[0m\u001b[0m\n\u001b[1;32m    202\u001b[0m         \u001b[0;32mif\u001b[0m \u001b[0misinstance\u001b[0m\u001b[0;34m(\u001b[0m\u001b[0mmod\u001b[0m\u001b[0;34m,\u001b[0m \u001b[0mMovedModule\u001b[0m\u001b[0;34m)\u001b[0m\u001b[0;34m:\u001b[0m\u001b[0;34m\u001b[0m\u001b[0m\n\u001b[0;32m--> 203\u001b[0;31m             \u001b[0mmod\u001b[0m \u001b[0;34m=\u001b[0m \u001b[0mmod\u001b[0m\u001b[0;34m.\u001b[0m\u001b[0m_resolve\u001b[0m\u001b[0;34m(\u001b[0m\u001b[0;34m)\u001b[0m\u001b[0;34m\u001b[0m\u001b[0m\n\u001b[0m\u001b[1;32m    204\u001b[0m         \u001b[0;32melse\u001b[0m\u001b[0;34m:\u001b[0m\u001b[0;34m\u001b[0m\u001b[0m\n\u001b[1;32m    205\u001b[0m             \u001b[0mmod\u001b[0m\u001b[0;34m.\u001b[0m\u001b[0m__loader__\u001b[0m \u001b[0;34m=\u001b[0m \u001b[0mself\u001b[0m\u001b[0;34m\u001b[0m\u001b[0m\n",
      "\u001b[0;32m~/.virtualenvs/erin/lib/python3.4/site-packages/six.py\u001b[0m in \u001b[0;36m_resolve\u001b[0;34m(self)\u001b[0m\n\u001b[1;32m    113\u001b[0m \u001b[0;34m\u001b[0m\u001b[0m\n\u001b[1;32m    114\u001b[0m     \u001b[0;32mdef\u001b[0m \u001b[0m_resolve\u001b[0m\u001b[0;34m(\u001b[0m\u001b[0mself\u001b[0m\u001b[0;34m)\u001b[0m\u001b[0;34m:\u001b[0m\u001b[0;34m\u001b[0m\u001b[0m\n\u001b[0;32m--> 115\u001b[0;31m         \u001b[0;32mreturn\u001b[0m \u001b[0m_import_module\u001b[0m\u001b[0;34m(\u001b[0m\u001b[0mself\u001b[0m\u001b[0;34m.\u001b[0m\u001b[0mmod\u001b[0m\u001b[0;34m)\u001b[0m\u001b[0;34m\u001b[0m\u001b[0m\n\u001b[0m\u001b[1;32m    116\u001b[0m \u001b[0;34m\u001b[0m\u001b[0m\n\u001b[1;32m    117\u001b[0m     \u001b[0;32mdef\u001b[0m \u001b[0m__getattr__\u001b[0m\u001b[0;34m(\u001b[0m\u001b[0mself\u001b[0m\u001b[0;34m,\u001b[0m \u001b[0mattr\u001b[0m\u001b[0;34m)\u001b[0m\u001b[0;34m:\u001b[0m\u001b[0;34m\u001b[0m\u001b[0m\n",
      "\u001b[0;32m~/.virtualenvs/erin/lib/python3.4/site-packages/six.py\u001b[0m in \u001b[0;36m_import_module\u001b[0;34m(name)\u001b[0m\n\u001b[1;32m     80\u001b[0m \u001b[0;32mdef\u001b[0m \u001b[0m_import_module\u001b[0m\u001b[0;34m(\u001b[0m\u001b[0mname\u001b[0m\u001b[0;34m)\u001b[0m\u001b[0;34m:\u001b[0m\u001b[0;34m\u001b[0m\u001b[0m\n\u001b[1;32m     81\u001b[0m     \u001b[0;34m\"\"\"Import module, returning the module after the last dot.\"\"\"\u001b[0m\u001b[0;34m\u001b[0m\u001b[0m\n\u001b[0;32m---> 82\u001b[0;31m     \u001b[0m__import__\u001b[0m\u001b[0;34m(\u001b[0m\u001b[0mname\u001b[0m\u001b[0;34m)\u001b[0m\u001b[0;34m\u001b[0m\u001b[0m\n\u001b[0m\u001b[1;32m     83\u001b[0m     \u001b[0;32mreturn\u001b[0m \u001b[0msys\u001b[0m\u001b[0;34m.\u001b[0m\u001b[0mmodules\u001b[0m\u001b[0;34m[\u001b[0m\u001b[0mname\u001b[0m\u001b[0;34m]\u001b[0m\u001b[0;34m\u001b[0m\u001b[0m\n\u001b[1;32m     84\u001b[0m \u001b[0;34m\u001b[0m\u001b[0m\n",
      "\u001b[0;32m/usr/lib/python3.4/tkinter/__init__.py\u001b[0m in \u001b[0;36m<module>\u001b[0;34m()\u001b[0m\n\u001b[1;32m     39\u001b[0m     \u001b[0;32mimport\u001b[0m \u001b[0m_tkinter\u001b[0m\u001b[0;34m\u001b[0m\u001b[0m\n\u001b[1;32m     40\u001b[0m \u001b[0;32mexcept\u001b[0m \u001b[0mImportError\u001b[0m \u001b[0;32mas\u001b[0m \u001b[0mmsg\u001b[0m\u001b[0;34m:\u001b[0m\u001b[0;34m\u001b[0m\u001b[0m\n\u001b[0;32m---> 41\u001b[0;31m     \u001b[0;32mraise\u001b[0m \u001b[0mImportError\u001b[0m\u001b[0;34m(\u001b[0m\u001b[0mstr\u001b[0m\u001b[0;34m(\u001b[0m\u001b[0mmsg\u001b[0m\u001b[0;34m)\u001b[0m \u001b[0;34m+\u001b[0m \u001b[0;34m', please install the python3-tk package'\u001b[0m\u001b[0;34m)\u001b[0m\u001b[0;34m\u001b[0m\u001b[0m\n\u001b[0m\u001b[1;32m     42\u001b[0m \u001b[0mTclError\u001b[0m \u001b[0;34m=\u001b[0m \u001b[0m_tkinter\u001b[0m\u001b[0;34m.\u001b[0m\u001b[0mTclError\u001b[0m\u001b[0;34m\u001b[0m\u001b[0m\n\u001b[1;32m     43\u001b[0m \u001b[0;32mfrom\u001b[0m \u001b[0mtkinter\u001b[0m\u001b[0;34m.\u001b[0m\u001b[0mconstants\u001b[0m \u001b[0;32mimport\u001b[0m \u001b[0;34m*\u001b[0m\u001b[0;34m\u001b[0m\u001b[0m\n",
      "\u001b[0;31mImportError\u001b[0m: No module named '_tkinter', please install the python3-tk package"
     ]
    },
    {
     "data": {
      "text/plain": [
       "Tree('PROPER_NOUN', [('’', 'NNP')])"
      ]
     },
     "execution_count": 55,
     "metadata": {},
     "output_type": "execute_result"
    }
   ],
   "source": [
    "e"
   ]
  },
  {
   "cell_type": "code",
   "execution_count": 57,
   "metadata": {},
   "outputs": [
    {
     "name": "stdout",
     "output_type": "stream",
     "text": [
      "’\n"
     ]
    }
   ],
   "source": [
    "for a,b in e:\n",
    "    print(a)"
   ]
  },
  {
   "cell_type": "code",
   "execution_count": 60,
   "metadata": {},
   "outputs": [
    {
     "data": {
      "text/plain": [
       "1"
      ]
     },
     "execution_count": 60,
     "metadata": {},
     "output_type": "execute_result"
    }
   ],
   "source": [
    "len(a)"
   ]
  },
  {
   "cell_type": "code",
   "execution_count": 48,
   "metadata": {
    "collapsed": true
   },
   "outputs": [],
   "source": [
    "nx.write_gexf(g, 'data/out/graph.gexf')"
   ]
  },
  {
   "cell_type": "code",
   "execution_count": null,
   "metadata": {
    "collapsed": true
   },
   "outputs": [],
   "source": []
  },
  {
   "cell_type": "code",
   "execution_count": null,
   "metadata": {
    "collapsed": true
   },
   "outputs": [],
   "source": []
  },
  {
   "cell_type": "code",
   "execution_count": null,
   "metadata": {
    "collapsed": true
   },
   "outputs": [],
   "source": []
  },
  {
   "cell_type": "code",
   "execution_count": null,
   "metadata": {
    "collapsed": true
   },
   "outputs": [],
   "source": []
  },
  {
   "cell_type": "code",
   "execution_count": 31,
   "metadata": {
    "collapsed": true
   },
   "outputs": [],
   "source": [
    "sentence = [(\"the\", \"DT\"), (\"little\", \"NNP\"), (\"yellow\", \"NNP\"), (\"dog\", \"NNP\"), (\"barked\", \"VBD\"), (\"at\", \"NNP\"),  (\"the\", \"DT\"), (\"cat\", \"NN\")]\n",
    "grammar = 'PROPER_NOUN: {<NNP>+}'\n",
    "cp = nltk.RegexpParser(grammar)\n",
    "result = cp.parse(sentence)"
   ]
  },
  {
   "cell_type": "code",
   "execution_count": 32,
   "metadata": {},
   "outputs": [
    {
     "name": "stdout",
     "output_type": "stream",
     "text": [
      "('the', 'DT')\n",
      "(PROPER_NOUN little/NNP yellow/NNP dog/NNP)\n",
      "('barked', 'VBD')\n",
      "(PROPER_NOUN at/NNP)\n",
      "('the', 'DT')\n",
      "('cat', 'NN')\n"
     ]
    }
   ],
   "source": [
    "for x in result:\n",
    "    print(x)"
   ]
  },
  {
   "cell_type": "code",
   "execution_count": 33,
   "metadata": {},
   "outputs": [
    {
     "name": "stdout",
     "output_type": "stream",
     "text": [
      "('little', 'NNP')\n",
      "('yellow', 'NNP')\n",
      "('dog', 'NNP')\n"
     ]
    }
   ],
   "source": [
    "for x in result:\n",
    "    if isinstance(x, nltk.tree.Tree):\n",
    "        for y in x:\n",
    "            print(y)\n",
    "        break"
   ]
  },
  {
   "cell_type": "code",
   "execution_count": 34,
   "metadata": {},
   "outputs": [
    {
     "data": {
      "text/plain": [
       "'PROPER_NOUN'"
      ]
     },
     "execution_count": 34,
     "metadata": {},
     "output_type": "execute_result"
    }
   ],
   "source": [
    "x.label()"
   ]
  },
  {
   "cell_type": "code",
   "execution_count": null,
   "metadata": {
    "collapsed": true
   },
   "outputs": [],
   "source": []
  },
  {
   "cell_type": "code",
   "execution_count": 35,
   "metadata": {},
   "outputs": [
    {
     "name": "stderr",
     "output_type": "stream",
     "text": [
      "/home/antonio/.virtualenvs/erin/lib/python3.4/site-packages/nltk/draw/__init__.py:14: UserWarning: nltk.draw package not loaded (please install Tkinter library).\n",
      "  warnings.warn(\"nltk.draw package not loaded \"\n"
     ]
    },
    {
     "ename": "ImportError",
     "evalue": "No module named '_tkinter', please install the python3-tk package",
     "output_type": "error",
     "traceback": [
      "\u001b[0;31m---------------------------------------------------------------------------\u001b[0m",
      "\u001b[0;31mImportError\u001b[0m                               Traceback (most recent call last)",
      "\u001b[0;32m/usr/lib/python3.4/tkinter/__init__.py\u001b[0m in \u001b[0;36m<module>\u001b[0;34m()\u001b[0m\n\u001b[1;32m     38\u001b[0m \u001b[0;32mtry\u001b[0m\u001b[0;34m:\u001b[0m\u001b[0;34m\u001b[0m\u001b[0m\n\u001b[0;32m---> 39\u001b[0;31m     \u001b[0;32mimport\u001b[0m \u001b[0m_tkinter\u001b[0m\u001b[0;34m\u001b[0m\u001b[0m\n\u001b[0m\u001b[1;32m     40\u001b[0m \u001b[0;32mexcept\u001b[0m \u001b[0mImportError\u001b[0m \u001b[0;32mas\u001b[0m \u001b[0mmsg\u001b[0m\u001b[0;34m:\u001b[0m\u001b[0;34m\u001b[0m\u001b[0m\n",
      "\u001b[0;31mImportError\u001b[0m: No module named '_tkinter'",
      "\nDuring handling of the above exception, another exception occurred:\n",
      "\u001b[0;31mImportError\u001b[0m                               Traceback (most recent call last)",
      "\u001b[0;32m~/.virtualenvs/erin/lib/python3.4/site-packages/IPython/core/formatters.py\u001b[0m in \u001b[0;36m__call__\u001b[0;34m(self, obj)\u001b[0m\n\u001b[1;32m    334\u001b[0m             \u001b[0mmethod\u001b[0m \u001b[0;34m=\u001b[0m \u001b[0mget_real_method\u001b[0m\u001b[0;34m(\u001b[0m\u001b[0mobj\u001b[0m\u001b[0;34m,\u001b[0m \u001b[0mself\u001b[0m\u001b[0;34m.\u001b[0m\u001b[0mprint_method\u001b[0m\u001b[0;34m)\u001b[0m\u001b[0;34m\u001b[0m\u001b[0m\n\u001b[1;32m    335\u001b[0m             \u001b[0;32mif\u001b[0m \u001b[0mmethod\u001b[0m \u001b[0;32mis\u001b[0m \u001b[0;32mnot\u001b[0m \u001b[0;32mNone\u001b[0m\u001b[0;34m:\u001b[0m\u001b[0;34m\u001b[0m\u001b[0m\n\u001b[0;32m--> 336\u001b[0;31m                 \u001b[0;32mreturn\u001b[0m \u001b[0mmethod\u001b[0m\u001b[0;34m(\u001b[0m\u001b[0;34m)\u001b[0m\u001b[0;34m\u001b[0m\u001b[0m\n\u001b[0m\u001b[1;32m    337\u001b[0m             \u001b[0;32mreturn\u001b[0m \u001b[0;32mNone\u001b[0m\u001b[0;34m\u001b[0m\u001b[0m\n\u001b[1;32m    338\u001b[0m         \u001b[0;32melse\u001b[0m\u001b[0;34m:\u001b[0m\u001b[0;34m\u001b[0m\u001b[0m\n",
      "\u001b[0;32m~/.virtualenvs/erin/lib/python3.4/site-packages/nltk/tree.py\u001b[0m in \u001b[0;36m_repr_png_\u001b[0;34m(self)\u001b[0m\n\u001b[1;32m    714\u001b[0m         \u001b[0;32mimport\u001b[0m \u001b[0msubprocess\u001b[0m\u001b[0;34m\u001b[0m\u001b[0m\n\u001b[1;32m    715\u001b[0m         \u001b[0;32mimport\u001b[0m \u001b[0mtempfile\u001b[0m\u001b[0;34m\u001b[0m\u001b[0m\n\u001b[0;32m--> 716\u001b[0;31m         \u001b[0;32mfrom\u001b[0m \u001b[0mnltk\u001b[0m\u001b[0;34m.\u001b[0m\u001b[0mdraw\u001b[0m\u001b[0;34m.\u001b[0m\u001b[0mtree\u001b[0m \u001b[0;32mimport\u001b[0m \u001b[0mtree_to_treesegment\u001b[0m\u001b[0;34m\u001b[0m\u001b[0m\n\u001b[0m\u001b[1;32m    717\u001b[0m         \u001b[0;32mfrom\u001b[0m \u001b[0mnltk\u001b[0m\u001b[0;34m.\u001b[0m\u001b[0mdraw\u001b[0m\u001b[0;34m.\u001b[0m\u001b[0mutil\u001b[0m \u001b[0;32mimport\u001b[0m \u001b[0mCanvasFrame\u001b[0m\u001b[0;34m\u001b[0m\u001b[0m\n\u001b[1;32m    718\u001b[0m         \u001b[0;32mfrom\u001b[0m \u001b[0mnltk\u001b[0m\u001b[0;34m.\u001b[0m\u001b[0minternals\u001b[0m \u001b[0;32mimport\u001b[0m \u001b[0mfind_binary\u001b[0m\u001b[0;34m\u001b[0m\u001b[0m\n",
      "\u001b[0;32m~/.virtualenvs/erin/lib/python3.4/site-packages/nltk/draw/tree.py\u001b[0m in \u001b[0;36m<module>\u001b[0;34m()\u001b[0m\n\u001b[1;32m     10\u001b[0m \"\"\"\n\u001b[1;32m     11\u001b[0m \u001b[0;34m\u001b[0m\u001b[0m\n\u001b[0;32m---> 12\u001b[0;31m \u001b[0;32mfrom\u001b[0m \u001b[0msix\u001b[0m\u001b[0;34m.\u001b[0m\u001b[0mmoves\u001b[0m\u001b[0;34m.\u001b[0m\u001b[0mtkinter\u001b[0m \u001b[0;32mimport\u001b[0m \u001b[0mIntVar\u001b[0m\u001b[0;34m,\u001b[0m \u001b[0mMenu\u001b[0m\u001b[0;34m,\u001b[0m \u001b[0mTk\u001b[0m\u001b[0;34m\u001b[0m\u001b[0m\n\u001b[0m\u001b[1;32m     13\u001b[0m \u001b[0;34m\u001b[0m\u001b[0m\n\u001b[1;32m     14\u001b[0m \u001b[0;32mfrom\u001b[0m \u001b[0mnltk\u001b[0m\u001b[0;34m.\u001b[0m\u001b[0mutil\u001b[0m \u001b[0;32mimport\u001b[0m \u001b[0min_idle\u001b[0m\u001b[0;34m\u001b[0m\u001b[0m\n",
      "\u001b[0;32m~/.virtualenvs/erin/lib/python3.4/site-packages/six.py\u001b[0m in \u001b[0;36mload_module\u001b[0;34m(self, fullname)\u001b[0m\n\u001b[1;32m    201\u001b[0m         \u001b[0mmod\u001b[0m \u001b[0;34m=\u001b[0m \u001b[0mself\u001b[0m\u001b[0;34m.\u001b[0m\u001b[0m__get_module\u001b[0m\u001b[0;34m(\u001b[0m\u001b[0mfullname\u001b[0m\u001b[0;34m)\u001b[0m\u001b[0;34m\u001b[0m\u001b[0m\n\u001b[1;32m    202\u001b[0m         \u001b[0;32mif\u001b[0m \u001b[0misinstance\u001b[0m\u001b[0;34m(\u001b[0m\u001b[0mmod\u001b[0m\u001b[0;34m,\u001b[0m \u001b[0mMovedModule\u001b[0m\u001b[0;34m)\u001b[0m\u001b[0;34m:\u001b[0m\u001b[0;34m\u001b[0m\u001b[0m\n\u001b[0;32m--> 203\u001b[0;31m             \u001b[0mmod\u001b[0m \u001b[0;34m=\u001b[0m \u001b[0mmod\u001b[0m\u001b[0;34m.\u001b[0m\u001b[0m_resolve\u001b[0m\u001b[0;34m(\u001b[0m\u001b[0;34m)\u001b[0m\u001b[0;34m\u001b[0m\u001b[0m\n\u001b[0m\u001b[1;32m    204\u001b[0m         \u001b[0;32melse\u001b[0m\u001b[0;34m:\u001b[0m\u001b[0;34m\u001b[0m\u001b[0m\n\u001b[1;32m    205\u001b[0m             \u001b[0mmod\u001b[0m\u001b[0;34m.\u001b[0m\u001b[0m__loader__\u001b[0m \u001b[0;34m=\u001b[0m \u001b[0mself\u001b[0m\u001b[0;34m\u001b[0m\u001b[0m\n",
      "\u001b[0;32m~/.virtualenvs/erin/lib/python3.4/site-packages/six.py\u001b[0m in \u001b[0;36m_resolve\u001b[0;34m(self)\u001b[0m\n\u001b[1;32m    113\u001b[0m \u001b[0;34m\u001b[0m\u001b[0m\n\u001b[1;32m    114\u001b[0m     \u001b[0;32mdef\u001b[0m \u001b[0m_resolve\u001b[0m\u001b[0;34m(\u001b[0m\u001b[0mself\u001b[0m\u001b[0;34m)\u001b[0m\u001b[0;34m:\u001b[0m\u001b[0;34m\u001b[0m\u001b[0m\n\u001b[0;32m--> 115\u001b[0;31m         \u001b[0;32mreturn\u001b[0m \u001b[0m_import_module\u001b[0m\u001b[0;34m(\u001b[0m\u001b[0mself\u001b[0m\u001b[0;34m.\u001b[0m\u001b[0mmod\u001b[0m\u001b[0;34m)\u001b[0m\u001b[0;34m\u001b[0m\u001b[0m\n\u001b[0m\u001b[1;32m    116\u001b[0m \u001b[0;34m\u001b[0m\u001b[0m\n\u001b[1;32m    117\u001b[0m     \u001b[0;32mdef\u001b[0m \u001b[0m__getattr__\u001b[0m\u001b[0;34m(\u001b[0m\u001b[0mself\u001b[0m\u001b[0;34m,\u001b[0m \u001b[0mattr\u001b[0m\u001b[0;34m)\u001b[0m\u001b[0;34m:\u001b[0m\u001b[0;34m\u001b[0m\u001b[0m\n",
      "\u001b[0;32m~/.virtualenvs/erin/lib/python3.4/site-packages/six.py\u001b[0m in \u001b[0;36m_import_module\u001b[0;34m(name)\u001b[0m\n\u001b[1;32m     80\u001b[0m \u001b[0;32mdef\u001b[0m \u001b[0m_import_module\u001b[0m\u001b[0;34m(\u001b[0m\u001b[0mname\u001b[0m\u001b[0;34m)\u001b[0m\u001b[0;34m:\u001b[0m\u001b[0;34m\u001b[0m\u001b[0m\n\u001b[1;32m     81\u001b[0m     \u001b[0;34m\"\"\"Import module, returning the module after the last dot.\"\"\"\u001b[0m\u001b[0;34m\u001b[0m\u001b[0m\n\u001b[0;32m---> 82\u001b[0;31m     \u001b[0m__import__\u001b[0m\u001b[0;34m(\u001b[0m\u001b[0mname\u001b[0m\u001b[0;34m)\u001b[0m\u001b[0;34m\u001b[0m\u001b[0m\n\u001b[0m\u001b[1;32m     83\u001b[0m     \u001b[0;32mreturn\u001b[0m \u001b[0msys\u001b[0m\u001b[0;34m.\u001b[0m\u001b[0mmodules\u001b[0m\u001b[0;34m[\u001b[0m\u001b[0mname\u001b[0m\u001b[0;34m]\u001b[0m\u001b[0;34m\u001b[0m\u001b[0m\n\u001b[1;32m     84\u001b[0m \u001b[0;34m\u001b[0m\u001b[0m\n",
      "\u001b[0;32m/usr/lib/python3.4/tkinter/__init__.py\u001b[0m in \u001b[0;36m<module>\u001b[0;34m()\u001b[0m\n\u001b[1;32m     39\u001b[0m     \u001b[0;32mimport\u001b[0m \u001b[0m_tkinter\u001b[0m\u001b[0;34m\u001b[0m\u001b[0m\n\u001b[1;32m     40\u001b[0m \u001b[0;32mexcept\u001b[0m \u001b[0mImportError\u001b[0m \u001b[0;32mas\u001b[0m \u001b[0mmsg\u001b[0m\u001b[0;34m:\u001b[0m\u001b[0;34m\u001b[0m\u001b[0m\n\u001b[0;32m---> 41\u001b[0;31m     \u001b[0;32mraise\u001b[0m \u001b[0mImportError\u001b[0m\u001b[0;34m(\u001b[0m\u001b[0mstr\u001b[0m\u001b[0;34m(\u001b[0m\u001b[0mmsg\u001b[0m\u001b[0;34m)\u001b[0m \u001b[0;34m+\u001b[0m \u001b[0;34m', please install the python3-tk package'\u001b[0m\u001b[0;34m)\u001b[0m\u001b[0;34m\u001b[0m\u001b[0m\n\u001b[0m\u001b[1;32m     42\u001b[0m \u001b[0mTclError\u001b[0m \u001b[0;34m=\u001b[0m \u001b[0m_tkinter\u001b[0m\u001b[0;34m.\u001b[0m\u001b[0mTclError\u001b[0m\u001b[0;34m\u001b[0m\u001b[0m\n\u001b[1;32m     43\u001b[0m \u001b[0;32mfrom\u001b[0m \u001b[0mtkinter\u001b[0m\u001b[0;34m.\u001b[0m\u001b[0mconstants\u001b[0m \u001b[0;32mimport\u001b[0m \u001b[0;34m*\u001b[0m\u001b[0;34m\u001b[0m\u001b[0m\n",
      "\u001b[0;31mImportError\u001b[0m: No module named '_tkinter', please install the python3-tk package"
     ]
    },
    {
     "data": {
      "text/plain": [
       "Tree('S', [('the', 'DT'), Tree('PROPER_NOUN', [('little', 'NNP'), ('yellow', 'NNP'), ('dog', 'NNP')]), ('barked', 'VBD'), Tree('PROPER_NOUN', [('at', 'NNP')]), ('the', 'DT'), ('cat', 'NN')])"
      ]
     },
     "execution_count": 35,
     "metadata": {},
     "output_type": "execute_result"
    }
   ],
   "source": [
    "result"
   ]
  },
  {
   "cell_type": "code",
   "execution_count": 36,
   "metadata": {
    "collapsed": true
   },
   "outputs": [],
   "source": [
    "proper_nouns = [word for word, pos in tagged_all_text if len(word) > 1 and pos == 'NNP']"
   ]
  },
  {
   "cell_type": "code",
   "execution_count": 37,
   "metadata": {
    "collapsed": true
   },
   "outputs": [],
   "source": [
    "mentioned_proper_nouns = all_names.intersection(proper_nouns)"
   ]
  },
  {
   "cell_type": "code",
   "execution_count": 38,
   "metadata": {},
   "outputs": [
    {
     "data": {
      "text/plain": [
       "{'Aimee',\n",
       " 'Andrew',\n",
       " 'Anita',\n",
       " 'Apollo',\n",
       " 'Archie',\n",
       " 'Becky',\n",
       " 'Bill',\n",
       " 'Brenda',\n",
       " 'Cameron',\n",
       " 'Carl',\n",
       " 'Carmen',\n",
       " 'Carrie',\n",
       " 'Charles',\n",
       " 'Chief',\n",
       " 'Chris',\n",
       " 'Daniel',\n",
       " 'Dean',\n",
       " 'Dot',\n",
       " 'Doug',\n",
       " 'Elaine',\n",
       " 'Eli',\n",
       " 'Eliza',\n",
       " 'Eric',\n",
       " 'Frank',\n",
       " 'Georgina',\n",
       " 'Greg',\n",
       " 'Harold',\n",
       " 'Isabelle',\n",
       " 'Jane',\n",
       " 'Jasper',\n",
       " 'Jean',\n",
       " 'Jen',\n",
       " 'Jerry',\n",
       " 'Jessica',\n",
       " 'Joe',\n",
       " 'John',\n",
       " 'Julia',\n",
       " 'Karen',\n",
       " 'Kenneth',\n",
       " 'Kennon',\n",
       " 'Kevin',\n",
       " 'Lee',\n",
       " 'Linda',\n",
       " 'Liz',\n",
       " 'Lloyd',\n",
       " 'Lois',\n",
       " 'Lyndsay',\n",
       " 'Mark',\n",
       " 'Mickey',\n",
       " 'Morris',\n",
       " 'Myrna',\n",
       " 'Naomi',\n",
       " 'PD',\n",
       " 'Pat',\n",
       " 'Patricia',\n",
       " 'Patty',\n",
       " 'Paul',\n",
       " 'Rachel',\n",
       " 'Ralph',\n",
       " 'Rita',\n",
       " 'Ron',\n",
       " 'Rose',\n",
       " 'Sarah',\n",
       " 'Stanley',\n",
       " 'Stuart',\n",
       " 'Suzie',\n",
       " 'Terry',\n",
       " 'Tom',\n",
       " 'Vernon'}"
      ]
     },
     "execution_count": 38,
     "metadata": {},
     "output_type": "execute_result"
    }
   ],
   "source": [
    "mentioned_proper_nouns"
   ]
  },
  {
   "cell_type": "code",
   "execution_count": null,
   "metadata": {
    "collapsed": true
   },
   "outputs": [],
   "source": []
  },
  {
   "cell_type": "code",
   "execution_count": null,
   "metadata": {
    "collapsed": true
   },
   "outputs": [],
   "source": []
  },
  {
   "cell_type": "code",
   "execution_count": 39,
   "metadata": {
    "collapsed": true
   },
   "outputs": [],
   "source": [
    "qqq='hola me llamo antonio jimenez mavillard'"
   ]
  },
  {
   "cell_type": "code",
   "execution_count": 40,
   "metadata": {},
   "outputs": [
    {
     "data": {
      "text/plain": [
       "14"
      ]
     },
     "execution_count": 40,
     "metadata": {},
     "output_type": "execute_result"
    }
   ],
   "source": [
    "qqq.find('antonio')"
   ]
  },
  {
   "cell_type": "code",
   "execution_count": 41,
   "metadata": {},
   "outputs": [
    {
     "data": {
      "text/plain": [
       "-1"
      ]
     },
     "execution_count": 41,
     "metadata": {},
     "output_type": "execute_result"
    }
   ],
   "source": [
    "qqq.find('aantonio')"
   ]
  },
  {
   "cell_type": "code",
   "execution_count": 42,
   "metadata": {},
   "outputs": [
    {
     "data": {
      "text/plain": [
       "14"
      ]
     },
     "execution_count": 42,
     "metadata": {},
     "output_type": "execute_result"
    }
   ],
   "source": [
    "qqq.index('antonio')"
   ]
  },
  {
   "cell_type": "code",
   "execution_count": 43,
   "metadata": {},
   "outputs": [
    {
     "ename": "ValueError",
     "evalue": "substring not found",
     "output_type": "error",
     "traceback": [
      "\u001b[0;31m---------------------------------------------------------------------------\u001b[0m",
      "\u001b[0;31mValueError\u001b[0m                                Traceback (most recent call last)",
      "\u001b[0;32m<ipython-input-43-49624a2bc8f2>\u001b[0m in \u001b[0;36m<module>\u001b[0;34m()\u001b[0m\n\u001b[0;32m----> 1\u001b[0;31m \u001b[0mqqq\u001b[0m\u001b[0;34m.\u001b[0m\u001b[0mindex\u001b[0m\u001b[0;34m(\u001b[0m\u001b[0;34m'aantonio'\u001b[0m\u001b[0;34m)\u001b[0m\u001b[0;34m\u001b[0m\u001b[0m\n\u001b[0m",
      "\u001b[0;31mValueError\u001b[0m: substring not found"
     ]
    }
   ],
   "source": [
    "qqq.index('aantonio')"
   ]
  },
  {
   "cell_type": "markdown",
   "metadata": {},
   "source": [
    "## Saving data"
   ]
  },
  {
   "cell_type": "code",
   "execution_count": null,
   "metadata": {
    "collapsed": true
   },
   "outputs": [],
   "source": [
    "# transcripts_df.to_csv('data/out/transcripts_2.csv', index=False)"
   ]
  },
  {
   "cell_type": "code",
   "execution_count": null,
   "metadata": {
    "collapsed": true
   },
   "outputs": [],
   "source": []
  }
 ],
 "metadata": {
  "kernelspec": {
   "display_name": "Python 3",
   "language": "python",
   "name": "python3"
  },
  "language_info": {
   "codemirror_mode": {
    "name": "ipython",
    "version": 3
   },
   "file_extension": ".py",
   "mimetype": "text/x-python",
   "name": "python",
   "nbconvert_exporter": "python",
   "pygments_lexer": "ipython3",
   "version": "3.4.3"
  }
 },
 "nbformat": 4,
 "nbformat_minor": 2
}
